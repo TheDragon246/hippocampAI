{
 "cells": [
  {
   "cell_type": "markdown",
   "id": "046b6a2d-e6a0-4df9-b6cb-6ef5371302a0",
   "metadata": {},
   "source": [
    "## Workflow (do not run)"
   ]
  },
  {
   "cell_type": "markdown",
   "id": "5ade4989-c7ed-4b59-a7a4-143b8a493bc2",
   "metadata": {
    "tags": []
   },
   "source": [
    "Original data source - https://ood.rc.ufl.edu/pun/sys/dashboard/files/fs//blue/stevenweisberg/share/ai_catalyst_silcton/derivatives/sourcedata/freesurfer\n",
    "\n",
    "copied to - https://ood.rc.ufl.edu/pun/sys/dashboard/files/fs//blue/stevenweisberg/ashishkumarsahoo/difumo/Data/freesurfer_121023/freesurfer"
   ]
  },
  {
   "cell_type": "markdown",
   "id": "df6d4556-874f-4ebc-95e6-f9f0187669db",
   "metadata": {},
   "source": [
    "Mask created using aparc+aseg.mgz -> aparc+aseg_standardized.mgz, same from brain data, brain.mgz -> brain_standardized.mgz\n",
    "\n",
    "For participants with default 1mm3 size, standardized files are just copies"
   ]
  },
  {
   "cell_type": "code",
   "execution_count": 2,
   "id": "8089ab36-a503-43fb-ae24-b9519bc04946",
   "metadata": {
    "tags": []
   },
   "outputs": [],
   "source": [
    "# Updated Python script for proper 1mm³ resampling\n",
    "# MAINLY TO DOWNSAMPLE APARC+ASEG.MGZ FOR 0.8MM3 TO 1MM3 TO BE IN LINE WITH OTHER PARTICIPANTS\n",
    "\n",
    "# Define the list of subject IDs\n",
    "subjects = [\n",
    "    1053, 1054, 1055, 1056, 1057, 1058, 1059, 1060, 1061, 1062,\n",
    "    1063, 1064, 1065, 1066, 1067, 1068, 1069, 1070, 1071, 1072,\n",
    "    1074, 1075, 1076, 1077, 1078, 1079, 1080\n",
    "]\n",
    "\n",
    "# Define a function to generate commands (2 commands per subject)\n",
    "def generate_commands(subject_id):\n",
    "    base_path = f\"/blue/stevenweisberg/ashishkumarsahoo/difumo/Data/freesurfer_121023/freesurfer/sub-{subject_id}/mri\"\n",
    "    \n",
    "    # First command: create 1mm³ template\n",
    "    cmd1 = f\"mri_convert {base_path}/orig.mgz {base_path}/orig_1mm.mgz -c\"\n",
    "    \n",
    "    # Second command: use mri_label2vol with the 1mm³ template\n",
    "    cmd2 = (f\"mri_label2vol --seg {base_path}/aparc+aseg.mgz --temp {base_path}/orig_1mm.mgz \"\n",
    "            f\"--regheader {base_path}/aparc+aseg.mgz --o {base_path}/aparc+aseg_standardized.mgz --fillthresh 0.3\")\n",
    "    \n",
    "    return [cmd1, cmd2]\n",
    "\n",
    "# Generate all commands\n",
    "all_commands = []\n",
    "for subject in subjects:\n",
    "    all_commands.extend(generate_commands(subject))\n",
    "\n",
    "# Define the output file name\n",
    "output_file = \"aparc+aseg_standardized_fixed.txt\"\n",
    "\n",
    "# Save the commands to the output file\n",
    "with open(output_file, \"w\") as file:\n",
    "    for command in all_commands:\n",
    "        file.write(command + \"\\n\")\n",
    "\n",
    "print(f\"Commands saved to {output_file}\")\n",
    "print(f\"Total commands generated: {len(all_commands)}\")"
   ]
  },
  {
   "cell_type": "code",
   "execution_count": null,
   "id": "2dd807c0-f296-4237-8784-5c4d5d602863",
   "metadata": {},
   "outputs": [],
   "source": [
    "# MAINLY TO DOWNSAMPLE BRAIN.MGZ FOR 0.8MM3 TO 1MM3 TO BE IN LINE WITH OTHER PARTICIPANTS\n",
    "\n",
    "# Define the list of subject IDs\n",
    "subjects = [\n",
    "    1053, 1054, 1055, 1056, 1057, 1058, 1059, 1060, 1061, 1062,\n",
    "    1063, 1064, 1065, 1066, 1067, 1068, 1069, 1070, 1071, 1072,\n",
    "    1074, 1075, 1076, 1077, 1078, 1079, 1080\n",
    "]\n",
    "\n",
    "# Define a function to generate the mri_convert command\n",
    "def generate_mri_convert_command(subject_id):\n",
    "    input_path = f\"/blue/stevenweisberg/ashishkumarsahoo/difumo/Data/freesurfer_121023/freesurfer/sub-{subject_id}/mri/brain.mgz\"\n",
    "    output_path = f\"/blue/stevenweisberg/ashishkumarsahoo/difumo/Data/freesurfer_121023/freesurfer/sub-{subject_id}/mri/brain_standardized.mgz\"\n",
    "    return f\"mri_convert -i {input_path} -o {output_path} -c\"\n",
    "\n",
    "# Generate the mri_convert commands for all subjects\n",
    "mri_convert_commands = [generate_mri_convert_command(subject) for subject in subjects]\n",
    "\n",
    "# Define the output file name\n",
    "output_file = \"brain_standarized.txt\"\n",
    "\n",
    "# Save the commands to the output file\n",
    "with open(output_file, \"w\") as file:\n",
    "    for command in mri_convert_commands:\n",
    "        file.write(command + \"\\n\")\n",
    "\n",
    "print(f\"Commands saved to {output_file}\")\n"
   ]
  },
  {
   "cell_type": "markdown",
   "id": "29e45584-6253-4f63-b0fc-941d4282f8d5",
   "metadata": {},
   "source": [
    "Binarize the mask - hippocampusmask_list = [\"mri_binarize --i /blue/stevenweisberg/ashishkumarsahoo/difumo/Data/freesurfer_121023/freesurfer/{}/mri/aparc+aseg_standardized.mgz --match 17 53 --o /blue/stevenweisberg/ashishkumarsahoo/difumo/Data/freesurfer_121023/freesurfer/{}/mri/hippocampus_new_standardized_mask.nii.gz\".format(subj, subj) for subj in subjs]\n"
   ]
  },
  {
   "cell_type": "markdown",
   "id": "1e9ad388-9df6-4c92-b1a1-2b0b9b6b0f43",
   "metadata": {},
   "source": [
    "apply mask"
   ]
  },
  {
   "cell_type": "code",
   "execution_count": 3,
   "id": "1b36801f-1250-4856-a5e3-6d1586aa9f21",
   "metadata": {
    "tags": []
   },
   "outputs": [],
   "source": [
    "import nibabel as nib\n",
    "import numpy as np\n",
    "\n",
    "# Lists containing filenames\n",
    "#raw_list = ['rawavg1.mgz', 'rawavg2.mgz', 'rawavg3.mgz']  # Replace with your rawavg_img filenames\n",
    "#mask_list = ['mask1.nii.gz', 'mask2.nii.gz', 'mask3.nii.gz']  # Replace with your hippocampus_mask filenames\n",
    "#output_list = ['masked_output1.nii.gz', 'masked_output2.nii.gz', 'masked_output3.nii.gz']  # Replace with desired output filenames\n",
    "\n",
    "for raw_file, mask_file, output_file in zip(brain_list, mask_list, output_list):\n",
    "    # Load the MRI image and mask\n",
    "    rawavg_img = nib.load(raw_file)\n",
    "    mask_img = nib.load(mask_file)\n",
    "\n",
    "    # Get the data arrays from the images\n",
    "    rawavg_data = rawavg_img.get_fdata()\n",
    "    mask_data = mask_img.get_fdata()\n",
    "\n",
    "    # Apply the mask\n",
    "    masked_data = np.where(mask_data == 1, rawavg_data, 0)\n",
    "\n",
    "    # Create a new NIfTI image with the masked data\n",
    "    masked_img = nib.Nifti1Image(masked_data, rawavg_img.affine)\n",
    "\n",
    "    # Save the masked image\n",
    "    nib.save(masked_img, output_file)\n",
    "\n",
    "    print(f\"Masking completed for {raw_file}. Output saved as {output_file}\")\n"
   ]
  },
  {
   "cell_type": "markdown",
   "id": "8fdc3a4b-7c75-4c33-8bbe-f36dc86ca39f",
   "metadata": {},
   "source": [
    "then normalize"
   ]
  },
  {
   "cell_type": "code",
   "execution_count": null,
   "id": "0d82e87f-bfe4-49d6-bd21-7c48c86a3779",
   "metadata": {},
   "outputs": [],
   "source": [
    "import os\n",
    "from nibabel import save, load\n",
    "import pandas as pd\n",
    "import nibabel\n",
    "from pandas import read_csv\n",
    "import numpy as np\n",
    "\n",
    "\n",
    "data_dir = '/blue/stevenweisberg/ashishkumarsahoo/difumo/Data/freesurfer_121023/amygdala_standardized'\n",
    "save_dir = '/blue/stevenweisberg/ashishkumarsahoo/difumo/Data/freesurfer_121023/amygdala_standardized_normalized'\n",
    "\n",
    "subjects = read_csv(r'/blue/stevenweisberg/ashishkumarsahoo/hippocampAI/participants.tsv',sep='\\t',header=0)\n",
    "subjs = subjects.participant_id\n",
    "\n",
    "        \n",
    "for subj in subjs:\n",
    "    subj_number = subj[4:]\n",
    "    t1_image_MNI = load('{}/sub-{}_amygdalamasked_brain_standardized.nii.gz'.format(data_dir,subj_number))\n",
    "    isExist = os.path.exists('{}/{}'.format(data_dir,subj))\n",
    "    if not isExist:\n",
    "        os.makedirs('{}/{}'.format(data_dir,subj))\n",
    "    img_data = t1_image_MNI.get_fdata()\n",
    "    points = np.argwhere(img_data)\n",
    "    # Normalize intensity with respect to the maximum value\n",
    "    #max_value = np.max(img_data)\n",
    "    min_value = np.min(img_data)\n",
    "    print ('min value for', subj_number, ' :', min_value)\n",
    "    max_value = np.max(img_data)\n",
    "    print ('max value for', subj_number, ' :', max_value)\n",
    "    #if min_value >= 0:\n",
    "        #print('error')\n",
    "    #print ('max value for', subj_number, ' :', max_value)\n",
    "    #img_data = img_data-min_value #REMOVED SINCE NO NEGATIVE VALUES EXIST\n",
    "    max_value = np.max(img_data)\n",
    "    normalized_data = img_data / max_value\n",
    "    if np.any(normalized_data < 0):\n",
    "        print('error')\n",
    "    np.save('{}/sub-{}_amygdalamasked_brain_standardized_noneg_normalized.npy'.format(save_dir,subj_number), normalized_data)\n",
    "    #print(subj)"
   ]
  }
 ],
 "metadata": {
  "kernelspec": {
   "display_name": "Python 3 (ipykernel)",
   "language": "python",
   "name": "python3"
  },
  "language_info": {
   "codemirror_mode": {
    "name": "ipython",
    "version": 3
   },
   "file_extension": ".py",
   "mimetype": "text/x-python",
   "name": "python",
   "nbconvert_exporter": "python",
   "pygments_lexer": "ipython3",
   "version": "3.10.12"
  }
 },
 "nbformat": 4,
 "nbformat_minor": 5
}
