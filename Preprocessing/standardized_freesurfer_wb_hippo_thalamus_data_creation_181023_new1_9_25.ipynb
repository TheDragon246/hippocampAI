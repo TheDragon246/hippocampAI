{
 "cells": [
  {
   "cell_type": "code",
   "execution_count": 2,
   "id": "5e29bf7b-0003-449e-abec-156d80634d86",
   "metadata": {},
   "outputs": [],
   "source": [
    "import pandas as pd\n"
   ]
  },
  {
   "cell_type": "code",
   "execution_count": 8,
   "id": "cc256c43-912f-42ae-95c3-967de809d616",
   "metadata": {
    "tags": []
   },
   "outputs": [
    {
     "name": "stdout",
     "output_type": "stream",
     "text": [
      "Commands saved to aparc+aseg_standarized.txt\n"
     ]
    }
   ],
   "source": [
    "# MAINLY TO DOWNSAMPLE ASEG_APARC.MGZ FOR 0.8MM3 TO 1MM3 TO BE IN LINE WITH OTHER PARTICIPANTS\n",
    "\n",
    "# Define the list of subject IDs\n",
    "subjects = [\n",
    "    1053, 1054, 1055, 1056, 1057, 1058, 1059, 1060, 1061, 1062,\n",
    "    1063, 1064, 1065, 1066, 1067, 1068, 1069, 1070, 1071, 1072,\n",
    "    1074, 1075, 1076, 1077, 1078, 1079, 1080\n",
    "]\n",
    "\n",
    "# Define a function to generate the mri_convert command\n",
    "def generate_mri_convert_command(subject_id):\n",
    "    input_path = f\"/blue/stevenweisberg/ashishkumarsahoo/difumo/Data/freesurfer_121023/freesurfer/sub-{subject_id}/mri/aparc+aseg.mgz\"\n",
    "    output_path = f\"/blue/stevenweisberg/ashishkumarsahoo/difumo/Data/freesurfer_121023/freesurfer/sub-{subject_id}/mri/aparc+aseg_standardized.mgz\"\n",
    "    return f\"mri_convert -i {input_path} -o {output_path} -c\"\n",
    "\n",
    "# Generate the mri_convert commands for all subjects\n",
    "mri_convert_commands = [generate_mri_convert_command(subject) for subject in subjects]\n",
    "\n",
    "# Define the output file name\n",
    "output_file = \"aparc+aseg_standarized.txt\"\n",
    "\n",
    "# Save the commands to the output file\n",
    "with open(output_file, \"w\") as file:\n",
    "    for command in mri_convert_commands:\n",
    "        file.write(command + \"\\n\")\n",
    "\n",
    "print(f\"Commands saved to {output_file}\")"
   ]
  },
  {
   "cell_type": "code",
   "execution_count": 3,
   "id": "fd8ec464-d473-46eb-b868-d8d27adfc6ac",
   "metadata": {
    "tags": []
   },
   "outputs": [],
   "source": [
    "subjects = pd.read_csv(r'/blue/stevenweisberg/ashishkumarsahoo/hippocampAI/participants.tsv',sep='\\t',header=0)\n",
    "subjs = subjects.participant_id"
   ]
  },
  {
   "cell_type": "code",
   "execution_count": 5,
   "id": "00f1ea89-1a89-48d0-9cbb-6515152f339d",
   "metadata": {
    "tags": []
   },
   "outputs": [],
   "source": [
    "#regions_dir = \"/blue/stevenweisberg/share/ai_catalyst_silcton/derivatives/sourcedata/freesurfer\"\n",
    "#region_name = \"MNI_whole_brain_0208\"\n",
    "#sw/ashishkumarsahoo/difumo/Data/hippocampus_090823/freesurfer/sub-1025/mri/aseg-in-rawavg.mgz\n",
    "\n",
    "standard_list = [\"cp -n /blue/stevenweisberg/ashishkumarsahoo/difumo/Data/freesurfer_121023/freesurfer/{}/mri/aparc+aseg.mgz /blue/stevenweisberg/ashishkumarsahoo/difumo/Data/freesurfer_121023/freesurfer/{}/mri/aparc+aseg_standardized.mgz\".format(subj, subj) for subj in subjs]\n",
    "\n",
    "with open('aparc+aseg_standard_list.txt', 'w') as f:\n",
    "    for standard in standard_list:\n",
    "        f.write(standard + '\\n')\n"
   ]
  },
  {
   "cell_type": "code",
   "execution_count": null,
   "id": "aad8be50-494e-4b4a-8ee6-54df8785dd0a",
   "metadata": {},
   "outputs": [],
   "source": []
  },
  {
   "cell_type": "code",
   "execution_count": 6,
   "id": "075827ff-ac36-42f5-b857-6a43ce16301a",
   "metadata": {
    "tags": []
   },
   "outputs": [
    {
     "name": "stdout",
     "output_type": "stream",
     "text": [
      "Commands saved to brain_standarized.txt\n"
     ]
    }
   ],
   "source": [
    "# MAINLY TO DOWNSAMPLE BRAIN.MGZ FOR 0.8MM3 TO 1MM3 TO BE IN LINE WITH OTHER PARTICIPANTS\n",
    "\n",
    "# Define the list of subject IDs\n",
    "subjects = [\n",
    "    1053, 1054, 1055, 1056, 1057, 1058, 1059, 1060, 1061, 1062,\n",
    "    1063, 1064, 1065, 1066, 1067, 1068, 1069, 1070, 1071, 1072,\n",
    "    1074, 1075, 1076, 1077, 1078, 1079, 1080\n",
    "]\n",
    "\n",
    "# Define a function to generate the mri_convert command\n",
    "def generate_mri_convert_command(subject_id):\n",
    "    input_path = f\"/blue/stevenweisberg/ashishkumarsahoo/difumo/Data/freesurfer_121023/freesurfer/sub-{subject_id}/mri/brain.mgz\"\n",
    "    output_path = f\"/blue/stevenweisberg/ashishkumarsahoo/difumo/Data/freesurfer_121023/freesurfer/sub-{subject_id}/mri/brain_standardized.mgz\"\n",
    "    return f\"mri_convert -i {input_path} -o {output_path} -c\"\n",
    "\n",
    "# Generate the mri_convert commands for all subjects\n",
    "mri_convert_commands = [generate_mri_convert_command(subject) for subject in subjects]\n",
    "\n",
    "# Define the output file name\n",
    "output_file = \"brain_standarized.txt\"\n",
    "\n",
    "# Save the commands to the output file\n",
    "with open(output_file, \"w\") as file:\n",
    "    for command in mri_convert_commands:\n",
    "        file.write(command + \"\\n\")\n",
    "\n",
    "print(f\"Commands saved to {output_file}\")\n"
   ]
  },
  {
   "cell_type": "code",
   "execution_count": null,
   "id": "d8a73811-c20d-4311-bf90-ccff38925398",
   "metadata": {},
   "outputs": [],
   "source": []
  },
  {
   "cell_type": "code",
   "execution_count": 3,
   "id": "cfa8db85-86b6-44de-877b-a2a2988b4471",
   "metadata": {
    "tags": []
   },
   "outputs": [],
   "source": [
    "subjects = pd.read_csv(r'/blue/stevenweisberg/ashishkumarsahoo/hippocampAI/participants.tsv',sep='\\t',header=0)\n",
    "subjs = subjects.participant_id"
   ]
  },
  {
   "cell_type": "code",
   "execution_count": 11,
   "id": "7fd6c684-b1dc-42b1-a4e2-6e49ba83c26e",
   "metadata": {
    "tags": []
   },
   "outputs": [],
   "source": [
    "#regions_dir = \"/blue/stevenweisberg/share/ai_catalyst_silcton/derivatives/sourcedata/freesurfer\"\n",
    "#region_name = \"MNI_whole_brain_0208\"\n",
    "#sw/ashishkumarsahoo/difumo/Data/hippocampus_090823/freesurfer/sub-1025/mri/aseg-in-rawavg.mgz\n",
    "\n",
    "standard_list = [\"cp -n /blue/stevenweisberg/ashishkumarsahoo/difumo/Data/freesurfer_121023/freesurfer/{}/mri/brain.mgz /blue/stevenweisberg/ashishkumarsahoo/difumo/Data/freesurfer_121023/freesurfer/{}/mri/brain_standardized.mgz\".format(subj, subj) for subj in subjs]\n",
    "\n",
    "with open('standard_list.txt', 'w') as f:\n",
    "    for standard in standard_list:\n",
    "        f.write(standard + '\\n')\n"
   ]
  },
  {
   "cell_type": "code",
   "execution_count": null,
   "id": "7f1c09e6-c093-49b2-9bab-ef87985919ba",
   "metadata": {},
   "outputs": [],
   "source": []
  },
  {
   "cell_type": "code",
   "execution_count": 17,
   "id": "f102980d-ecf1-4623-b7a2-8e3232c3f05f",
   "metadata": {
    "tags": []
   },
   "outputs": [
    {
     "name": "stdout",
     "output_type": "stream",
     "text": [
      "Commands saved to aseg_standarized.txt\n"
     ]
    }
   ],
   "source": [
    "# MAINLY TO DOWNSAMPLE BRAIN.MGZ FOR 0.8MM3 TO 1MM3 TO BE IN LINE WITH OTHER PARTICIPANTS\n",
    "\n",
    "# Define the list of subject IDs\n",
    "subjects = [\n",
    "    1053, 1054, 1055, 1056, 1057, 1058, 1059, 1060, 1061, 1062,\n",
    "    1063, 1064, 1065, 1066, 1067, 1068, 1069, 1070, 1071, 1072,\n",
    "    1074, 1075, 1076, 1077, 1078, 1079, 1080\n",
    "]\n",
    "\n",
    "# Define a function to generate the mri_convert command\n",
    "def generate_mri_convert_command(subject_id):\n",
    "    input_path = f\"/blue/stevenweisberg/ashishkumarsahoo/difumo/Data/freesurfer_121023/freesurfer/sub-{subject_id}/mri/aseg.mgz\"\n",
    "    output_path = f\"/blue/stevenweisberg/ashishkumarsahoo/difumo/Data/freesurfer_121023/freesurfer/sub-{subject_id}/mri/aseg_standardized.mgz\"\n",
    "    return f\"mri_convert -i {input_path} -o {output_path} -c\"\n",
    "\n",
    "# Generate the mri_convert commands for all subjects\n",
    "mri_convert_commands = [generate_mri_convert_command(subject) for subject in subjects]\n",
    "\n",
    "# Define the output file name\n",
    "output_file = \"aseg_standarized.txt\"\n",
    "\n",
    "# Save the commands to the output file\n",
    "with open(output_file, \"w\") as file:\n",
    "    for command in mri_convert_commands:\n",
    "        file.write(command + \"\\n\")\n",
    "\n",
    "print(f\"Commands saved to {output_file}\")"
   ]
  },
  {
   "cell_type": "code",
   "execution_count": 18,
   "id": "c77c1ece-23cd-41e8-9497-88ccb0ab2782",
   "metadata": {
    "tags": []
   },
   "outputs": [],
   "source": [
    "subjects = pd.read_csv(r'/blue/stevenweisberg/ashishkumarsahoo/hippocampAI/participants.tsv',sep='\\t',header=0)\n",
    "subjs = subjects.participant_id\n",
    "regions_dir = \"/blue/stevenweisberg/share/ai_catalyst_silcton/derivatives/sourcedata/freesurfer\"\n",
    "#region_name = \"MNI_whole_brain_0208\"\n",
    "#sw/ashishkumarsahoo/difumo/Data/hippocampus_090823/freesurfer/sub-1025/mri/aseg-in-rawavg.mgz\n",
    "\n",
    "standard_list = [\"cp -n /blue/stevenweisberg/ashishkumarsahoo/difumo/Data/freesurfer_121023/freesurfer/{}/mri/aseg.mgz /blue/stevenweisberg/ashishkumarsahoo/difumo/Data/freesurfer_121023/freesurfer/{}/mri/aseg_standardized.mgz\".format(subj, subj) for subj in subjs]\n",
    "\n",
    "with open('aseg_standard_list.txt', 'w') as f:\n",
    "    for standard in standard_list:\n",
    "        f.write(standard + '\\n')"
   ]
  },
  {
   "cell_type": "code",
   "execution_count": null,
   "id": "6a02c77e-9186-410d-9a12-bb771cb15612",
   "metadata": {},
   "outputs": [],
   "source": []
  },
  {
   "cell_type": "code",
   "execution_count": 4,
   "id": "d55f07ec-2f0b-4d86-90d5-9b2e74e5261d",
   "metadata": {},
   "outputs": [],
   "source": [
    "subjects = pd.read_csv(r'/blue/stevenweisberg/ashishkumarsahoo/hippocampAI/participants.tsv',sep='\\t',header=0)\n",
    "subjs = subjects.participant_id\n",
    "#regions_dir = \"/blue/stevenweisberg/share/ai_catalyst_silcton/derivatives/sourcedata/freesurfer\"\n"
   ]
  },
  {
   "cell_type": "code",
   "execution_count": 14,
   "id": "448e8a0a-418b-4e69-9bb2-d14c321c5fd2",
   "metadata": {},
   "outputs": [],
   "source": []
  },
  {
   "cell_type": "markdown",
   "id": "ee87854a-0dac-4149-bacc-1023016773b1",
   "metadata": {},
   "source": [
    "### isthmuscingulate"
   ]
  },
  {
   "cell_type": "code",
   "execution_count": 6,
   "id": "43d85833-46f3-4e3d-b02c-75cad11074f9",
   "metadata": {
    "tags": []
   },
   "outputs": [],
   "source": [
    "isthmuscingulatemask_list = [\"mri_binarize --i /blue/stevenweisberg/ashishkumarsahoo/difumo/Data/freesurfer_121023/freesurfer/{}/mri/aparc+aseg_standardized.mgz --match 1010 2010 --o /blue/stevenweisberg/ashishkumarsahoo/difumo/Data/freesurfer_121023/freesurfer/{}/mri/isthmuscingulate_standardized_mask.nii.gz\".format(subj, subj) for subj in subjs]"
   ]
  },
  {
   "cell_type": "code",
   "execution_count": 7,
   "id": "f1b6834e-db5e-4ac9-be79-b2bd385ea5da",
   "metadata": {
    "tags": []
   },
   "outputs": [],
   "source": [
    "with open('isthmuscingulatemask_standardized_list.txt', 'w') as f:\n",
    "    for isthmuscingulatemask in isthmuscingulatemask_list:\n",
    "        f.write(isthmuscingulatemask + '\\n')"
   ]
  },
  {
   "cell_type": "code",
   "execution_count": 7,
   "id": "83e70447-e6cd-4999-92fa-5c8010f6c182",
   "metadata": {
    "tags": []
   },
   "outputs": [],
   "source": [
    "brain_list = [\"/blue/stevenweisberg/ashishkumarsahoo/difumo/Data/freesurfer_121023/freesurfer/{}/mri/brain_standardized.mgz\".format(subj) for subj in subjs]\n",
    "mask_list = [\"/blue/stevenweisberg/ashishkumarsahoo/difumo/Data/freesurfer_121023/freesurfer/{}/mri//isthmuscingulate_standardized_mask.nii.gz\".format(subj) for subj in subjs]\n",
    "output_list = [\"/blue/stevenweisberg/ashishkumarsahoo/difumo/Data/freesurfer_121023/isthmuscingulate_standardized/{}_isthmuscingulatemasked_brain_standardized.nii.gz\".format(subj) for subj in subjs]"
   ]
  },
  {
   "cell_type": "code",
   "execution_count": 8,
   "id": "8d3af2c3-073a-4f3a-9428-4cae9603c7fa",
   "metadata": {
    "tags": []
   },
   "outputs": [
    {
     "name": "stdout",
     "output_type": "stream",
     "text": [
      "Masking completed for /blue/stevenweisberg/ashishkumarsahoo/difumo/Data/freesurfer_121023/freesurfer/sub-1002/mri/brain_standardized.mgz. Output saved as /blue/stevenweisberg/ashishkumarsahoo/difumo/Data/freesurfer_121023/isthmuscingulate_standardized/sub-1002_isthmuscingulatemasked_brain_standardized.nii.gz\n",
      "Masking completed for /blue/stevenweisberg/ashishkumarsahoo/difumo/Data/freesurfer_121023/freesurfer/sub-1003/mri/brain_standardized.mgz. Output saved as /blue/stevenweisberg/ashishkumarsahoo/difumo/Data/freesurfer_121023/isthmuscingulate_standardized/sub-1003_isthmuscingulatemasked_brain_standardized.nii.gz\n",
      "Masking completed for /blue/stevenweisberg/ashishkumarsahoo/difumo/Data/freesurfer_121023/freesurfer/sub-1004/mri/brain_standardized.mgz. Output saved as /blue/stevenweisberg/ashishkumarsahoo/difumo/Data/freesurfer_121023/isthmuscingulate_standardized/sub-1004_isthmuscingulatemasked_brain_standardized.nii.gz\n",
      "Masking completed for /blue/stevenweisberg/ashishkumarsahoo/difumo/Data/freesurfer_121023/freesurfer/sub-1005/mri/brain_standardized.mgz. Output saved as /blue/stevenweisberg/ashishkumarsahoo/difumo/Data/freesurfer_121023/isthmuscingulate_standardized/sub-1005_isthmuscingulatemasked_brain_standardized.nii.gz\n",
      "Masking completed for /blue/stevenweisberg/ashishkumarsahoo/difumo/Data/freesurfer_121023/freesurfer/sub-1006/mri/brain_standardized.mgz. Output saved as /blue/stevenweisberg/ashishkumarsahoo/difumo/Data/freesurfer_121023/isthmuscingulate_standardized/sub-1006_isthmuscingulatemasked_brain_standardized.nii.gz\n",
      "Masking completed for /blue/stevenweisberg/ashishkumarsahoo/difumo/Data/freesurfer_121023/freesurfer/sub-1007/mri/brain_standardized.mgz. Output saved as /blue/stevenweisberg/ashishkumarsahoo/difumo/Data/freesurfer_121023/isthmuscingulate_standardized/sub-1007_isthmuscingulatemasked_brain_standardized.nii.gz\n",
      "Masking completed for /blue/stevenweisberg/ashishkumarsahoo/difumo/Data/freesurfer_121023/freesurfer/sub-1008/mri/brain_standardized.mgz. Output saved as /blue/stevenweisberg/ashishkumarsahoo/difumo/Data/freesurfer_121023/isthmuscingulate_standardized/sub-1008_isthmuscingulatemasked_brain_standardized.nii.gz\n",
      "Masking completed for /blue/stevenweisberg/ashishkumarsahoo/difumo/Data/freesurfer_121023/freesurfer/sub-1009/mri/brain_standardized.mgz. Output saved as /blue/stevenweisberg/ashishkumarsahoo/difumo/Data/freesurfer_121023/isthmuscingulate_standardized/sub-1009_isthmuscingulatemasked_brain_standardized.nii.gz\n",
      "Masking completed for /blue/stevenweisberg/ashishkumarsahoo/difumo/Data/freesurfer_121023/freesurfer/sub-1010/mri/brain_standardized.mgz. Output saved as /blue/stevenweisberg/ashishkumarsahoo/difumo/Data/freesurfer_121023/isthmuscingulate_standardized/sub-1010_isthmuscingulatemasked_brain_standardized.nii.gz\n",
      "Masking completed for /blue/stevenweisberg/ashishkumarsahoo/difumo/Data/freesurfer_121023/freesurfer/sub-1011/mri/brain_standardized.mgz. Output saved as /blue/stevenweisberg/ashishkumarsahoo/difumo/Data/freesurfer_121023/isthmuscingulate_standardized/sub-1011_isthmuscingulatemasked_brain_standardized.nii.gz\n",
      "Masking completed for /blue/stevenweisberg/ashishkumarsahoo/difumo/Data/freesurfer_121023/freesurfer/sub-1012/mri/brain_standardized.mgz. Output saved as /blue/stevenweisberg/ashishkumarsahoo/difumo/Data/freesurfer_121023/isthmuscingulate_standardized/sub-1012_isthmuscingulatemasked_brain_standardized.nii.gz\n",
      "Masking completed for /blue/stevenweisberg/ashishkumarsahoo/difumo/Data/freesurfer_121023/freesurfer/sub-1013/mri/brain_standardized.mgz. Output saved as /blue/stevenweisberg/ashishkumarsahoo/difumo/Data/freesurfer_121023/isthmuscingulate_standardized/sub-1013_isthmuscingulatemasked_brain_standardized.nii.gz\n",
      "Masking completed for /blue/stevenweisberg/ashishkumarsahoo/difumo/Data/freesurfer_121023/freesurfer/sub-1014/mri/brain_standardized.mgz. Output saved as /blue/stevenweisberg/ashishkumarsahoo/difumo/Data/freesurfer_121023/isthmuscingulate_standardized/sub-1014_isthmuscingulatemasked_brain_standardized.nii.gz\n",
      "Masking completed for /blue/stevenweisberg/ashishkumarsahoo/difumo/Data/freesurfer_121023/freesurfer/sub-1015/mri/brain_standardized.mgz. Output saved as /blue/stevenweisberg/ashishkumarsahoo/difumo/Data/freesurfer_121023/isthmuscingulate_standardized/sub-1015_isthmuscingulatemasked_brain_standardized.nii.gz\n",
      "Masking completed for /blue/stevenweisberg/ashishkumarsahoo/difumo/Data/freesurfer_121023/freesurfer/sub-1016/mri/brain_standardized.mgz. Output saved as /blue/stevenweisberg/ashishkumarsahoo/difumo/Data/freesurfer_121023/isthmuscingulate_standardized/sub-1016_isthmuscingulatemasked_brain_standardized.nii.gz\n",
      "Masking completed for /blue/stevenweisberg/ashishkumarsahoo/difumo/Data/freesurfer_121023/freesurfer/sub-1017/mri/brain_standardized.mgz. Output saved as /blue/stevenweisberg/ashishkumarsahoo/difumo/Data/freesurfer_121023/isthmuscingulate_standardized/sub-1017_isthmuscingulatemasked_brain_standardized.nii.gz\n",
      "Masking completed for /blue/stevenweisberg/ashishkumarsahoo/difumo/Data/freesurfer_121023/freesurfer/sub-1018/mri/brain_standardized.mgz. Output saved as /blue/stevenweisberg/ashishkumarsahoo/difumo/Data/freesurfer_121023/isthmuscingulate_standardized/sub-1018_isthmuscingulatemasked_brain_standardized.nii.gz\n",
      "Masking completed for /blue/stevenweisberg/ashishkumarsahoo/difumo/Data/freesurfer_121023/freesurfer/sub-1019/mri/brain_standardized.mgz. Output saved as /blue/stevenweisberg/ashishkumarsahoo/difumo/Data/freesurfer_121023/isthmuscingulate_standardized/sub-1019_isthmuscingulatemasked_brain_standardized.nii.gz\n",
      "Masking completed for /blue/stevenweisberg/ashishkumarsahoo/difumo/Data/freesurfer_121023/freesurfer/sub-1020/mri/brain_standardized.mgz. Output saved as /blue/stevenweisberg/ashishkumarsahoo/difumo/Data/freesurfer_121023/isthmuscingulate_standardized/sub-1020_isthmuscingulatemasked_brain_standardized.nii.gz\n",
      "Masking completed for /blue/stevenweisberg/ashishkumarsahoo/difumo/Data/freesurfer_121023/freesurfer/sub-1022/mri/brain_standardized.mgz. Output saved as /blue/stevenweisberg/ashishkumarsahoo/difumo/Data/freesurfer_121023/isthmuscingulate_standardized/sub-1022_isthmuscingulatemasked_brain_standardized.nii.gz\n",
      "Masking completed for /blue/stevenweisberg/ashishkumarsahoo/difumo/Data/freesurfer_121023/freesurfer/sub-1023/mri/brain_standardized.mgz. Output saved as /blue/stevenweisberg/ashishkumarsahoo/difumo/Data/freesurfer_121023/isthmuscingulate_standardized/sub-1023_isthmuscingulatemasked_brain_standardized.nii.gz\n",
      "Masking completed for /blue/stevenweisberg/ashishkumarsahoo/difumo/Data/freesurfer_121023/freesurfer/sub-1024/mri/brain_standardized.mgz. Output saved as /blue/stevenweisberg/ashishkumarsahoo/difumo/Data/freesurfer_121023/isthmuscingulate_standardized/sub-1024_isthmuscingulatemasked_brain_standardized.nii.gz\n",
      "Masking completed for /blue/stevenweisberg/ashishkumarsahoo/difumo/Data/freesurfer_121023/freesurfer/sub-1025/mri/brain_standardized.mgz. Output saved as /blue/stevenweisberg/ashishkumarsahoo/difumo/Data/freesurfer_121023/isthmuscingulate_standardized/sub-1025_isthmuscingulatemasked_brain_standardized.nii.gz\n",
      "Masking completed for /blue/stevenweisberg/ashishkumarsahoo/difumo/Data/freesurfer_121023/freesurfer/sub-1026/mri/brain_standardized.mgz. Output saved as /blue/stevenweisberg/ashishkumarsahoo/difumo/Data/freesurfer_121023/isthmuscingulate_standardized/sub-1026_isthmuscingulatemasked_brain_standardized.nii.gz\n",
      "Masking completed for /blue/stevenweisberg/ashishkumarsahoo/difumo/Data/freesurfer_121023/freesurfer/sub-1027/mri/brain_standardized.mgz. Output saved as /blue/stevenweisberg/ashishkumarsahoo/difumo/Data/freesurfer_121023/isthmuscingulate_standardized/sub-1027_isthmuscingulatemasked_brain_standardized.nii.gz\n",
      "Masking completed for /blue/stevenweisberg/ashishkumarsahoo/difumo/Data/freesurfer_121023/freesurfer/sub-1028/mri/brain_standardized.mgz. Output saved as /blue/stevenweisberg/ashishkumarsahoo/difumo/Data/freesurfer_121023/isthmuscingulate_standardized/sub-1028_isthmuscingulatemasked_brain_standardized.nii.gz\n",
      "Masking completed for /blue/stevenweisberg/ashishkumarsahoo/difumo/Data/freesurfer_121023/freesurfer/sub-1029/mri/brain_standardized.mgz. Output saved as /blue/stevenweisberg/ashishkumarsahoo/difumo/Data/freesurfer_121023/isthmuscingulate_standardized/sub-1029_isthmuscingulatemasked_brain_standardized.nii.gz\n",
      "Masking completed for /blue/stevenweisberg/ashishkumarsahoo/difumo/Data/freesurfer_121023/freesurfer/sub-1030/mri/brain_standardized.mgz. Output saved as /blue/stevenweisberg/ashishkumarsahoo/difumo/Data/freesurfer_121023/isthmuscingulate_standardized/sub-1030_isthmuscingulatemasked_brain_standardized.nii.gz\n",
      "Masking completed for /blue/stevenweisberg/ashishkumarsahoo/difumo/Data/freesurfer_121023/freesurfer/sub-1031/mri/brain_standardized.mgz. Output saved as /blue/stevenweisberg/ashishkumarsahoo/difumo/Data/freesurfer_121023/isthmuscingulate_standardized/sub-1031_isthmuscingulatemasked_brain_standardized.nii.gz\n",
      "Masking completed for /blue/stevenweisberg/ashishkumarsahoo/difumo/Data/freesurfer_121023/freesurfer/sub-1032/mri/brain_standardized.mgz. Output saved as /blue/stevenweisberg/ashishkumarsahoo/difumo/Data/freesurfer_121023/isthmuscingulate_standardized/sub-1032_isthmuscingulatemasked_brain_standardized.nii.gz\n",
      "Masking completed for /blue/stevenweisberg/ashishkumarsahoo/difumo/Data/freesurfer_121023/freesurfer/sub-1033/mri/brain_standardized.mgz. Output saved as /blue/stevenweisberg/ashishkumarsahoo/difumo/Data/freesurfer_121023/isthmuscingulate_standardized/sub-1033_isthmuscingulatemasked_brain_standardized.nii.gz\n",
      "Masking completed for /blue/stevenweisberg/ashishkumarsahoo/difumo/Data/freesurfer_121023/freesurfer/sub-1034/mri/brain_standardized.mgz. Output saved as /blue/stevenweisberg/ashishkumarsahoo/difumo/Data/freesurfer_121023/isthmuscingulate_standardized/sub-1034_isthmuscingulatemasked_brain_standardized.nii.gz\n",
      "Masking completed for /blue/stevenweisberg/ashishkumarsahoo/difumo/Data/freesurfer_121023/freesurfer/sub-1035/mri/brain_standardized.mgz. Output saved as /blue/stevenweisberg/ashishkumarsahoo/difumo/Data/freesurfer_121023/isthmuscingulate_standardized/sub-1035_isthmuscingulatemasked_brain_standardized.nii.gz\n",
      "Masking completed for /blue/stevenweisberg/ashishkumarsahoo/difumo/Data/freesurfer_121023/freesurfer/sub-1036/mri/brain_standardized.mgz. Output saved as /blue/stevenweisberg/ashishkumarsahoo/difumo/Data/freesurfer_121023/isthmuscingulate_standardized/sub-1036_isthmuscingulatemasked_brain_standardized.nii.gz\n",
      "Masking completed for /blue/stevenweisberg/ashishkumarsahoo/difumo/Data/freesurfer_121023/freesurfer/sub-1037/mri/brain_standardized.mgz. Output saved as /blue/stevenweisberg/ashishkumarsahoo/difumo/Data/freesurfer_121023/isthmuscingulate_standardized/sub-1037_isthmuscingulatemasked_brain_standardized.nii.gz\n",
      "Masking completed for /blue/stevenweisberg/ashishkumarsahoo/difumo/Data/freesurfer_121023/freesurfer/sub-1038/mri/brain_standardized.mgz. Output saved as /blue/stevenweisberg/ashishkumarsahoo/difumo/Data/freesurfer_121023/isthmuscingulate_standardized/sub-1038_isthmuscingulatemasked_brain_standardized.nii.gz\n",
      "Masking completed for /blue/stevenweisberg/ashishkumarsahoo/difumo/Data/freesurfer_121023/freesurfer/sub-1039/mri/brain_standardized.mgz. Output saved as /blue/stevenweisberg/ashishkumarsahoo/difumo/Data/freesurfer_121023/isthmuscingulate_standardized/sub-1039_isthmuscingulatemasked_brain_standardized.nii.gz\n",
      "Masking completed for /blue/stevenweisberg/ashishkumarsahoo/difumo/Data/freesurfer_121023/freesurfer/sub-1040/mri/brain_standardized.mgz. Output saved as /blue/stevenweisberg/ashishkumarsahoo/difumo/Data/freesurfer_121023/isthmuscingulate_standardized/sub-1040_isthmuscingulatemasked_brain_standardized.nii.gz\n",
      "Masking completed for /blue/stevenweisberg/ashishkumarsahoo/difumo/Data/freesurfer_121023/freesurfer/sub-1041/mri/brain_standardized.mgz. Output saved as /blue/stevenweisberg/ashishkumarsahoo/difumo/Data/freesurfer_121023/isthmuscingulate_standardized/sub-1041_isthmuscingulatemasked_brain_standardized.nii.gz\n",
      "Masking completed for /blue/stevenweisberg/ashishkumarsahoo/difumo/Data/freesurfer_121023/freesurfer/sub-1042/mri/brain_standardized.mgz. Output saved as /blue/stevenweisberg/ashishkumarsahoo/difumo/Data/freesurfer_121023/isthmuscingulate_standardized/sub-1042_isthmuscingulatemasked_brain_standardized.nii.gz\n",
      "Masking completed for /blue/stevenweisberg/ashishkumarsahoo/difumo/Data/freesurfer_121023/freesurfer/sub-1043/mri/brain_standardized.mgz. Output saved as /blue/stevenweisberg/ashishkumarsahoo/difumo/Data/freesurfer_121023/isthmuscingulate_standardized/sub-1043_isthmuscingulatemasked_brain_standardized.nii.gz\n",
      "Masking completed for /blue/stevenweisberg/ashishkumarsahoo/difumo/Data/freesurfer_121023/freesurfer/sub-1044/mri/brain_standardized.mgz. Output saved as /blue/stevenweisberg/ashishkumarsahoo/difumo/Data/freesurfer_121023/isthmuscingulate_standardized/sub-1044_isthmuscingulatemasked_brain_standardized.nii.gz\n",
      "Masking completed for /blue/stevenweisberg/ashishkumarsahoo/difumo/Data/freesurfer_121023/freesurfer/sub-1045/mri/brain_standardized.mgz. Output saved as /blue/stevenweisberg/ashishkumarsahoo/difumo/Data/freesurfer_121023/isthmuscingulate_standardized/sub-1045_isthmuscingulatemasked_brain_standardized.nii.gz\n",
      "Masking completed for /blue/stevenweisberg/ashishkumarsahoo/difumo/Data/freesurfer_121023/freesurfer/sub-1046/mri/brain_standardized.mgz. Output saved as /blue/stevenweisberg/ashishkumarsahoo/difumo/Data/freesurfer_121023/isthmuscingulate_standardized/sub-1046_isthmuscingulatemasked_brain_standardized.nii.gz\n",
      "Masking completed for /blue/stevenweisberg/ashishkumarsahoo/difumo/Data/freesurfer_121023/freesurfer/sub-1047/mri/brain_standardized.mgz. Output saved as /blue/stevenweisberg/ashishkumarsahoo/difumo/Data/freesurfer_121023/isthmuscingulate_standardized/sub-1047_isthmuscingulatemasked_brain_standardized.nii.gz\n",
      "Masking completed for /blue/stevenweisberg/ashishkumarsahoo/difumo/Data/freesurfer_121023/freesurfer/sub-1048/mri/brain_standardized.mgz. Output saved as /blue/stevenweisberg/ashishkumarsahoo/difumo/Data/freesurfer_121023/isthmuscingulate_standardized/sub-1048_isthmuscingulatemasked_brain_standardized.nii.gz\n",
      "Masking completed for /blue/stevenweisberg/ashishkumarsahoo/difumo/Data/freesurfer_121023/freesurfer/sub-1049/mri/brain_standardized.mgz. Output saved as /blue/stevenweisberg/ashishkumarsahoo/difumo/Data/freesurfer_121023/isthmuscingulate_standardized/sub-1049_isthmuscingulatemasked_brain_standardized.nii.gz\n",
      "Masking completed for /blue/stevenweisberg/ashishkumarsahoo/difumo/Data/freesurfer_121023/freesurfer/sub-1050/mri/brain_standardized.mgz. Output saved as /blue/stevenweisberg/ashishkumarsahoo/difumo/Data/freesurfer_121023/isthmuscingulate_standardized/sub-1050_isthmuscingulatemasked_brain_standardized.nii.gz\n",
      "Masking completed for /blue/stevenweisberg/ashishkumarsahoo/difumo/Data/freesurfer_121023/freesurfer/sub-1051/mri/brain_standardized.mgz. Output saved as /blue/stevenweisberg/ashishkumarsahoo/difumo/Data/freesurfer_121023/isthmuscingulate_standardized/sub-1051_isthmuscingulatemasked_brain_standardized.nii.gz\n",
      "Masking completed for /blue/stevenweisberg/ashishkumarsahoo/difumo/Data/freesurfer_121023/freesurfer/sub-1052/mri/brain_standardized.mgz. Output saved as /blue/stevenweisberg/ashishkumarsahoo/difumo/Data/freesurfer_121023/isthmuscingulate_standardized/sub-1052_isthmuscingulatemasked_brain_standardized.nii.gz\n",
      "Masking completed for /blue/stevenweisberg/ashishkumarsahoo/difumo/Data/freesurfer_121023/freesurfer/sub-1053/mri/brain_standardized.mgz. Output saved as /blue/stevenweisberg/ashishkumarsahoo/difumo/Data/freesurfer_121023/isthmuscingulate_standardized/sub-1053_isthmuscingulatemasked_brain_standardized.nii.gz\n",
      "Masking completed for /blue/stevenweisberg/ashishkumarsahoo/difumo/Data/freesurfer_121023/freesurfer/sub-1054/mri/brain_standardized.mgz. Output saved as /blue/stevenweisberg/ashishkumarsahoo/difumo/Data/freesurfer_121023/isthmuscingulate_standardized/sub-1054_isthmuscingulatemasked_brain_standardized.nii.gz\n",
      "Masking completed for /blue/stevenweisberg/ashishkumarsahoo/difumo/Data/freesurfer_121023/freesurfer/sub-1055/mri/brain_standardized.mgz. Output saved as /blue/stevenweisberg/ashishkumarsahoo/difumo/Data/freesurfer_121023/isthmuscingulate_standardized/sub-1055_isthmuscingulatemasked_brain_standardized.nii.gz\n",
      "Masking completed for /blue/stevenweisberg/ashishkumarsahoo/difumo/Data/freesurfer_121023/freesurfer/sub-1056/mri/brain_standardized.mgz. Output saved as /blue/stevenweisberg/ashishkumarsahoo/difumo/Data/freesurfer_121023/isthmuscingulate_standardized/sub-1056_isthmuscingulatemasked_brain_standardized.nii.gz\n",
      "Masking completed for /blue/stevenweisberg/ashishkumarsahoo/difumo/Data/freesurfer_121023/freesurfer/sub-1057/mri/brain_standardized.mgz. Output saved as /blue/stevenweisberg/ashishkumarsahoo/difumo/Data/freesurfer_121023/isthmuscingulate_standardized/sub-1057_isthmuscingulatemasked_brain_standardized.nii.gz\n",
      "Masking completed for /blue/stevenweisberg/ashishkumarsahoo/difumo/Data/freesurfer_121023/freesurfer/sub-1058/mri/brain_standardized.mgz. Output saved as /blue/stevenweisberg/ashishkumarsahoo/difumo/Data/freesurfer_121023/isthmuscingulate_standardized/sub-1058_isthmuscingulatemasked_brain_standardized.nii.gz\n",
      "Masking completed for /blue/stevenweisberg/ashishkumarsahoo/difumo/Data/freesurfer_121023/freesurfer/sub-1059/mri/brain_standardized.mgz. Output saved as /blue/stevenweisberg/ashishkumarsahoo/difumo/Data/freesurfer_121023/isthmuscingulate_standardized/sub-1059_isthmuscingulatemasked_brain_standardized.nii.gz\n",
      "Masking completed for /blue/stevenweisberg/ashishkumarsahoo/difumo/Data/freesurfer_121023/freesurfer/sub-1060/mri/brain_standardized.mgz. Output saved as /blue/stevenweisberg/ashishkumarsahoo/difumo/Data/freesurfer_121023/isthmuscingulate_standardized/sub-1060_isthmuscingulatemasked_brain_standardized.nii.gz\n",
      "Masking completed for /blue/stevenweisberg/ashishkumarsahoo/difumo/Data/freesurfer_121023/freesurfer/sub-1061/mri/brain_standardized.mgz. Output saved as /blue/stevenweisberg/ashishkumarsahoo/difumo/Data/freesurfer_121023/isthmuscingulate_standardized/sub-1061_isthmuscingulatemasked_brain_standardized.nii.gz\n",
      "Masking completed for /blue/stevenweisberg/ashishkumarsahoo/difumo/Data/freesurfer_121023/freesurfer/sub-1062/mri/brain_standardized.mgz. Output saved as /blue/stevenweisberg/ashishkumarsahoo/difumo/Data/freesurfer_121023/isthmuscingulate_standardized/sub-1062_isthmuscingulatemasked_brain_standardized.nii.gz\n",
      "Masking completed for /blue/stevenweisberg/ashishkumarsahoo/difumo/Data/freesurfer_121023/freesurfer/sub-1063/mri/brain_standardized.mgz. Output saved as /blue/stevenweisberg/ashishkumarsahoo/difumo/Data/freesurfer_121023/isthmuscingulate_standardized/sub-1063_isthmuscingulatemasked_brain_standardized.nii.gz\n",
      "Masking completed for /blue/stevenweisberg/ashishkumarsahoo/difumo/Data/freesurfer_121023/freesurfer/sub-1064/mri/brain_standardized.mgz. Output saved as /blue/stevenweisberg/ashishkumarsahoo/difumo/Data/freesurfer_121023/isthmuscingulate_standardized/sub-1064_isthmuscingulatemasked_brain_standardized.nii.gz\n",
      "Masking completed for /blue/stevenweisberg/ashishkumarsahoo/difumo/Data/freesurfer_121023/freesurfer/sub-1065/mri/brain_standardized.mgz. Output saved as /blue/stevenweisberg/ashishkumarsahoo/difumo/Data/freesurfer_121023/isthmuscingulate_standardized/sub-1065_isthmuscingulatemasked_brain_standardized.nii.gz\n",
      "Masking completed for /blue/stevenweisberg/ashishkumarsahoo/difumo/Data/freesurfer_121023/freesurfer/sub-1066/mri/brain_standardized.mgz. Output saved as /blue/stevenweisberg/ashishkumarsahoo/difumo/Data/freesurfer_121023/isthmuscingulate_standardized/sub-1066_isthmuscingulatemasked_brain_standardized.nii.gz\n",
      "Masking completed for /blue/stevenweisberg/ashishkumarsahoo/difumo/Data/freesurfer_121023/freesurfer/sub-1067/mri/brain_standardized.mgz. Output saved as /blue/stevenweisberg/ashishkumarsahoo/difumo/Data/freesurfer_121023/isthmuscingulate_standardized/sub-1067_isthmuscingulatemasked_brain_standardized.nii.gz\n",
      "Masking completed for /blue/stevenweisberg/ashishkumarsahoo/difumo/Data/freesurfer_121023/freesurfer/sub-1068/mri/brain_standardized.mgz. Output saved as /blue/stevenweisberg/ashishkumarsahoo/difumo/Data/freesurfer_121023/isthmuscingulate_standardized/sub-1068_isthmuscingulatemasked_brain_standardized.nii.gz\n",
      "Masking completed for /blue/stevenweisberg/ashishkumarsahoo/difumo/Data/freesurfer_121023/freesurfer/sub-1069/mri/brain_standardized.mgz. Output saved as /blue/stevenweisberg/ashishkumarsahoo/difumo/Data/freesurfer_121023/isthmuscingulate_standardized/sub-1069_isthmuscingulatemasked_brain_standardized.nii.gz\n",
      "Masking completed for /blue/stevenweisberg/ashishkumarsahoo/difumo/Data/freesurfer_121023/freesurfer/sub-1070/mri/brain_standardized.mgz. Output saved as /blue/stevenweisberg/ashishkumarsahoo/difumo/Data/freesurfer_121023/isthmuscingulate_standardized/sub-1070_isthmuscingulatemasked_brain_standardized.nii.gz\n",
      "Masking completed for /blue/stevenweisberg/ashishkumarsahoo/difumo/Data/freesurfer_121023/freesurfer/sub-1071/mri/brain_standardized.mgz. Output saved as /blue/stevenweisberg/ashishkumarsahoo/difumo/Data/freesurfer_121023/isthmuscingulate_standardized/sub-1071_isthmuscingulatemasked_brain_standardized.nii.gz\n",
      "Masking completed for /blue/stevenweisberg/ashishkumarsahoo/difumo/Data/freesurfer_121023/freesurfer/sub-1072/mri/brain_standardized.mgz. Output saved as /blue/stevenweisberg/ashishkumarsahoo/difumo/Data/freesurfer_121023/isthmuscingulate_standardized/sub-1072_isthmuscingulatemasked_brain_standardized.nii.gz\n",
      "Masking completed for /blue/stevenweisberg/ashishkumarsahoo/difumo/Data/freesurfer_121023/freesurfer/sub-1073/mri/brain_standardized.mgz. Output saved as /blue/stevenweisberg/ashishkumarsahoo/difumo/Data/freesurfer_121023/isthmuscingulate_standardized/sub-1073_isthmuscingulatemasked_brain_standardized.nii.gz\n",
      "Masking completed for /blue/stevenweisberg/ashishkumarsahoo/difumo/Data/freesurfer_121023/freesurfer/sub-1074/mri/brain_standardized.mgz. Output saved as /blue/stevenweisberg/ashishkumarsahoo/difumo/Data/freesurfer_121023/isthmuscingulate_standardized/sub-1074_isthmuscingulatemasked_brain_standardized.nii.gz\n",
      "Masking completed for /blue/stevenweisberg/ashishkumarsahoo/difumo/Data/freesurfer_121023/freesurfer/sub-1075/mri/brain_standardized.mgz. Output saved as /blue/stevenweisberg/ashishkumarsahoo/difumo/Data/freesurfer_121023/isthmuscingulate_standardized/sub-1075_isthmuscingulatemasked_brain_standardized.nii.gz\n",
      "Masking completed for /blue/stevenweisberg/ashishkumarsahoo/difumo/Data/freesurfer_121023/freesurfer/sub-1076/mri/brain_standardized.mgz. Output saved as /blue/stevenweisberg/ashishkumarsahoo/difumo/Data/freesurfer_121023/isthmuscingulate_standardized/sub-1076_isthmuscingulatemasked_brain_standardized.nii.gz\n",
      "Masking completed for /blue/stevenweisberg/ashishkumarsahoo/difumo/Data/freesurfer_121023/freesurfer/sub-1077/mri/brain_standardized.mgz. Output saved as /blue/stevenweisberg/ashishkumarsahoo/difumo/Data/freesurfer_121023/isthmuscingulate_standardized/sub-1077_isthmuscingulatemasked_brain_standardized.nii.gz\n",
      "Masking completed for /blue/stevenweisberg/ashishkumarsahoo/difumo/Data/freesurfer_121023/freesurfer/sub-1078/mri/brain_standardized.mgz. Output saved as /blue/stevenweisberg/ashishkumarsahoo/difumo/Data/freesurfer_121023/isthmuscingulate_standardized/sub-1078_isthmuscingulatemasked_brain_standardized.nii.gz\n",
      "Masking completed for /blue/stevenweisberg/ashishkumarsahoo/difumo/Data/freesurfer_121023/freesurfer/sub-1079/mri/brain_standardized.mgz. Output saved as /blue/stevenweisberg/ashishkumarsahoo/difumo/Data/freesurfer_121023/isthmuscingulate_standardized/sub-1079_isthmuscingulatemasked_brain_standardized.nii.gz\n",
      "Masking completed for /blue/stevenweisberg/ashishkumarsahoo/difumo/Data/freesurfer_121023/freesurfer/sub-1080/mri/brain_standardized.mgz. Output saved as /blue/stevenweisberg/ashishkumarsahoo/difumo/Data/freesurfer_121023/isthmuscingulate_standardized/sub-1080_isthmuscingulatemasked_brain_standardized.nii.gz\n",
      "Masking completed for /blue/stevenweisberg/ashishkumarsahoo/difumo/Data/freesurfer_121023/freesurfer/sub-1081/mri/brain_standardized.mgz. Output saved as /blue/stevenweisberg/ashishkumarsahoo/difumo/Data/freesurfer_121023/isthmuscingulate_standardized/sub-1081_isthmuscingulatemasked_brain_standardized.nii.gz\n",
      "Masking completed for /blue/stevenweisberg/ashishkumarsahoo/difumo/Data/freesurfer_121023/freesurfer/sub-1082/mri/brain_standardized.mgz. Output saved as /blue/stevenweisberg/ashishkumarsahoo/difumo/Data/freesurfer_121023/isthmuscingulate_standardized/sub-1082_isthmuscingulatemasked_brain_standardized.nii.gz\n",
      "Masking completed for /blue/stevenweisberg/ashishkumarsahoo/difumo/Data/freesurfer_121023/freesurfer/sub-1083/mri/brain_standardized.mgz. Output saved as /blue/stevenweisberg/ashishkumarsahoo/difumo/Data/freesurfer_121023/isthmuscingulate_standardized/sub-1083_isthmuscingulatemasked_brain_standardized.nii.gz\n",
      "Masking completed for /blue/stevenweisberg/ashishkumarsahoo/difumo/Data/freesurfer_121023/freesurfer/sub-1084/mri/brain_standardized.mgz. Output saved as /blue/stevenweisberg/ashishkumarsahoo/difumo/Data/freesurfer_121023/isthmuscingulate_standardized/sub-1084_isthmuscingulatemasked_brain_standardized.nii.gz\n",
      "Masking completed for /blue/stevenweisberg/ashishkumarsahoo/difumo/Data/freesurfer_121023/freesurfer/sub-1085/mri/brain_standardized.mgz. Output saved as /blue/stevenweisberg/ashishkumarsahoo/difumo/Data/freesurfer_121023/isthmuscingulate_standardized/sub-1085_isthmuscingulatemasked_brain_standardized.nii.gz\n",
      "Masking completed for /blue/stevenweisberg/ashishkumarsahoo/difumo/Data/freesurfer_121023/freesurfer/sub-1086/mri/brain_standardized.mgz. Output saved as /blue/stevenweisberg/ashishkumarsahoo/difumo/Data/freesurfer_121023/isthmuscingulate_standardized/sub-1086_isthmuscingulatemasked_brain_standardized.nii.gz\n",
      "Masking completed for /blue/stevenweisberg/ashishkumarsahoo/difumo/Data/freesurfer_121023/freesurfer/sub-1087/mri/brain_standardized.mgz. Output saved as /blue/stevenweisberg/ashishkumarsahoo/difumo/Data/freesurfer_121023/isthmuscingulate_standardized/sub-1087_isthmuscingulatemasked_brain_standardized.nii.gz\n",
      "Masking completed for /blue/stevenweisberg/ashishkumarsahoo/difumo/Data/freesurfer_121023/freesurfer/sub-1088/mri/brain_standardized.mgz. Output saved as /blue/stevenweisberg/ashishkumarsahoo/difumo/Data/freesurfer_121023/isthmuscingulate_standardized/sub-1088_isthmuscingulatemasked_brain_standardized.nii.gz\n",
      "Masking completed for /blue/stevenweisberg/ashishkumarsahoo/difumo/Data/freesurfer_121023/freesurfer/sub-1089/mri/brain_standardized.mgz. Output saved as /blue/stevenweisberg/ashishkumarsahoo/difumo/Data/freesurfer_121023/isthmuscingulate_standardized/sub-1089_isthmuscingulatemasked_brain_standardized.nii.gz\n",
      "Masking completed for /blue/stevenweisberg/ashishkumarsahoo/difumo/Data/freesurfer_121023/freesurfer/sub-1090/mri/brain_standardized.mgz. Output saved as /blue/stevenweisberg/ashishkumarsahoo/difumo/Data/freesurfer_121023/isthmuscingulate_standardized/sub-1090_isthmuscingulatemasked_brain_standardized.nii.gz\n",
      "Masking completed for /blue/stevenweisberg/ashishkumarsahoo/difumo/Data/freesurfer_121023/freesurfer/sub-1091/mri/brain_standardized.mgz. Output saved as /blue/stevenweisberg/ashishkumarsahoo/difumo/Data/freesurfer_121023/isthmuscingulate_standardized/sub-1091_isthmuscingulatemasked_brain_standardized.nii.gz\n",
      "Masking completed for /blue/stevenweisberg/ashishkumarsahoo/difumo/Data/freesurfer_121023/freesurfer/sub-1092/mri/brain_standardized.mgz. Output saved as /blue/stevenweisberg/ashishkumarsahoo/difumo/Data/freesurfer_121023/isthmuscingulate_standardized/sub-1092_isthmuscingulatemasked_brain_standardized.nii.gz\n"
     ]
    }
   ],
   "source": [
    "import nibabel as nib\n",
    "import numpy as np\n",
    "\n",
    "# Lists containing filenames\n",
    "#raw_list = ['rawavg1.mgz', 'rawavg2.mgz', 'rawavg3.mgz']  # Replace with your rawavg_img filenames\n",
    "#mask_list = ['mask1.nii.gz', 'mask2.nii.gz', 'mask3.nii.gz']  # Replace with your hippocampus_mask filenames\n",
    "#output_list = ['masked_output1.nii.gz', 'masked_output2.nii.gz', 'masked_output3.nii.gz']  # Replace with desired output filenames\n",
    "\n",
    "for raw_file, mask_file, output_file in zip(brain_list, mask_list, output_list):\n",
    "    # Load the MRI image and mask\n",
    "    rawavg_img = nib.load(raw_file)\n",
    "    mask_img = nib.load(mask_file)\n",
    "\n",
    "    # Get the data arrays from the images\n",
    "    rawavg_data = rawavg_img.get_fdata()\n",
    "    mask_data = mask_img.get_fdata()\n",
    "\n",
    "    # Apply the mask\n",
    "    masked_data = np.where(mask_data == 1, rawavg_data, 0)\n",
    "\n",
    "    # Create a new NIfTI image with the masked data\n",
    "    masked_img = nib.Nifti1Image(masked_data, rawavg_img.affine)\n",
    "\n",
    "    # Save the masked image\n",
    "    nib.save(masked_img, output_file)\n",
    "\n",
    "    print(f\"Masking completed for {raw_file}. Output saved as {output_file}\")\n"
   ]
  },
  {
   "cell_type": "markdown",
   "id": "4565f5a5-9f02-4ed9-bd7f-76d8598833a9",
   "metadata": {},
   "source": [
    "## parahippocampus 1016 2016"
   ]
  },
  {
   "cell_type": "code",
   "execution_count": 4,
   "id": "4ff2f2f5-7f43-40ab-b652-4bc37074e511",
   "metadata": {
    "tags": []
   },
   "outputs": [],
   "source": [
    "parahippocampusmask_list = [\"mri_binarize --i /blue/stevenweisberg/ashishkumarsahoo/difumo/Data/freesurfer_121023/freesurfer/{}/mri/aparc+aseg_standardized.mgz --match 1016 2016 --o /blue/stevenweisberg/ashishkumarsahoo/difumo/Data/freesurfer_121023/freesurfer/{}/mri/parahippocampus_standardized_mask.nii.gz\".format(subj, subj) for subj in subjs]"
   ]
  },
  {
   "cell_type": "code",
   "execution_count": 6,
   "id": "55ff45b7-2bec-491c-aab4-9e3f84bc2198",
   "metadata": {
    "tags": []
   },
   "outputs": [],
   "source": [
    "with open('parahippocampusmask_standardized_list.txt', 'w') as f:\n",
    "    for parahippocampusmask in parahippocampusmask_list:\n",
    "        f.write(parahippocampusmask + '\\n')"
   ]
  },
  {
   "cell_type": "code",
   "execution_count": 3,
   "id": "117a5934-ada5-4afc-85b1-65b0efdfe006",
   "metadata": {
    "tags": []
   },
   "outputs": [],
   "source": [
    "brain_list = [\"/blue/stevenweisberg/ashishkumarsahoo/difumo/Data/freesurfer_121023/freesurfer/{}/mri/brain_standardized.mgz\".format(subj) for subj in subjs]\n",
    "mask_list = [\"/blue/stevenweisberg/ashishkumarsahoo/difumo/Data/freesurfer_121023/freesurfer/{}/mri/parahippocampus_standardized_mask.nii.gz\".format(subj) for subj in subjs]\n",
    "output_list = [\"/blue/stevenweisberg/ashishkumarsahoo/difumo/Data/freesurfer_121023/parahippocampus_standardized/{}_parahippocampusmasked_brain_standardized.nii.gz\".format(subj) for subj in subjs]"
   ]
  },
  {
   "cell_type": "code",
   "execution_count": 4,
   "id": "3831256a-c30e-4d0c-bedf-69b3e0db73ba",
   "metadata": {
    "tags": []
   },
   "outputs": [
    {
     "name": "stdout",
     "output_type": "stream",
     "text": [
      "Masking completed for /blue/stevenweisberg/ashishkumarsahoo/difumo/Data/freesurfer_121023/freesurfer/sub-1002/mri/brain_standardized.mgz. Output saved as /blue/stevenweisberg/ashishkumarsahoo/difumo/Data/freesurfer_121023/parahippocampus_standardized/sub-1002_parahippocampusmasked_brain_standardized.nii.gz\n",
      "Masking completed for /blue/stevenweisberg/ashishkumarsahoo/difumo/Data/freesurfer_121023/freesurfer/sub-1003/mri/brain_standardized.mgz. Output saved as /blue/stevenweisberg/ashishkumarsahoo/difumo/Data/freesurfer_121023/parahippocampus_standardized/sub-1003_parahippocampusmasked_brain_standardized.nii.gz\n",
      "Masking completed for /blue/stevenweisberg/ashishkumarsahoo/difumo/Data/freesurfer_121023/freesurfer/sub-1004/mri/brain_standardized.mgz. Output saved as /blue/stevenweisberg/ashishkumarsahoo/difumo/Data/freesurfer_121023/parahippocampus_standardized/sub-1004_parahippocampusmasked_brain_standardized.nii.gz\n",
      "Masking completed for /blue/stevenweisberg/ashishkumarsahoo/difumo/Data/freesurfer_121023/freesurfer/sub-1005/mri/brain_standardized.mgz. Output saved as /blue/stevenweisberg/ashishkumarsahoo/difumo/Data/freesurfer_121023/parahippocampus_standardized/sub-1005_parahippocampusmasked_brain_standardized.nii.gz\n",
      "Masking completed for /blue/stevenweisberg/ashishkumarsahoo/difumo/Data/freesurfer_121023/freesurfer/sub-1006/mri/brain_standardized.mgz. Output saved as /blue/stevenweisberg/ashishkumarsahoo/difumo/Data/freesurfer_121023/parahippocampus_standardized/sub-1006_parahippocampusmasked_brain_standardized.nii.gz\n",
      "Masking completed for /blue/stevenweisberg/ashishkumarsahoo/difumo/Data/freesurfer_121023/freesurfer/sub-1007/mri/brain_standardized.mgz. Output saved as /blue/stevenweisberg/ashishkumarsahoo/difumo/Data/freesurfer_121023/parahippocampus_standardized/sub-1007_parahippocampusmasked_brain_standardized.nii.gz\n",
      "Masking completed for /blue/stevenweisberg/ashishkumarsahoo/difumo/Data/freesurfer_121023/freesurfer/sub-1008/mri/brain_standardized.mgz. Output saved as /blue/stevenweisberg/ashishkumarsahoo/difumo/Data/freesurfer_121023/parahippocampus_standardized/sub-1008_parahippocampusmasked_brain_standardized.nii.gz\n",
      "Masking completed for /blue/stevenweisberg/ashishkumarsahoo/difumo/Data/freesurfer_121023/freesurfer/sub-1009/mri/brain_standardized.mgz. Output saved as /blue/stevenweisberg/ashishkumarsahoo/difumo/Data/freesurfer_121023/parahippocampus_standardized/sub-1009_parahippocampusmasked_brain_standardized.nii.gz\n",
      "Masking completed for /blue/stevenweisberg/ashishkumarsahoo/difumo/Data/freesurfer_121023/freesurfer/sub-1010/mri/brain_standardized.mgz. Output saved as /blue/stevenweisberg/ashishkumarsahoo/difumo/Data/freesurfer_121023/parahippocampus_standardized/sub-1010_parahippocampusmasked_brain_standardized.nii.gz\n",
      "Masking completed for /blue/stevenweisberg/ashishkumarsahoo/difumo/Data/freesurfer_121023/freesurfer/sub-1011/mri/brain_standardized.mgz. Output saved as /blue/stevenweisberg/ashishkumarsahoo/difumo/Data/freesurfer_121023/parahippocampus_standardized/sub-1011_parahippocampusmasked_brain_standardized.nii.gz\n",
      "Masking completed for /blue/stevenweisberg/ashishkumarsahoo/difumo/Data/freesurfer_121023/freesurfer/sub-1012/mri/brain_standardized.mgz. Output saved as /blue/stevenweisberg/ashishkumarsahoo/difumo/Data/freesurfer_121023/parahippocampus_standardized/sub-1012_parahippocampusmasked_brain_standardized.nii.gz\n",
      "Masking completed for /blue/stevenweisberg/ashishkumarsahoo/difumo/Data/freesurfer_121023/freesurfer/sub-1013/mri/brain_standardized.mgz. Output saved as /blue/stevenweisberg/ashishkumarsahoo/difumo/Data/freesurfer_121023/parahippocampus_standardized/sub-1013_parahippocampusmasked_brain_standardized.nii.gz\n",
      "Masking completed for /blue/stevenweisberg/ashishkumarsahoo/difumo/Data/freesurfer_121023/freesurfer/sub-1014/mri/brain_standardized.mgz. Output saved as /blue/stevenweisberg/ashishkumarsahoo/difumo/Data/freesurfer_121023/parahippocampus_standardized/sub-1014_parahippocampusmasked_brain_standardized.nii.gz\n",
      "Masking completed for /blue/stevenweisberg/ashishkumarsahoo/difumo/Data/freesurfer_121023/freesurfer/sub-1015/mri/brain_standardized.mgz. Output saved as /blue/stevenweisberg/ashishkumarsahoo/difumo/Data/freesurfer_121023/parahippocampus_standardized/sub-1015_parahippocampusmasked_brain_standardized.nii.gz\n",
      "Masking completed for /blue/stevenweisberg/ashishkumarsahoo/difumo/Data/freesurfer_121023/freesurfer/sub-1016/mri/brain_standardized.mgz. Output saved as /blue/stevenweisberg/ashishkumarsahoo/difumo/Data/freesurfer_121023/parahippocampus_standardized/sub-1016_parahippocampusmasked_brain_standardized.nii.gz\n",
      "Masking completed for /blue/stevenweisberg/ashishkumarsahoo/difumo/Data/freesurfer_121023/freesurfer/sub-1017/mri/brain_standardized.mgz. Output saved as /blue/stevenweisberg/ashishkumarsahoo/difumo/Data/freesurfer_121023/parahippocampus_standardized/sub-1017_parahippocampusmasked_brain_standardized.nii.gz\n",
      "Masking completed for /blue/stevenweisberg/ashishkumarsahoo/difumo/Data/freesurfer_121023/freesurfer/sub-1018/mri/brain_standardized.mgz. Output saved as /blue/stevenweisberg/ashishkumarsahoo/difumo/Data/freesurfer_121023/parahippocampus_standardized/sub-1018_parahippocampusmasked_brain_standardized.nii.gz\n",
      "Masking completed for /blue/stevenweisberg/ashishkumarsahoo/difumo/Data/freesurfer_121023/freesurfer/sub-1019/mri/brain_standardized.mgz. Output saved as /blue/stevenweisberg/ashishkumarsahoo/difumo/Data/freesurfer_121023/parahippocampus_standardized/sub-1019_parahippocampusmasked_brain_standardized.nii.gz\n",
      "Masking completed for /blue/stevenweisberg/ashishkumarsahoo/difumo/Data/freesurfer_121023/freesurfer/sub-1020/mri/brain_standardized.mgz. Output saved as /blue/stevenweisberg/ashishkumarsahoo/difumo/Data/freesurfer_121023/parahippocampus_standardized/sub-1020_parahippocampusmasked_brain_standardized.nii.gz\n",
      "Masking completed for /blue/stevenweisberg/ashishkumarsahoo/difumo/Data/freesurfer_121023/freesurfer/sub-1022/mri/brain_standardized.mgz. Output saved as /blue/stevenweisberg/ashishkumarsahoo/difumo/Data/freesurfer_121023/parahippocampus_standardized/sub-1022_parahippocampusmasked_brain_standardized.nii.gz\n",
      "Masking completed for /blue/stevenweisberg/ashishkumarsahoo/difumo/Data/freesurfer_121023/freesurfer/sub-1023/mri/brain_standardized.mgz. Output saved as /blue/stevenweisberg/ashishkumarsahoo/difumo/Data/freesurfer_121023/parahippocampus_standardized/sub-1023_parahippocampusmasked_brain_standardized.nii.gz\n",
      "Masking completed for /blue/stevenweisberg/ashishkumarsahoo/difumo/Data/freesurfer_121023/freesurfer/sub-1024/mri/brain_standardized.mgz. Output saved as /blue/stevenweisberg/ashishkumarsahoo/difumo/Data/freesurfer_121023/parahippocampus_standardized/sub-1024_parahippocampusmasked_brain_standardized.nii.gz\n",
      "Masking completed for /blue/stevenweisberg/ashishkumarsahoo/difumo/Data/freesurfer_121023/freesurfer/sub-1025/mri/brain_standardized.mgz. Output saved as /blue/stevenweisberg/ashishkumarsahoo/difumo/Data/freesurfer_121023/parahippocampus_standardized/sub-1025_parahippocampusmasked_brain_standardized.nii.gz\n",
      "Masking completed for /blue/stevenweisberg/ashishkumarsahoo/difumo/Data/freesurfer_121023/freesurfer/sub-1026/mri/brain_standardized.mgz. Output saved as /blue/stevenweisberg/ashishkumarsahoo/difumo/Data/freesurfer_121023/parahippocampus_standardized/sub-1026_parahippocampusmasked_brain_standardized.nii.gz\n",
      "Masking completed for /blue/stevenweisberg/ashishkumarsahoo/difumo/Data/freesurfer_121023/freesurfer/sub-1027/mri/brain_standardized.mgz. Output saved as /blue/stevenweisberg/ashishkumarsahoo/difumo/Data/freesurfer_121023/parahippocampus_standardized/sub-1027_parahippocampusmasked_brain_standardized.nii.gz\n",
      "Masking completed for /blue/stevenweisberg/ashishkumarsahoo/difumo/Data/freesurfer_121023/freesurfer/sub-1028/mri/brain_standardized.mgz. Output saved as /blue/stevenweisberg/ashishkumarsahoo/difumo/Data/freesurfer_121023/parahippocampus_standardized/sub-1028_parahippocampusmasked_brain_standardized.nii.gz\n",
      "Masking completed for /blue/stevenweisberg/ashishkumarsahoo/difumo/Data/freesurfer_121023/freesurfer/sub-1029/mri/brain_standardized.mgz. Output saved as /blue/stevenweisberg/ashishkumarsahoo/difumo/Data/freesurfer_121023/parahippocampus_standardized/sub-1029_parahippocampusmasked_brain_standardized.nii.gz\n",
      "Masking completed for /blue/stevenweisberg/ashishkumarsahoo/difumo/Data/freesurfer_121023/freesurfer/sub-1030/mri/brain_standardized.mgz. Output saved as /blue/stevenweisberg/ashishkumarsahoo/difumo/Data/freesurfer_121023/parahippocampus_standardized/sub-1030_parahippocampusmasked_brain_standardized.nii.gz\n",
      "Masking completed for /blue/stevenweisberg/ashishkumarsahoo/difumo/Data/freesurfer_121023/freesurfer/sub-1031/mri/brain_standardized.mgz. Output saved as /blue/stevenweisberg/ashishkumarsahoo/difumo/Data/freesurfer_121023/parahippocampus_standardized/sub-1031_parahippocampusmasked_brain_standardized.nii.gz\n",
      "Masking completed for /blue/stevenweisberg/ashishkumarsahoo/difumo/Data/freesurfer_121023/freesurfer/sub-1032/mri/brain_standardized.mgz. Output saved as /blue/stevenweisberg/ashishkumarsahoo/difumo/Data/freesurfer_121023/parahippocampus_standardized/sub-1032_parahippocampusmasked_brain_standardized.nii.gz\n",
      "Masking completed for /blue/stevenweisberg/ashishkumarsahoo/difumo/Data/freesurfer_121023/freesurfer/sub-1033/mri/brain_standardized.mgz. Output saved as /blue/stevenweisberg/ashishkumarsahoo/difumo/Data/freesurfer_121023/parahippocampus_standardized/sub-1033_parahippocampusmasked_brain_standardized.nii.gz\n",
      "Masking completed for /blue/stevenweisberg/ashishkumarsahoo/difumo/Data/freesurfer_121023/freesurfer/sub-1034/mri/brain_standardized.mgz. Output saved as /blue/stevenweisberg/ashishkumarsahoo/difumo/Data/freesurfer_121023/parahippocampus_standardized/sub-1034_parahippocampusmasked_brain_standardized.nii.gz\n",
      "Masking completed for /blue/stevenweisberg/ashishkumarsahoo/difumo/Data/freesurfer_121023/freesurfer/sub-1035/mri/brain_standardized.mgz. Output saved as /blue/stevenweisberg/ashishkumarsahoo/difumo/Data/freesurfer_121023/parahippocampus_standardized/sub-1035_parahippocampusmasked_brain_standardized.nii.gz\n",
      "Masking completed for /blue/stevenweisberg/ashishkumarsahoo/difumo/Data/freesurfer_121023/freesurfer/sub-1036/mri/brain_standardized.mgz. Output saved as /blue/stevenweisberg/ashishkumarsahoo/difumo/Data/freesurfer_121023/parahippocampus_standardized/sub-1036_parahippocampusmasked_brain_standardized.nii.gz\n",
      "Masking completed for /blue/stevenweisberg/ashishkumarsahoo/difumo/Data/freesurfer_121023/freesurfer/sub-1037/mri/brain_standardized.mgz. Output saved as /blue/stevenweisberg/ashishkumarsahoo/difumo/Data/freesurfer_121023/parahippocampus_standardized/sub-1037_parahippocampusmasked_brain_standardized.nii.gz\n",
      "Masking completed for /blue/stevenweisberg/ashishkumarsahoo/difumo/Data/freesurfer_121023/freesurfer/sub-1038/mri/brain_standardized.mgz. Output saved as /blue/stevenweisberg/ashishkumarsahoo/difumo/Data/freesurfer_121023/parahippocampus_standardized/sub-1038_parahippocampusmasked_brain_standardized.nii.gz\n",
      "Masking completed for /blue/stevenweisberg/ashishkumarsahoo/difumo/Data/freesurfer_121023/freesurfer/sub-1039/mri/brain_standardized.mgz. Output saved as /blue/stevenweisberg/ashishkumarsahoo/difumo/Data/freesurfer_121023/parahippocampus_standardized/sub-1039_parahippocampusmasked_brain_standardized.nii.gz\n",
      "Masking completed for /blue/stevenweisberg/ashishkumarsahoo/difumo/Data/freesurfer_121023/freesurfer/sub-1040/mri/brain_standardized.mgz. Output saved as /blue/stevenweisberg/ashishkumarsahoo/difumo/Data/freesurfer_121023/parahippocampus_standardized/sub-1040_parahippocampusmasked_brain_standardized.nii.gz\n",
      "Masking completed for /blue/stevenweisberg/ashishkumarsahoo/difumo/Data/freesurfer_121023/freesurfer/sub-1041/mri/brain_standardized.mgz. Output saved as /blue/stevenweisberg/ashishkumarsahoo/difumo/Data/freesurfer_121023/parahippocampus_standardized/sub-1041_parahippocampusmasked_brain_standardized.nii.gz\n",
      "Masking completed for /blue/stevenweisberg/ashishkumarsahoo/difumo/Data/freesurfer_121023/freesurfer/sub-1042/mri/brain_standardized.mgz. Output saved as /blue/stevenweisberg/ashishkumarsahoo/difumo/Data/freesurfer_121023/parahippocampus_standardized/sub-1042_parahippocampusmasked_brain_standardized.nii.gz\n",
      "Masking completed for /blue/stevenweisberg/ashishkumarsahoo/difumo/Data/freesurfer_121023/freesurfer/sub-1043/mri/brain_standardized.mgz. Output saved as /blue/stevenweisberg/ashishkumarsahoo/difumo/Data/freesurfer_121023/parahippocampus_standardized/sub-1043_parahippocampusmasked_brain_standardized.nii.gz\n",
      "Masking completed for /blue/stevenweisberg/ashishkumarsahoo/difumo/Data/freesurfer_121023/freesurfer/sub-1044/mri/brain_standardized.mgz. Output saved as /blue/stevenweisberg/ashishkumarsahoo/difumo/Data/freesurfer_121023/parahippocampus_standardized/sub-1044_parahippocampusmasked_brain_standardized.nii.gz\n",
      "Masking completed for /blue/stevenweisberg/ashishkumarsahoo/difumo/Data/freesurfer_121023/freesurfer/sub-1045/mri/brain_standardized.mgz. Output saved as /blue/stevenweisberg/ashishkumarsahoo/difumo/Data/freesurfer_121023/parahippocampus_standardized/sub-1045_parahippocampusmasked_brain_standardized.nii.gz\n",
      "Masking completed for /blue/stevenweisberg/ashishkumarsahoo/difumo/Data/freesurfer_121023/freesurfer/sub-1046/mri/brain_standardized.mgz. Output saved as /blue/stevenweisberg/ashishkumarsahoo/difumo/Data/freesurfer_121023/parahippocampus_standardized/sub-1046_parahippocampusmasked_brain_standardized.nii.gz\n",
      "Masking completed for /blue/stevenweisberg/ashishkumarsahoo/difumo/Data/freesurfer_121023/freesurfer/sub-1047/mri/brain_standardized.mgz. Output saved as /blue/stevenweisberg/ashishkumarsahoo/difumo/Data/freesurfer_121023/parahippocampus_standardized/sub-1047_parahippocampusmasked_brain_standardized.nii.gz\n",
      "Masking completed for /blue/stevenweisberg/ashishkumarsahoo/difumo/Data/freesurfer_121023/freesurfer/sub-1048/mri/brain_standardized.mgz. Output saved as /blue/stevenweisberg/ashishkumarsahoo/difumo/Data/freesurfer_121023/parahippocampus_standardized/sub-1048_parahippocampusmasked_brain_standardized.nii.gz\n",
      "Masking completed for /blue/stevenweisberg/ashishkumarsahoo/difumo/Data/freesurfer_121023/freesurfer/sub-1049/mri/brain_standardized.mgz. Output saved as /blue/stevenweisberg/ashishkumarsahoo/difumo/Data/freesurfer_121023/parahippocampus_standardized/sub-1049_parahippocampusmasked_brain_standardized.nii.gz\n",
      "Masking completed for /blue/stevenweisberg/ashishkumarsahoo/difumo/Data/freesurfer_121023/freesurfer/sub-1050/mri/brain_standardized.mgz. Output saved as /blue/stevenweisberg/ashishkumarsahoo/difumo/Data/freesurfer_121023/parahippocampus_standardized/sub-1050_parahippocampusmasked_brain_standardized.nii.gz\n",
      "Masking completed for /blue/stevenweisberg/ashishkumarsahoo/difumo/Data/freesurfer_121023/freesurfer/sub-1051/mri/brain_standardized.mgz. Output saved as /blue/stevenweisberg/ashishkumarsahoo/difumo/Data/freesurfer_121023/parahippocampus_standardized/sub-1051_parahippocampusmasked_brain_standardized.nii.gz\n",
      "Masking completed for /blue/stevenweisberg/ashishkumarsahoo/difumo/Data/freesurfer_121023/freesurfer/sub-1052/mri/brain_standardized.mgz. Output saved as /blue/stevenweisberg/ashishkumarsahoo/difumo/Data/freesurfer_121023/parahippocampus_standardized/sub-1052_parahippocampusmasked_brain_standardized.nii.gz\n",
      "Masking completed for /blue/stevenweisberg/ashishkumarsahoo/difumo/Data/freesurfer_121023/freesurfer/sub-1053/mri/brain_standardized.mgz. Output saved as /blue/stevenweisberg/ashishkumarsahoo/difumo/Data/freesurfer_121023/parahippocampus_standardized/sub-1053_parahippocampusmasked_brain_standardized.nii.gz\n",
      "Masking completed for /blue/stevenweisberg/ashishkumarsahoo/difumo/Data/freesurfer_121023/freesurfer/sub-1054/mri/brain_standardized.mgz. Output saved as /blue/stevenweisberg/ashishkumarsahoo/difumo/Data/freesurfer_121023/parahippocampus_standardized/sub-1054_parahippocampusmasked_brain_standardized.nii.gz\n",
      "Masking completed for /blue/stevenweisberg/ashishkumarsahoo/difumo/Data/freesurfer_121023/freesurfer/sub-1055/mri/brain_standardized.mgz. Output saved as /blue/stevenweisberg/ashishkumarsahoo/difumo/Data/freesurfer_121023/parahippocampus_standardized/sub-1055_parahippocampusmasked_brain_standardized.nii.gz\n",
      "Masking completed for /blue/stevenweisberg/ashishkumarsahoo/difumo/Data/freesurfer_121023/freesurfer/sub-1056/mri/brain_standardized.mgz. Output saved as /blue/stevenweisberg/ashishkumarsahoo/difumo/Data/freesurfer_121023/parahippocampus_standardized/sub-1056_parahippocampusmasked_brain_standardized.nii.gz\n",
      "Masking completed for /blue/stevenweisberg/ashishkumarsahoo/difumo/Data/freesurfer_121023/freesurfer/sub-1057/mri/brain_standardized.mgz. Output saved as /blue/stevenweisberg/ashishkumarsahoo/difumo/Data/freesurfer_121023/parahippocampus_standardized/sub-1057_parahippocampusmasked_brain_standardized.nii.gz\n",
      "Masking completed for /blue/stevenweisberg/ashishkumarsahoo/difumo/Data/freesurfer_121023/freesurfer/sub-1058/mri/brain_standardized.mgz. Output saved as /blue/stevenweisberg/ashishkumarsahoo/difumo/Data/freesurfer_121023/parahippocampus_standardized/sub-1058_parahippocampusmasked_brain_standardized.nii.gz\n",
      "Masking completed for /blue/stevenweisberg/ashishkumarsahoo/difumo/Data/freesurfer_121023/freesurfer/sub-1059/mri/brain_standardized.mgz. Output saved as /blue/stevenweisberg/ashishkumarsahoo/difumo/Data/freesurfer_121023/parahippocampus_standardized/sub-1059_parahippocampusmasked_brain_standardized.nii.gz\n",
      "Masking completed for /blue/stevenweisberg/ashishkumarsahoo/difumo/Data/freesurfer_121023/freesurfer/sub-1060/mri/brain_standardized.mgz. Output saved as /blue/stevenweisberg/ashishkumarsahoo/difumo/Data/freesurfer_121023/parahippocampus_standardized/sub-1060_parahippocampusmasked_brain_standardized.nii.gz\n",
      "Masking completed for /blue/stevenweisberg/ashishkumarsahoo/difumo/Data/freesurfer_121023/freesurfer/sub-1061/mri/brain_standardized.mgz. Output saved as /blue/stevenweisberg/ashishkumarsahoo/difumo/Data/freesurfer_121023/parahippocampus_standardized/sub-1061_parahippocampusmasked_brain_standardized.nii.gz\n",
      "Masking completed for /blue/stevenweisberg/ashishkumarsahoo/difumo/Data/freesurfer_121023/freesurfer/sub-1062/mri/brain_standardized.mgz. Output saved as /blue/stevenweisberg/ashishkumarsahoo/difumo/Data/freesurfer_121023/parahippocampus_standardized/sub-1062_parahippocampusmasked_brain_standardized.nii.gz\n",
      "Masking completed for /blue/stevenweisberg/ashishkumarsahoo/difumo/Data/freesurfer_121023/freesurfer/sub-1063/mri/brain_standardized.mgz. Output saved as /blue/stevenweisberg/ashishkumarsahoo/difumo/Data/freesurfer_121023/parahippocampus_standardized/sub-1063_parahippocampusmasked_brain_standardized.nii.gz\n",
      "Masking completed for /blue/stevenweisberg/ashishkumarsahoo/difumo/Data/freesurfer_121023/freesurfer/sub-1064/mri/brain_standardized.mgz. Output saved as /blue/stevenweisberg/ashishkumarsahoo/difumo/Data/freesurfer_121023/parahippocampus_standardized/sub-1064_parahippocampusmasked_brain_standardized.nii.gz\n",
      "Masking completed for /blue/stevenweisberg/ashishkumarsahoo/difumo/Data/freesurfer_121023/freesurfer/sub-1065/mri/brain_standardized.mgz. Output saved as /blue/stevenweisberg/ashishkumarsahoo/difumo/Data/freesurfer_121023/parahippocampus_standardized/sub-1065_parahippocampusmasked_brain_standardized.nii.gz\n",
      "Masking completed for /blue/stevenweisberg/ashishkumarsahoo/difumo/Data/freesurfer_121023/freesurfer/sub-1066/mri/brain_standardized.mgz. Output saved as /blue/stevenweisberg/ashishkumarsahoo/difumo/Data/freesurfer_121023/parahippocampus_standardized/sub-1066_parahippocampusmasked_brain_standardized.nii.gz\n",
      "Masking completed for /blue/stevenweisberg/ashishkumarsahoo/difumo/Data/freesurfer_121023/freesurfer/sub-1067/mri/brain_standardized.mgz. Output saved as /blue/stevenweisberg/ashishkumarsahoo/difumo/Data/freesurfer_121023/parahippocampus_standardized/sub-1067_parahippocampusmasked_brain_standardized.nii.gz\n",
      "Masking completed for /blue/stevenweisberg/ashishkumarsahoo/difumo/Data/freesurfer_121023/freesurfer/sub-1068/mri/brain_standardized.mgz. Output saved as /blue/stevenweisberg/ashishkumarsahoo/difumo/Data/freesurfer_121023/parahippocampus_standardized/sub-1068_parahippocampusmasked_brain_standardized.nii.gz\n",
      "Masking completed for /blue/stevenweisberg/ashishkumarsahoo/difumo/Data/freesurfer_121023/freesurfer/sub-1069/mri/brain_standardized.mgz. Output saved as /blue/stevenweisberg/ashishkumarsahoo/difumo/Data/freesurfer_121023/parahippocampus_standardized/sub-1069_parahippocampusmasked_brain_standardized.nii.gz\n",
      "Masking completed for /blue/stevenweisberg/ashishkumarsahoo/difumo/Data/freesurfer_121023/freesurfer/sub-1070/mri/brain_standardized.mgz. Output saved as /blue/stevenweisberg/ashishkumarsahoo/difumo/Data/freesurfer_121023/parahippocampus_standardized/sub-1070_parahippocampusmasked_brain_standardized.nii.gz\n",
      "Masking completed for /blue/stevenweisberg/ashishkumarsahoo/difumo/Data/freesurfer_121023/freesurfer/sub-1071/mri/brain_standardized.mgz. Output saved as /blue/stevenweisberg/ashishkumarsahoo/difumo/Data/freesurfer_121023/parahippocampus_standardized/sub-1071_parahippocampusmasked_brain_standardized.nii.gz\n",
      "Masking completed for /blue/stevenweisberg/ashishkumarsahoo/difumo/Data/freesurfer_121023/freesurfer/sub-1072/mri/brain_standardized.mgz. Output saved as /blue/stevenweisberg/ashishkumarsahoo/difumo/Data/freesurfer_121023/parahippocampus_standardized/sub-1072_parahippocampusmasked_brain_standardized.nii.gz\n",
      "Masking completed for /blue/stevenweisberg/ashishkumarsahoo/difumo/Data/freesurfer_121023/freesurfer/sub-1073/mri/brain_standardized.mgz. Output saved as /blue/stevenweisberg/ashishkumarsahoo/difumo/Data/freesurfer_121023/parahippocampus_standardized/sub-1073_parahippocampusmasked_brain_standardized.nii.gz\n",
      "Masking completed for /blue/stevenweisberg/ashishkumarsahoo/difumo/Data/freesurfer_121023/freesurfer/sub-1074/mri/brain_standardized.mgz. Output saved as /blue/stevenweisberg/ashishkumarsahoo/difumo/Data/freesurfer_121023/parahippocampus_standardized/sub-1074_parahippocampusmasked_brain_standardized.nii.gz\n",
      "Masking completed for /blue/stevenweisberg/ashishkumarsahoo/difumo/Data/freesurfer_121023/freesurfer/sub-1075/mri/brain_standardized.mgz. Output saved as /blue/stevenweisberg/ashishkumarsahoo/difumo/Data/freesurfer_121023/parahippocampus_standardized/sub-1075_parahippocampusmasked_brain_standardized.nii.gz\n",
      "Masking completed for /blue/stevenweisberg/ashishkumarsahoo/difumo/Data/freesurfer_121023/freesurfer/sub-1076/mri/brain_standardized.mgz. Output saved as /blue/stevenweisberg/ashishkumarsahoo/difumo/Data/freesurfer_121023/parahippocampus_standardized/sub-1076_parahippocampusmasked_brain_standardized.nii.gz\n",
      "Masking completed for /blue/stevenweisberg/ashishkumarsahoo/difumo/Data/freesurfer_121023/freesurfer/sub-1077/mri/brain_standardized.mgz. Output saved as /blue/stevenweisberg/ashishkumarsahoo/difumo/Data/freesurfer_121023/parahippocampus_standardized/sub-1077_parahippocampusmasked_brain_standardized.nii.gz\n",
      "Masking completed for /blue/stevenweisberg/ashishkumarsahoo/difumo/Data/freesurfer_121023/freesurfer/sub-1078/mri/brain_standardized.mgz. Output saved as /blue/stevenweisberg/ashishkumarsahoo/difumo/Data/freesurfer_121023/parahippocampus_standardized/sub-1078_parahippocampusmasked_brain_standardized.nii.gz\n",
      "Masking completed for /blue/stevenweisberg/ashishkumarsahoo/difumo/Data/freesurfer_121023/freesurfer/sub-1079/mri/brain_standardized.mgz. Output saved as /blue/stevenweisberg/ashishkumarsahoo/difumo/Data/freesurfer_121023/parahippocampus_standardized/sub-1079_parahippocampusmasked_brain_standardized.nii.gz\n",
      "Masking completed for /blue/stevenweisberg/ashishkumarsahoo/difumo/Data/freesurfer_121023/freesurfer/sub-1080/mri/brain_standardized.mgz. Output saved as /blue/stevenweisberg/ashishkumarsahoo/difumo/Data/freesurfer_121023/parahippocampus_standardized/sub-1080_parahippocampusmasked_brain_standardized.nii.gz\n",
      "Masking completed for /blue/stevenweisberg/ashishkumarsahoo/difumo/Data/freesurfer_121023/freesurfer/sub-1081/mri/brain_standardized.mgz. Output saved as /blue/stevenweisberg/ashishkumarsahoo/difumo/Data/freesurfer_121023/parahippocampus_standardized/sub-1081_parahippocampusmasked_brain_standardized.nii.gz\n",
      "Masking completed for /blue/stevenweisberg/ashishkumarsahoo/difumo/Data/freesurfer_121023/freesurfer/sub-1082/mri/brain_standardized.mgz. Output saved as /blue/stevenweisberg/ashishkumarsahoo/difumo/Data/freesurfer_121023/parahippocampus_standardized/sub-1082_parahippocampusmasked_brain_standardized.nii.gz\n",
      "Masking completed for /blue/stevenweisberg/ashishkumarsahoo/difumo/Data/freesurfer_121023/freesurfer/sub-1083/mri/brain_standardized.mgz. Output saved as /blue/stevenweisberg/ashishkumarsahoo/difumo/Data/freesurfer_121023/parahippocampus_standardized/sub-1083_parahippocampusmasked_brain_standardized.nii.gz\n",
      "Masking completed for /blue/stevenweisberg/ashishkumarsahoo/difumo/Data/freesurfer_121023/freesurfer/sub-1084/mri/brain_standardized.mgz. Output saved as /blue/stevenweisberg/ashishkumarsahoo/difumo/Data/freesurfer_121023/parahippocampus_standardized/sub-1084_parahippocampusmasked_brain_standardized.nii.gz\n",
      "Masking completed for /blue/stevenweisberg/ashishkumarsahoo/difumo/Data/freesurfer_121023/freesurfer/sub-1085/mri/brain_standardized.mgz. Output saved as /blue/stevenweisberg/ashishkumarsahoo/difumo/Data/freesurfer_121023/parahippocampus_standardized/sub-1085_parahippocampusmasked_brain_standardized.nii.gz\n",
      "Masking completed for /blue/stevenweisberg/ashishkumarsahoo/difumo/Data/freesurfer_121023/freesurfer/sub-1086/mri/brain_standardized.mgz. Output saved as /blue/stevenweisberg/ashishkumarsahoo/difumo/Data/freesurfer_121023/parahippocampus_standardized/sub-1086_parahippocampusmasked_brain_standardized.nii.gz\n",
      "Masking completed for /blue/stevenweisberg/ashishkumarsahoo/difumo/Data/freesurfer_121023/freesurfer/sub-1087/mri/brain_standardized.mgz. Output saved as /blue/stevenweisberg/ashishkumarsahoo/difumo/Data/freesurfer_121023/parahippocampus_standardized/sub-1087_parahippocampusmasked_brain_standardized.nii.gz\n",
      "Masking completed for /blue/stevenweisberg/ashishkumarsahoo/difumo/Data/freesurfer_121023/freesurfer/sub-1088/mri/brain_standardized.mgz. Output saved as /blue/stevenweisberg/ashishkumarsahoo/difumo/Data/freesurfer_121023/parahippocampus_standardized/sub-1088_parahippocampusmasked_brain_standardized.nii.gz\n",
      "Masking completed for /blue/stevenweisberg/ashishkumarsahoo/difumo/Data/freesurfer_121023/freesurfer/sub-1089/mri/brain_standardized.mgz. Output saved as /blue/stevenweisberg/ashishkumarsahoo/difumo/Data/freesurfer_121023/parahippocampus_standardized/sub-1089_parahippocampusmasked_brain_standardized.nii.gz\n",
      "Masking completed for /blue/stevenweisberg/ashishkumarsahoo/difumo/Data/freesurfer_121023/freesurfer/sub-1090/mri/brain_standardized.mgz. Output saved as /blue/stevenweisberg/ashishkumarsahoo/difumo/Data/freesurfer_121023/parahippocampus_standardized/sub-1090_parahippocampusmasked_brain_standardized.nii.gz\n",
      "Masking completed for /blue/stevenweisberg/ashishkumarsahoo/difumo/Data/freesurfer_121023/freesurfer/sub-1091/mri/brain_standardized.mgz. Output saved as /blue/stevenweisberg/ashishkumarsahoo/difumo/Data/freesurfer_121023/parahippocampus_standardized/sub-1091_parahippocampusmasked_brain_standardized.nii.gz\n",
      "Masking completed for /blue/stevenweisberg/ashishkumarsahoo/difumo/Data/freesurfer_121023/freesurfer/sub-1092/mri/brain_standardized.mgz. Output saved as /blue/stevenweisberg/ashishkumarsahoo/difumo/Data/freesurfer_121023/parahippocampus_standardized/sub-1092_parahippocampusmasked_brain_standardized.nii.gz\n"
     ]
    }
   ],
   "source": [
    "import nibabel as nib\n",
    "import numpy as np\n",
    "\n",
    "# Lists containing filenames\n",
    "#raw_list = ['rawavg1.mgz', 'rawavg2.mgz', 'rawavg3.mgz']  # Replace with your rawavg_img filenames\n",
    "#mask_list = ['mask1.nii.gz', 'mask2.nii.gz', 'mask3.nii.gz']  # Replace with your hippocampus_mask filenames\n",
    "#output_list = ['masked_output1.nii.gz', 'masked_output2.nii.gz', 'masked_output3.nii.gz']  # Replace with desired output filenames\n",
    "\n",
    "for raw_file, mask_file, output_file in zip(brain_list, mask_list, output_list):\n",
    "    # Load the MRI image and mask\n",
    "    rawavg_img = nib.load(raw_file)\n",
    "    mask_img = nib.load(mask_file)\n",
    "\n",
    "    # Get the data arrays from the images\n",
    "    rawavg_data = rawavg_img.get_fdata()\n",
    "    mask_data = mask_img.get_fdata()\n",
    "\n",
    "    # Apply the mask\n",
    "    masked_data = np.where(mask_data == 1, rawavg_data, 0)\n",
    "\n",
    "    # Create a new NIfTI image with the masked data\n",
    "    masked_img = nib.Nifti1Image(masked_data, rawavg_img.affine)\n",
    "\n",
    "    # Save the masked image\n",
    "    nib.save(masked_img, output_file)\n",
    "\n",
    "    print(f\"Masking completed for {raw_file}. Output saved as {output_file}\")\n"
   ]
  },
  {
   "cell_type": "markdown",
   "id": "929374fc-aaac-41d4-89da-a2b778402856",
   "metadata": {},
   "source": [
    "## entorhinal 1006 2006"
   ]
  },
  {
   "cell_type": "code",
   "execution_count": 5,
   "id": "34a33d66-1a6b-49d2-8964-d399d467997c",
   "metadata": {
    "tags": []
   },
   "outputs": [],
   "source": [
    "entorhinalmask_list = [\"mri_binarize --i /blue/stevenweisberg/ashishkumarsahoo/difumo/Data/freesurfer_121023/freesurfer/{}/mri/aparc+aseg_standardized.mgz --match 1006 2006 --o /blue/stevenweisberg/ashishkumarsahoo/difumo/Data/freesurfer_121023/freesurfer/{}/mri/entorhinal_standardized_mask.nii.gz\".format(subj, subj) for subj in subjs]"
   ]
  },
  {
   "cell_type": "code",
   "execution_count": 6,
   "id": "9e1020e4-02bb-4472-aada-b428ca342d8c",
   "metadata": {
    "tags": []
   },
   "outputs": [],
   "source": [
    "with open('entorhinalmask_standardized_list.txt', 'w') as f:\n",
    "    for entorhinalmask in entorhinalmask_list:\n",
    "        f.write(entorhinalmask + '\\n')"
   ]
  },
  {
   "cell_type": "code",
   "execution_count": 7,
   "id": "46c0e961-be6d-4e18-ae2f-27bf2d6364db",
   "metadata": {},
   "outputs": [],
   "source": [
    "brain_list = [\"/blue/stevenweisberg/ashishkumarsahoo/difumo/Data/freesurfer_121023/freesurfer/{}/mri/brain_standardized.mgz\".format(subj) for subj in subjs]\n",
    "mask_list = [\"/blue/stevenweisberg/ashishkumarsahoo/difumo/Data/freesurfer_121023/freesurfer/{}/mri/entorhinal_standardized_mask.nii.gz\".format(subj) for subj in subjs]\n",
    "output_list = [\"/blue/stevenweisberg/ashishkumarsahoo/difumo/Data/freesurfer_121023/entorhinal_standardized/{}_entorhinalmasked_brain_standardized.nii.gz\".format(subj) for subj in subjs]"
   ]
  },
  {
   "cell_type": "code",
   "execution_count": 8,
   "id": "c9b7d42f-2b5e-4f69-a4df-0c030adcb5ff",
   "metadata": {},
   "outputs": [
    {
     "name": "stdout",
     "output_type": "stream",
     "text": [
      "Masking completed for /blue/stevenweisberg/ashishkumarsahoo/difumo/Data/freesurfer_121023/freesurfer/sub-1002/mri/brain_standardized.mgz. Output saved as /blue/stevenweisberg/ashishkumarsahoo/difumo/Data/freesurfer_121023/entorhinal_standardized/sub-1002_entorhinalmasked_brain_standardized.nii.gz\n",
      "Masking completed for /blue/stevenweisberg/ashishkumarsahoo/difumo/Data/freesurfer_121023/freesurfer/sub-1003/mri/brain_standardized.mgz. Output saved as /blue/stevenweisberg/ashishkumarsahoo/difumo/Data/freesurfer_121023/entorhinal_standardized/sub-1003_entorhinalmasked_brain_standardized.nii.gz\n",
      "Masking completed for /blue/stevenweisberg/ashishkumarsahoo/difumo/Data/freesurfer_121023/freesurfer/sub-1004/mri/brain_standardized.mgz. Output saved as /blue/stevenweisberg/ashishkumarsahoo/difumo/Data/freesurfer_121023/entorhinal_standardized/sub-1004_entorhinalmasked_brain_standardized.nii.gz\n",
      "Masking completed for /blue/stevenweisberg/ashishkumarsahoo/difumo/Data/freesurfer_121023/freesurfer/sub-1005/mri/brain_standardized.mgz. Output saved as /blue/stevenweisberg/ashishkumarsahoo/difumo/Data/freesurfer_121023/entorhinal_standardized/sub-1005_entorhinalmasked_brain_standardized.nii.gz\n",
      "Masking completed for /blue/stevenweisberg/ashishkumarsahoo/difumo/Data/freesurfer_121023/freesurfer/sub-1006/mri/brain_standardized.mgz. Output saved as /blue/stevenweisberg/ashishkumarsahoo/difumo/Data/freesurfer_121023/entorhinal_standardized/sub-1006_entorhinalmasked_brain_standardized.nii.gz\n",
      "Masking completed for /blue/stevenweisberg/ashishkumarsahoo/difumo/Data/freesurfer_121023/freesurfer/sub-1007/mri/brain_standardized.mgz. Output saved as /blue/stevenweisberg/ashishkumarsahoo/difumo/Data/freesurfer_121023/entorhinal_standardized/sub-1007_entorhinalmasked_brain_standardized.nii.gz\n",
      "Masking completed for /blue/stevenweisberg/ashishkumarsahoo/difumo/Data/freesurfer_121023/freesurfer/sub-1008/mri/brain_standardized.mgz. Output saved as /blue/stevenweisberg/ashishkumarsahoo/difumo/Data/freesurfer_121023/entorhinal_standardized/sub-1008_entorhinalmasked_brain_standardized.nii.gz\n",
      "Masking completed for /blue/stevenweisberg/ashishkumarsahoo/difumo/Data/freesurfer_121023/freesurfer/sub-1009/mri/brain_standardized.mgz. Output saved as /blue/stevenweisberg/ashishkumarsahoo/difumo/Data/freesurfer_121023/entorhinal_standardized/sub-1009_entorhinalmasked_brain_standardized.nii.gz\n",
      "Masking completed for /blue/stevenweisberg/ashishkumarsahoo/difumo/Data/freesurfer_121023/freesurfer/sub-1010/mri/brain_standardized.mgz. Output saved as /blue/stevenweisberg/ashishkumarsahoo/difumo/Data/freesurfer_121023/entorhinal_standardized/sub-1010_entorhinalmasked_brain_standardized.nii.gz\n",
      "Masking completed for /blue/stevenweisberg/ashishkumarsahoo/difumo/Data/freesurfer_121023/freesurfer/sub-1011/mri/brain_standardized.mgz. Output saved as /blue/stevenweisberg/ashishkumarsahoo/difumo/Data/freesurfer_121023/entorhinal_standardized/sub-1011_entorhinalmasked_brain_standardized.nii.gz\n",
      "Masking completed for /blue/stevenweisberg/ashishkumarsahoo/difumo/Data/freesurfer_121023/freesurfer/sub-1012/mri/brain_standardized.mgz. Output saved as /blue/stevenweisberg/ashishkumarsahoo/difumo/Data/freesurfer_121023/entorhinal_standardized/sub-1012_entorhinalmasked_brain_standardized.nii.gz\n",
      "Masking completed for /blue/stevenweisberg/ashishkumarsahoo/difumo/Data/freesurfer_121023/freesurfer/sub-1013/mri/brain_standardized.mgz. Output saved as /blue/stevenweisberg/ashishkumarsahoo/difumo/Data/freesurfer_121023/entorhinal_standardized/sub-1013_entorhinalmasked_brain_standardized.nii.gz\n",
      "Masking completed for /blue/stevenweisberg/ashishkumarsahoo/difumo/Data/freesurfer_121023/freesurfer/sub-1014/mri/brain_standardized.mgz. Output saved as /blue/stevenweisberg/ashishkumarsahoo/difumo/Data/freesurfer_121023/entorhinal_standardized/sub-1014_entorhinalmasked_brain_standardized.nii.gz\n",
      "Masking completed for /blue/stevenweisberg/ashishkumarsahoo/difumo/Data/freesurfer_121023/freesurfer/sub-1015/mri/brain_standardized.mgz. Output saved as /blue/stevenweisberg/ashishkumarsahoo/difumo/Data/freesurfer_121023/entorhinal_standardized/sub-1015_entorhinalmasked_brain_standardized.nii.gz\n",
      "Masking completed for /blue/stevenweisberg/ashishkumarsahoo/difumo/Data/freesurfer_121023/freesurfer/sub-1016/mri/brain_standardized.mgz. Output saved as /blue/stevenweisberg/ashishkumarsahoo/difumo/Data/freesurfer_121023/entorhinal_standardized/sub-1016_entorhinalmasked_brain_standardized.nii.gz\n",
      "Masking completed for /blue/stevenweisberg/ashishkumarsahoo/difumo/Data/freesurfer_121023/freesurfer/sub-1017/mri/brain_standardized.mgz. Output saved as /blue/stevenweisberg/ashishkumarsahoo/difumo/Data/freesurfer_121023/entorhinal_standardized/sub-1017_entorhinalmasked_brain_standardized.nii.gz\n",
      "Masking completed for /blue/stevenweisberg/ashishkumarsahoo/difumo/Data/freesurfer_121023/freesurfer/sub-1018/mri/brain_standardized.mgz. Output saved as /blue/stevenweisberg/ashishkumarsahoo/difumo/Data/freesurfer_121023/entorhinal_standardized/sub-1018_entorhinalmasked_brain_standardized.nii.gz\n",
      "Masking completed for /blue/stevenweisberg/ashishkumarsahoo/difumo/Data/freesurfer_121023/freesurfer/sub-1019/mri/brain_standardized.mgz. Output saved as /blue/stevenweisberg/ashishkumarsahoo/difumo/Data/freesurfer_121023/entorhinal_standardized/sub-1019_entorhinalmasked_brain_standardized.nii.gz\n",
      "Masking completed for /blue/stevenweisberg/ashishkumarsahoo/difumo/Data/freesurfer_121023/freesurfer/sub-1020/mri/brain_standardized.mgz. Output saved as /blue/stevenweisberg/ashishkumarsahoo/difumo/Data/freesurfer_121023/entorhinal_standardized/sub-1020_entorhinalmasked_brain_standardized.nii.gz\n",
      "Masking completed for /blue/stevenweisberg/ashishkumarsahoo/difumo/Data/freesurfer_121023/freesurfer/sub-1022/mri/brain_standardized.mgz. Output saved as /blue/stevenweisberg/ashishkumarsahoo/difumo/Data/freesurfer_121023/entorhinal_standardized/sub-1022_entorhinalmasked_brain_standardized.nii.gz\n",
      "Masking completed for /blue/stevenweisberg/ashishkumarsahoo/difumo/Data/freesurfer_121023/freesurfer/sub-1023/mri/brain_standardized.mgz. Output saved as /blue/stevenweisberg/ashishkumarsahoo/difumo/Data/freesurfer_121023/entorhinal_standardized/sub-1023_entorhinalmasked_brain_standardized.nii.gz\n",
      "Masking completed for /blue/stevenweisberg/ashishkumarsahoo/difumo/Data/freesurfer_121023/freesurfer/sub-1024/mri/brain_standardized.mgz. Output saved as /blue/stevenweisberg/ashishkumarsahoo/difumo/Data/freesurfer_121023/entorhinal_standardized/sub-1024_entorhinalmasked_brain_standardized.nii.gz\n",
      "Masking completed for /blue/stevenweisberg/ashishkumarsahoo/difumo/Data/freesurfer_121023/freesurfer/sub-1025/mri/brain_standardized.mgz. Output saved as /blue/stevenweisberg/ashishkumarsahoo/difumo/Data/freesurfer_121023/entorhinal_standardized/sub-1025_entorhinalmasked_brain_standardized.nii.gz\n",
      "Masking completed for /blue/stevenweisberg/ashishkumarsahoo/difumo/Data/freesurfer_121023/freesurfer/sub-1026/mri/brain_standardized.mgz. Output saved as /blue/stevenweisberg/ashishkumarsahoo/difumo/Data/freesurfer_121023/entorhinal_standardized/sub-1026_entorhinalmasked_brain_standardized.nii.gz\n",
      "Masking completed for /blue/stevenweisberg/ashishkumarsahoo/difumo/Data/freesurfer_121023/freesurfer/sub-1027/mri/brain_standardized.mgz. Output saved as /blue/stevenweisberg/ashishkumarsahoo/difumo/Data/freesurfer_121023/entorhinal_standardized/sub-1027_entorhinalmasked_brain_standardized.nii.gz\n",
      "Masking completed for /blue/stevenweisberg/ashishkumarsahoo/difumo/Data/freesurfer_121023/freesurfer/sub-1028/mri/brain_standardized.mgz. Output saved as /blue/stevenweisberg/ashishkumarsahoo/difumo/Data/freesurfer_121023/entorhinal_standardized/sub-1028_entorhinalmasked_brain_standardized.nii.gz\n",
      "Masking completed for /blue/stevenweisberg/ashishkumarsahoo/difumo/Data/freesurfer_121023/freesurfer/sub-1029/mri/brain_standardized.mgz. Output saved as /blue/stevenweisberg/ashishkumarsahoo/difumo/Data/freesurfer_121023/entorhinal_standardized/sub-1029_entorhinalmasked_brain_standardized.nii.gz\n",
      "Masking completed for /blue/stevenweisberg/ashishkumarsahoo/difumo/Data/freesurfer_121023/freesurfer/sub-1030/mri/brain_standardized.mgz. Output saved as /blue/stevenweisberg/ashishkumarsahoo/difumo/Data/freesurfer_121023/entorhinal_standardized/sub-1030_entorhinalmasked_brain_standardized.nii.gz\n",
      "Masking completed for /blue/stevenweisberg/ashishkumarsahoo/difumo/Data/freesurfer_121023/freesurfer/sub-1031/mri/brain_standardized.mgz. Output saved as /blue/stevenweisberg/ashishkumarsahoo/difumo/Data/freesurfer_121023/entorhinal_standardized/sub-1031_entorhinalmasked_brain_standardized.nii.gz\n",
      "Masking completed for /blue/stevenweisberg/ashishkumarsahoo/difumo/Data/freesurfer_121023/freesurfer/sub-1032/mri/brain_standardized.mgz. Output saved as /blue/stevenweisberg/ashishkumarsahoo/difumo/Data/freesurfer_121023/entorhinal_standardized/sub-1032_entorhinalmasked_brain_standardized.nii.gz\n",
      "Masking completed for /blue/stevenweisberg/ashishkumarsahoo/difumo/Data/freesurfer_121023/freesurfer/sub-1033/mri/brain_standardized.mgz. Output saved as /blue/stevenweisberg/ashishkumarsahoo/difumo/Data/freesurfer_121023/entorhinal_standardized/sub-1033_entorhinalmasked_brain_standardized.nii.gz\n",
      "Masking completed for /blue/stevenweisberg/ashishkumarsahoo/difumo/Data/freesurfer_121023/freesurfer/sub-1034/mri/brain_standardized.mgz. Output saved as /blue/stevenweisberg/ashishkumarsahoo/difumo/Data/freesurfer_121023/entorhinal_standardized/sub-1034_entorhinalmasked_brain_standardized.nii.gz\n",
      "Masking completed for /blue/stevenweisberg/ashishkumarsahoo/difumo/Data/freesurfer_121023/freesurfer/sub-1035/mri/brain_standardized.mgz. Output saved as /blue/stevenweisberg/ashishkumarsahoo/difumo/Data/freesurfer_121023/entorhinal_standardized/sub-1035_entorhinalmasked_brain_standardized.nii.gz\n",
      "Masking completed for /blue/stevenweisberg/ashishkumarsahoo/difumo/Data/freesurfer_121023/freesurfer/sub-1036/mri/brain_standardized.mgz. Output saved as /blue/stevenweisberg/ashishkumarsahoo/difumo/Data/freesurfer_121023/entorhinal_standardized/sub-1036_entorhinalmasked_brain_standardized.nii.gz\n",
      "Masking completed for /blue/stevenweisberg/ashishkumarsahoo/difumo/Data/freesurfer_121023/freesurfer/sub-1037/mri/brain_standardized.mgz. Output saved as /blue/stevenweisberg/ashishkumarsahoo/difumo/Data/freesurfer_121023/entorhinal_standardized/sub-1037_entorhinalmasked_brain_standardized.nii.gz\n",
      "Masking completed for /blue/stevenweisberg/ashishkumarsahoo/difumo/Data/freesurfer_121023/freesurfer/sub-1038/mri/brain_standardized.mgz. Output saved as /blue/stevenweisberg/ashishkumarsahoo/difumo/Data/freesurfer_121023/entorhinal_standardized/sub-1038_entorhinalmasked_brain_standardized.nii.gz\n",
      "Masking completed for /blue/stevenweisberg/ashishkumarsahoo/difumo/Data/freesurfer_121023/freesurfer/sub-1039/mri/brain_standardized.mgz. Output saved as /blue/stevenweisberg/ashishkumarsahoo/difumo/Data/freesurfer_121023/entorhinal_standardized/sub-1039_entorhinalmasked_brain_standardized.nii.gz\n",
      "Masking completed for /blue/stevenweisberg/ashishkumarsahoo/difumo/Data/freesurfer_121023/freesurfer/sub-1040/mri/brain_standardized.mgz. Output saved as /blue/stevenweisberg/ashishkumarsahoo/difumo/Data/freesurfer_121023/entorhinal_standardized/sub-1040_entorhinalmasked_brain_standardized.nii.gz\n",
      "Masking completed for /blue/stevenweisberg/ashishkumarsahoo/difumo/Data/freesurfer_121023/freesurfer/sub-1041/mri/brain_standardized.mgz. Output saved as /blue/stevenweisberg/ashishkumarsahoo/difumo/Data/freesurfer_121023/entorhinal_standardized/sub-1041_entorhinalmasked_brain_standardized.nii.gz\n",
      "Masking completed for /blue/stevenweisberg/ashishkumarsahoo/difumo/Data/freesurfer_121023/freesurfer/sub-1042/mri/brain_standardized.mgz. Output saved as /blue/stevenweisberg/ashishkumarsahoo/difumo/Data/freesurfer_121023/entorhinal_standardized/sub-1042_entorhinalmasked_brain_standardized.nii.gz\n",
      "Masking completed for /blue/stevenweisberg/ashishkumarsahoo/difumo/Data/freesurfer_121023/freesurfer/sub-1043/mri/brain_standardized.mgz. Output saved as /blue/stevenweisberg/ashishkumarsahoo/difumo/Data/freesurfer_121023/entorhinal_standardized/sub-1043_entorhinalmasked_brain_standardized.nii.gz\n",
      "Masking completed for /blue/stevenweisberg/ashishkumarsahoo/difumo/Data/freesurfer_121023/freesurfer/sub-1044/mri/brain_standardized.mgz. Output saved as /blue/stevenweisberg/ashishkumarsahoo/difumo/Data/freesurfer_121023/entorhinal_standardized/sub-1044_entorhinalmasked_brain_standardized.nii.gz\n",
      "Masking completed for /blue/stevenweisberg/ashishkumarsahoo/difumo/Data/freesurfer_121023/freesurfer/sub-1045/mri/brain_standardized.mgz. Output saved as /blue/stevenweisberg/ashishkumarsahoo/difumo/Data/freesurfer_121023/entorhinal_standardized/sub-1045_entorhinalmasked_brain_standardized.nii.gz\n",
      "Masking completed for /blue/stevenweisberg/ashishkumarsahoo/difumo/Data/freesurfer_121023/freesurfer/sub-1046/mri/brain_standardized.mgz. Output saved as /blue/stevenweisberg/ashishkumarsahoo/difumo/Data/freesurfer_121023/entorhinal_standardized/sub-1046_entorhinalmasked_brain_standardized.nii.gz\n",
      "Masking completed for /blue/stevenweisberg/ashishkumarsahoo/difumo/Data/freesurfer_121023/freesurfer/sub-1047/mri/brain_standardized.mgz. Output saved as /blue/stevenweisberg/ashishkumarsahoo/difumo/Data/freesurfer_121023/entorhinal_standardized/sub-1047_entorhinalmasked_brain_standardized.nii.gz\n",
      "Masking completed for /blue/stevenweisberg/ashishkumarsahoo/difumo/Data/freesurfer_121023/freesurfer/sub-1048/mri/brain_standardized.mgz. Output saved as /blue/stevenweisberg/ashishkumarsahoo/difumo/Data/freesurfer_121023/entorhinal_standardized/sub-1048_entorhinalmasked_brain_standardized.nii.gz\n",
      "Masking completed for /blue/stevenweisberg/ashishkumarsahoo/difumo/Data/freesurfer_121023/freesurfer/sub-1049/mri/brain_standardized.mgz. Output saved as /blue/stevenweisberg/ashishkumarsahoo/difumo/Data/freesurfer_121023/entorhinal_standardized/sub-1049_entorhinalmasked_brain_standardized.nii.gz\n",
      "Masking completed for /blue/stevenweisberg/ashishkumarsahoo/difumo/Data/freesurfer_121023/freesurfer/sub-1050/mri/brain_standardized.mgz. Output saved as /blue/stevenweisberg/ashishkumarsahoo/difumo/Data/freesurfer_121023/entorhinal_standardized/sub-1050_entorhinalmasked_brain_standardized.nii.gz\n",
      "Masking completed for /blue/stevenweisberg/ashishkumarsahoo/difumo/Data/freesurfer_121023/freesurfer/sub-1051/mri/brain_standardized.mgz. Output saved as /blue/stevenweisberg/ashishkumarsahoo/difumo/Data/freesurfer_121023/entorhinal_standardized/sub-1051_entorhinalmasked_brain_standardized.nii.gz\n",
      "Masking completed for /blue/stevenweisberg/ashishkumarsahoo/difumo/Data/freesurfer_121023/freesurfer/sub-1052/mri/brain_standardized.mgz. Output saved as /blue/stevenweisberg/ashishkumarsahoo/difumo/Data/freesurfer_121023/entorhinal_standardized/sub-1052_entorhinalmasked_brain_standardized.nii.gz\n",
      "Masking completed for /blue/stevenweisberg/ashishkumarsahoo/difumo/Data/freesurfer_121023/freesurfer/sub-1053/mri/brain_standardized.mgz. Output saved as /blue/stevenweisberg/ashishkumarsahoo/difumo/Data/freesurfer_121023/entorhinal_standardized/sub-1053_entorhinalmasked_brain_standardized.nii.gz\n",
      "Masking completed for /blue/stevenweisberg/ashishkumarsahoo/difumo/Data/freesurfer_121023/freesurfer/sub-1054/mri/brain_standardized.mgz. Output saved as /blue/stevenweisberg/ashishkumarsahoo/difumo/Data/freesurfer_121023/entorhinal_standardized/sub-1054_entorhinalmasked_brain_standardized.nii.gz\n",
      "Masking completed for /blue/stevenweisberg/ashishkumarsahoo/difumo/Data/freesurfer_121023/freesurfer/sub-1055/mri/brain_standardized.mgz. Output saved as /blue/stevenweisberg/ashishkumarsahoo/difumo/Data/freesurfer_121023/entorhinal_standardized/sub-1055_entorhinalmasked_brain_standardized.nii.gz\n",
      "Masking completed for /blue/stevenweisberg/ashishkumarsahoo/difumo/Data/freesurfer_121023/freesurfer/sub-1056/mri/brain_standardized.mgz. Output saved as /blue/stevenweisberg/ashishkumarsahoo/difumo/Data/freesurfer_121023/entorhinal_standardized/sub-1056_entorhinalmasked_brain_standardized.nii.gz\n",
      "Masking completed for /blue/stevenweisberg/ashishkumarsahoo/difumo/Data/freesurfer_121023/freesurfer/sub-1057/mri/brain_standardized.mgz. Output saved as /blue/stevenweisberg/ashishkumarsahoo/difumo/Data/freesurfer_121023/entorhinal_standardized/sub-1057_entorhinalmasked_brain_standardized.nii.gz\n",
      "Masking completed for /blue/stevenweisberg/ashishkumarsahoo/difumo/Data/freesurfer_121023/freesurfer/sub-1058/mri/brain_standardized.mgz. Output saved as /blue/stevenweisberg/ashishkumarsahoo/difumo/Data/freesurfer_121023/entorhinal_standardized/sub-1058_entorhinalmasked_brain_standardized.nii.gz\n",
      "Masking completed for /blue/stevenweisberg/ashishkumarsahoo/difumo/Data/freesurfer_121023/freesurfer/sub-1059/mri/brain_standardized.mgz. Output saved as /blue/stevenweisberg/ashishkumarsahoo/difumo/Data/freesurfer_121023/entorhinal_standardized/sub-1059_entorhinalmasked_brain_standardized.nii.gz\n",
      "Masking completed for /blue/stevenweisberg/ashishkumarsahoo/difumo/Data/freesurfer_121023/freesurfer/sub-1060/mri/brain_standardized.mgz. Output saved as /blue/stevenweisberg/ashishkumarsahoo/difumo/Data/freesurfer_121023/entorhinal_standardized/sub-1060_entorhinalmasked_brain_standardized.nii.gz\n",
      "Masking completed for /blue/stevenweisberg/ashishkumarsahoo/difumo/Data/freesurfer_121023/freesurfer/sub-1061/mri/brain_standardized.mgz. Output saved as /blue/stevenweisberg/ashishkumarsahoo/difumo/Data/freesurfer_121023/entorhinal_standardized/sub-1061_entorhinalmasked_brain_standardized.nii.gz\n",
      "Masking completed for /blue/stevenweisberg/ashishkumarsahoo/difumo/Data/freesurfer_121023/freesurfer/sub-1062/mri/brain_standardized.mgz. Output saved as /blue/stevenweisberg/ashishkumarsahoo/difumo/Data/freesurfer_121023/entorhinal_standardized/sub-1062_entorhinalmasked_brain_standardized.nii.gz\n",
      "Masking completed for /blue/stevenweisberg/ashishkumarsahoo/difumo/Data/freesurfer_121023/freesurfer/sub-1063/mri/brain_standardized.mgz. Output saved as /blue/stevenweisberg/ashishkumarsahoo/difumo/Data/freesurfer_121023/entorhinal_standardized/sub-1063_entorhinalmasked_brain_standardized.nii.gz\n",
      "Masking completed for /blue/stevenweisberg/ashishkumarsahoo/difumo/Data/freesurfer_121023/freesurfer/sub-1064/mri/brain_standardized.mgz. Output saved as /blue/stevenweisberg/ashishkumarsahoo/difumo/Data/freesurfer_121023/entorhinal_standardized/sub-1064_entorhinalmasked_brain_standardized.nii.gz\n",
      "Masking completed for /blue/stevenweisberg/ashishkumarsahoo/difumo/Data/freesurfer_121023/freesurfer/sub-1065/mri/brain_standardized.mgz. Output saved as /blue/stevenweisberg/ashishkumarsahoo/difumo/Data/freesurfer_121023/entorhinal_standardized/sub-1065_entorhinalmasked_brain_standardized.nii.gz\n",
      "Masking completed for /blue/stevenweisberg/ashishkumarsahoo/difumo/Data/freesurfer_121023/freesurfer/sub-1066/mri/brain_standardized.mgz. Output saved as /blue/stevenweisberg/ashishkumarsahoo/difumo/Data/freesurfer_121023/entorhinal_standardized/sub-1066_entorhinalmasked_brain_standardized.nii.gz\n",
      "Masking completed for /blue/stevenweisberg/ashishkumarsahoo/difumo/Data/freesurfer_121023/freesurfer/sub-1067/mri/brain_standardized.mgz. Output saved as /blue/stevenweisberg/ashishkumarsahoo/difumo/Data/freesurfer_121023/entorhinal_standardized/sub-1067_entorhinalmasked_brain_standardized.nii.gz\n",
      "Masking completed for /blue/stevenweisberg/ashishkumarsahoo/difumo/Data/freesurfer_121023/freesurfer/sub-1068/mri/brain_standardized.mgz. Output saved as /blue/stevenweisberg/ashishkumarsahoo/difumo/Data/freesurfer_121023/entorhinal_standardized/sub-1068_entorhinalmasked_brain_standardized.nii.gz\n",
      "Masking completed for /blue/stevenweisberg/ashishkumarsahoo/difumo/Data/freesurfer_121023/freesurfer/sub-1069/mri/brain_standardized.mgz. Output saved as /blue/stevenweisberg/ashishkumarsahoo/difumo/Data/freesurfer_121023/entorhinal_standardized/sub-1069_entorhinalmasked_brain_standardized.nii.gz\n",
      "Masking completed for /blue/stevenweisberg/ashishkumarsahoo/difumo/Data/freesurfer_121023/freesurfer/sub-1070/mri/brain_standardized.mgz. Output saved as /blue/stevenweisberg/ashishkumarsahoo/difumo/Data/freesurfer_121023/entorhinal_standardized/sub-1070_entorhinalmasked_brain_standardized.nii.gz\n",
      "Masking completed for /blue/stevenweisberg/ashishkumarsahoo/difumo/Data/freesurfer_121023/freesurfer/sub-1071/mri/brain_standardized.mgz. Output saved as /blue/stevenweisberg/ashishkumarsahoo/difumo/Data/freesurfer_121023/entorhinal_standardized/sub-1071_entorhinalmasked_brain_standardized.nii.gz\n",
      "Masking completed for /blue/stevenweisberg/ashishkumarsahoo/difumo/Data/freesurfer_121023/freesurfer/sub-1072/mri/brain_standardized.mgz. Output saved as /blue/stevenweisberg/ashishkumarsahoo/difumo/Data/freesurfer_121023/entorhinal_standardized/sub-1072_entorhinalmasked_brain_standardized.nii.gz\n",
      "Masking completed for /blue/stevenweisberg/ashishkumarsahoo/difumo/Data/freesurfer_121023/freesurfer/sub-1073/mri/brain_standardized.mgz. Output saved as /blue/stevenweisberg/ashishkumarsahoo/difumo/Data/freesurfer_121023/entorhinal_standardized/sub-1073_entorhinalmasked_brain_standardized.nii.gz\n",
      "Masking completed for /blue/stevenweisberg/ashishkumarsahoo/difumo/Data/freesurfer_121023/freesurfer/sub-1074/mri/brain_standardized.mgz. Output saved as /blue/stevenweisberg/ashishkumarsahoo/difumo/Data/freesurfer_121023/entorhinal_standardized/sub-1074_entorhinalmasked_brain_standardized.nii.gz\n",
      "Masking completed for /blue/stevenweisberg/ashishkumarsahoo/difumo/Data/freesurfer_121023/freesurfer/sub-1075/mri/brain_standardized.mgz. Output saved as /blue/stevenweisberg/ashishkumarsahoo/difumo/Data/freesurfer_121023/entorhinal_standardized/sub-1075_entorhinalmasked_brain_standardized.nii.gz\n",
      "Masking completed for /blue/stevenweisberg/ashishkumarsahoo/difumo/Data/freesurfer_121023/freesurfer/sub-1076/mri/brain_standardized.mgz. Output saved as /blue/stevenweisberg/ashishkumarsahoo/difumo/Data/freesurfer_121023/entorhinal_standardized/sub-1076_entorhinalmasked_brain_standardized.nii.gz\n",
      "Masking completed for /blue/stevenweisberg/ashishkumarsahoo/difumo/Data/freesurfer_121023/freesurfer/sub-1077/mri/brain_standardized.mgz. Output saved as /blue/stevenweisberg/ashishkumarsahoo/difumo/Data/freesurfer_121023/entorhinal_standardized/sub-1077_entorhinalmasked_brain_standardized.nii.gz\n",
      "Masking completed for /blue/stevenweisberg/ashishkumarsahoo/difumo/Data/freesurfer_121023/freesurfer/sub-1078/mri/brain_standardized.mgz. Output saved as /blue/stevenweisberg/ashishkumarsahoo/difumo/Data/freesurfer_121023/entorhinal_standardized/sub-1078_entorhinalmasked_brain_standardized.nii.gz\n",
      "Masking completed for /blue/stevenweisberg/ashishkumarsahoo/difumo/Data/freesurfer_121023/freesurfer/sub-1079/mri/brain_standardized.mgz. Output saved as /blue/stevenweisberg/ashishkumarsahoo/difumo/Data/freesurfer_121023/entorhinal_standardized/sub-1079_entorhinalmasked_brain_standardized.nii.gz\n",
      "Masking completed for /blue/stevenweisberg/ashishkumarsahoo/difumo/Data/freesurfer_121023/freesurfer/sub-1080/mri/brain_standardized.mgz. Output saved as /blue/stevenweisberg/ashishkumarsahoo/difumo/Data/freesurfer_121023/entorhinal_standardized/sub-1080_entorhinalmasked_brain_standardized.nii.gz\n",
      "Masking completed for /blue/stevenweisberg/ashishkumarsahoo/difumo/Data/freesurfer_121023/freesurfer/sub-1081/mri/brain_standardized.mgz. Output saved as /blue/stevenweisberg/ashishkumarsahoo/difumo/Data/freesurfer_121023/entorhinal_standardized/sub-1081_entorhinalmasked_brain_standardized.nii.gz\n",
      "Masking completed for /blue/stevenweisberg/ashishkumarsahoo/difumo/Data/freesurfer_121023/freesurfer/sub-1082/mri/brain_standardized.mgz. Output saved as /blue/stevenweisberg/ashishkumarsahoo/difumo/Data/freesurfer_121023/entorhinal_standardized/sub-1082_entorhinalmasked_brain_standardized.nii.gz\n",
      "Masking completed for /blue/stevenweisberg/ashishkumarsahoo/difumo/Data/freesurfer_121023/freesurfer/sub-1083/mri/brain_standardized.mgz. Output saved as /blue/stevenweisberg/ashishkumarsahoo/difumo/Data/freesurfer_121023/entorhinal_standardized/sub-1083_entorhinalmasked_brain_standardized.nii.gz\n",
      "Masking completed for /blue/stevenweisberg/ashishkumarsahoo/difumo/Data/freesurfer_121023/freesurfer/sub-1084/mri/brain_standardized.mgz. Output saved as /blue/stevenweisberg/ashishkumarsahoo/difumo/Data/freesurfer_121023/entorhinal_standardized/sub-1084_entorhinalmasked_brain_standardized.nii.gz\n",
      "Masking completed for /blue/stevenweisberg/ashishkumarsahoo/difumo/Data/freesurfer_121023/freesurfer/sub-1085/mri/brain_standardized.mgz. Output saved as /blue/stevenweisberg/ashishkumarsahoo/difumo/Data/freesurfer_121023/entorhinal_standardized/sub-1085_entorhinalmasked_brain_standardized.nii.gz\n",
      "Masking completed for /blue/stevenweisberg/ashishkumarsahoo/difumo/Data/freesurfer_121023/freesurfer/sub-1086/mri/brain_standardized.mgz. Output saved as /blue/stevenweisberg/ashishkumarsahoo/difumo/Data/freesurfer_121023/entorhinal_standardized/sub-1086_entorhinalmasked_brain_standardized.nii.gz\n",
      "Masking completed for /blue/stevenweisberg/ashishkumarsahoo/difumo/Data/freesurfer_121023/freesurfer/sub-1087/mri/brain_standardized.mgz. Output saved as /blue/stevenweisberg/ashishkumarsahoo/difumo/Data/freesurfer_121023/entorhinal_standardized/sub-1087_entorhinalmasked_brain_standardized.nii.gz\n",
      "Masking completed for /blue/stevenweisberg/ashishkumarsahoo/difumo/Data/freesurfer_121023/freesurfer/sub-1088/mri/brain_standardized.mgz. Output saved as /blue/stevenweisberg/ashishkumarsahoo/difumo/Data/freesurfer_121023/entorhinal_standardized/sub-1088_entorhinalmasked_brain_standardized.nii.gz\n",
      "Masking completed for /blue/stevenweisberg/ashishkumarsahoo/difumo/Data/freesurfer_121023/freesurfer/sub-1089/mri/brain_standardized.mgz. Output saved as /blue/stevenweisberg/ashishkumarsahoo/difumo/Data/freesurfer_121023/entorhinal_standardized/sub-1089_entorhinalmasked_brain_standardized.nii.gz\n",
      "Masking completed for /blue/stevenweisberg/ashishkumarsahoo/difumo/Data/freesurfer_121023/freesurfer/sub-1090/mri/brain_standardized.mgz. Output saved as /blue/stevenweisberg/ashishkumarsahoo/difumo/Data/freesurfer_121023/entorhinal_standardized/sub-1090_entorhinalmasked_brain_standardized.nii.gz\n",
      "Masking completed for /blue/stevenweisberg/ashishkumarsahoo/difumo/Data/freesurfer_121023/freesurfer/sub-1091/mri/brain_standardized.mgz. Output saved as /blue/stevenweisberg/ashishkumarsahoo/difumo/Data/freesurfer_121023/entorhinal_standardized/sub-1091_entorhinalmasked_brain_standardized.nii.gz\n",
      "Masking completed for /blue/stevenweisberg/ashishkumarsahoo/difumo/Data/freesurfer_121023/freesurfer/sub-1092/mri/brain_standardized.mgz. Output saved as /blue/stevenweisberg/ashishkumarsahoo/difumo/Data/freesurfer_121023/entorhinal_standardized/sub-1092_entorhinalmasked_brain_standardized.nii.gz\n"
     ]
    }
   ],
   "source": [
    "import nibabel as nib\n",
    "import numpy as np\n",
    "\n",
    "# Lists containing filenames\n",
    "#raw_list = ['rawavg1.mgz', 'rawavg2.mgz', 'rawavg3.mgz']  # Replace with your rawavg_img filenames\n",
    "#mask_list = ['mask1.nii.gz', 'mask2.nii.gz', 'mask3.nii.gz']  # Replace with your hippocampus_mask filenames\n",
    "#output_list = ['masked_output1.nii.gz', 'masked_output2.nii.gz', 'masked_output3.nii.gz']  # Replace with desired output filenames\n",
    "\n",
    "for raw_file, mask_file, output_file in zip(brain_list, mask_list, output_list):\n",
    "    # Load the MRI image and mask\n",
    "    rawavg_img = nib.load(raw_file)\n",
    "    mask_img = nib.load(mask_file)\n",
    "\n",
    "    # Get the data arrays from the images\n",
    "    rawavg_data = rawavg_img.get_fdata()\n",
    "    mask_data = mask_img.get_fdata()\n",
    "\n",
    "    # Apply the mask\n",
    "    masked_data = np.where(mask_data == 1, rawavg_data, 0)\n",
    "\n",
    "    # Create a new NIfTI image with the masked data\n",
    "    masked_img = nib.Nifti1Image(masked_data, rawavg_img.affine)\n",
    "\n",
    "    # Save the masked image\n",
    "    nib.save(masked_img, output_file)\n",
    "\n",
    "    print(f\"Masking completed for {raw_file}. Output saved as {output_file}\")\n"
   ]
  },
  {
   "cell_type": "markdown",
   "id": "5230c14a-8666-41f6-8a2f-d3ceb9058a3a",
   "metadata": {},
   "source": [
    "### hippocampus"
   ]
  },
  {
   "cell_type": "code",
   "execution_count": 7,
   "id": "ad34c631-e465-4541-9c8c-b60e0c935233",
   "metadata": {},
   "outputs": [],
   "source": [
    "hippomask_list = [\"mri_binarize --i /blue/stevenweisberg/ashishkumarsahoo/difumo/Data/freesurfer_121023/freesurfer/{}/mri/aseg_standardized.mgz --match 17 53 --o /blue/stevenweisberg/ashishkumarsahoo/difumo/Data/freesurfer_121023/freesurfer/{}/mri/hippocampus_standardized_mask.nii.gz\".format(subj, subj) for subj in subjs]"
   ]
  },
  {
   "cell_type": "code",
   "execution_count": 8,
   "id": "f4732981-16fe-46c6-a877-25ff3821b85b",
   "metadata": {},
   "outputs": [
    {
     "data": {
      "text/plain": [
       "['mri_binarize --i /blue/stevenweisberg/ashishkumarsahoo/difumo/Data/freesurfer_121023/freesurfer/sub-1002/mri/aseg_standardized.mgz --match 17 53 --o /blue/stevenweisberg/ashishkumarsahoo/difumo/Data/freesurfer_121023/freesurfer/sub-1002/mri/hippocampus_standardized_mask.nii.gz',\n",
       " 'mri_binarize --i /blue/stevenweisberg/ashishkumarsahoo/difumo/Data/freesurfer_121023/freesurfer/sub-1003/mri/aseg_standardized.mgz --match 17 53 --o /blue/stevenweisberg/ashishkumarsahoo/difumo/Data/freesurfer_121023/freesurfer/sub-1003/mri/hippocampus_standardized_mask.nii.gz',\n",
       " 'mri_binarize --i /blue/stevenweisberg/ashishkumarsahoo/difumo/Data/freesurfer_121023/freesurfer/sub-1004/mri/aseg_standardized.mgz --match 17 53 --o /blue/stevenweisberg/ashishkumarsahoo/difumo/Data/freesurfer_121023/freesurfer/sub-1004/mri/hippocampus_standardized_mask.nii.gz',\n",
       " 'mri_binarize --i /blue/stevenweisberg/ashishkumarsahoo/difumo/Data/freesurfer_121023/freesurfer/sub-1005/mri/aseg_standardized.mgz --match 17 53 --o /blue/stevenweisberg/ashishkumarsahoo/difumo/Data/freesurfer_121023/freesurfer/sub-1005/mri/hippocampus_standardized_mask.nii.gz',\n",
       " 'mri_binarize --i /blue/stevenweisberg/ashishkumarsahoo/difumo/Data/freesurfer_121023/freesurfer/sub-1006/mri/aseg_standardized.mgz --match 17 53 --o /blue/stevenweisberg/ashishkumarsahoo/difumo/Data/freesurfer_121023/freesurfer/sub-1006/mri/hippocampus_standardized_mask.nii.gz',\n",
       " 'mri_binarize --i /blue/stevenweisberg/ashishkumarsahoo/difumo/Data/freesurfer_121023/freesurfer/sub-1007/mri/aseg_standardized.mgz --match 17 53 --o /blue/stevenweisberg/ashishkumarsahoo/difumo/Data/freesurfer_121023/freesurfer/sub-1007/mri/hippocampus_standardized_mask.nii.gz',\n",
       " 'mri_binarize --i /blue/stevenweisberg/ashishkumarsahoo/difumo/Data/freesurfer_121023/freesurfer/sub-1008/mri/aseg_standardized.mgz --match 17 53 --o /blue/stevenweisberg/ashishkumarsahoo/difumo/Data/freesurfer_121023/freesurfer/sub-1008/mri/hippocampus_standardized_mask.nii.gz',\n",
       " 'mri_binarize --i /blue/stevenweisberg/ashishkumarsahoo/difumo/Data/freesurfer_121023/freesurfer/sub-1009/mri/aseg_standardized.mgz --match 17 53 --o /blue/stevenweisberg/ashishkumarsahoo/difumo/Data/freesurfer_121023/freesurfer/sub-1009/mri/hippocampus_standardized_mask.nii.gz',\n",
       " 'mri_binarize --i /blue/stevenweisberg/ashishkumarsahoo/difumo/Data/freesurfer_121023/freesurfer/sub-1010/mri/aseg_standardized.mgz --match 17 53 --o /blue/stevenweisberg/ashishkumarsahoo/difumo/Data/freesurfer_121023/freesurfer/sub-1010/mri/hippocampus_standardized_mask.nii.gz',\n",
       " 'mri_binarize --i /blue/stevenweisberg/ashishkumarsahoo/difumo/Data/freesurfer_121023/freesurfer/sub-1011/mri/aseg_standardized.mgz --match 17 53 --o /blue/stevenweisberg/ashishkumarsahoo/difumo/Data/freesurfer_121023/freesurfer/sub-1011/mri/hippocampus_standardized_mask.nii.gz',\n",
       " 'mri_binarize --i /blue/stevenweisberg/ashishkumarsahoo/difumo/Data/freesurfer_121023/freesurfer/sub-1012/mri/aseg_standardized.mgz --match 17 53 --o /blue/stevenweisberg/ashishkumarsahoo/difumo/Data/freesurfer_121023/freesurfer/sub-1012/mri/hippocampus_standardized_mask.nii.gz',\n",
       " 'mri_binarize --i /blue/stevenweisberg/ashishkumarsahoo/difumo/Data/freesurfer_121023/freesurfer/sub-1013/mri/aseg_standardized.mgz --match 17 53 --o /blue/stevenweisberg/ashishkumarsahoo/difumo/Data/freesurfer_121023/freesurfer/sub-1013/mri/hippocampus_standardized_mask.nii.gz',\n",
       " 'mri_binarize --i /blue/stevenweisberg/ashishkumarsahoo/difumo/Data/freesurfer_121023/freesurfer/sub-1014/mri/aseg_standardized.mgz --match 17 53 --o /blue/stevenweisberg/ashishkumarsahoo/difumo/Data/freesurfer_121023/freesurfer/sub-1014/mri/hippocampus_standardized_mask.nii.gz',\n",
       " 'mri_binarize --i /blue/stevenweisberg/ashishkumarsahoo/difumo/Data/freesurfer_121023/freesurfer/sub-1015/mri/aseg_standardized.mgz --match 17 53 --o /blue/stevenweisberg/ashishkumarsahoo/difumo/Data/freesurfer_121023/freesurfer/sub-1015/mri/hippocampus_standardized_mask.nii.gz',\n",
       " 'mri_binarize --i /blue/stevenweisberg/ashishkumarsahoo/difumo/Data/freesurfer_121023/freesurfer/sub-1016/mri/aseg_standardized.mgz --match 17 53 --o /blue/stevenweisberg/ashishkumarsahoo/difumo/Data/freesurfer_121023/freesurfer/sub-1016/mri/hippocampus_standardized_mask.nii.gz',\n",
       " 'mri_binarize --i /blue/stevenweisberg/ashishkumarsahoo/difumo/Data/freesurfer_121023/freesurfer/sub-1017/mri/aseg_standardized.mgz --match 17 53 --o /blue/stevenweisberg/ashishkumarsahoo/difumo/Data/freesurfer_121023/freesurfer/sub-1017/mri/hippocampus_standardized_mask.nii.gz',\n",
       " 'mri_binarize --i /blue/stevenweisberg/ashishkumarsahoo/difumo/Data/freesurfer_121023/freesurfer/sub-1018/mri/aseg_standardized.mgz --match 17 53 --o /blue/stevenweisberg/ashishkumarsahoo/difumo/Data/freesurfer_121023/freesurfer/sub-1018/mri/hippocampus_standardized_mask.nii.gz',\n",
       " 'mri_binarize --i /blue/stevenweisberg/ashishkumarsahoo/difumo/Data/freesurfer_121023/freesurfer/sub-1019/mri/aseg_standardized.mgz --match 17 53 --o /blue/stevenweisberg/ashishkumarsahoo/difumo/Data/freesurfer_121023/freesurfer/sub-1019/mri/hippocampus_standardized_mask.nii.gz',\n",
       " 'mri_binarize --i /blue/stevenweisberg/ashishkumarsahoo/difumo/Data/freesurfer_121023/freesurfer/sub-1020/mri/aseg_standardized.mgz --match 17 53 --o /blue/stevenweisberg/ashishkumarsahoo/difumo/Data/freesurfer_121023/freesurfer/sub-1020/mri/hippocampus_standardized_mask.nii.gz',\n",
       " 'mri_binarize --i /blue/stevenweisberg/ashishkumarsahoo/difumo/Data/freesurfer_121023/freesurfer/sub-1022/mri/aseg_standardized.mgz --match 17 53 --o /blue/stevenweisberg/ashishkumarsahoo/difumo/Data/freesurfer_121023/freesurfer/sub-1022/mri/hippocampus_standardized_mask.nii.gz',\n",
       " 'mri_binarize --i /blue/stevenweisberg/ashishkumarsahoo/difumo/Data/freesurfer_121023/freesurfer/sub-1023/mri/aseg_standardized.mgz --match 17 53 --o /blue/stevenweisberg/ashishkumarsahoo/difumo/Data/freesurfer_121023/freesurfer/sub-1023/mri/hippocampus_standardized_mask.nii.gz',\n",
       " 'mri_binarize --i /blue/stevenweisberg/ashishkumarsahoo/difumo/Data/freesurfer_121023/freesurfer/sub-1024/mri/aseg_standardized.mgz --match 17 53 --o /blue/stevenweisberg/ashishkumarsahoo/difumo/Data/freesurfer_121023/freesurfer/sub-1024/mri/hippocampus_standardized_mask.nii.gz',\n",
       " 'mri_binarize --i /blue/stevenweisberg/ashishkumarsahoo/difumo/Data/freesurfer_121023/freesurfer/sub-1025/mri/aseg_standardized.mgz --match 17 53 --o /blue/stevenweisberg/ashishkumarsahoo/difumo/Data/freesurfer_121023/freesurfer/sub-1025/mri/hippocampus_standardized_mask.nii.gz',\n",
       " 'mri_binarize --i /blue/stevenweisberg/ashishkumarsahoo/difumo/Data/freesurfer_121023/freesurfer/sub-1026/mri/aseg_standardized.mgz --match 17 53 --o /blue/stevenweisberg/ashishkumarsahoo/difumo/Data/freesurfer_121023/freesurfer/sub-1026/mri/hippocampus_standardized_mask.nii.gz',\n",
       " 'mri_binarize --i /blue/stevenweisberg/ashishkumarsahoo/difumo/Data/freesurfer_121023/freesurfer/sub-1027/mri/aseg_standardized.mgz --match 17 53 --o /blue/stevenweisberg/ashishkumarsahoo/difumo/Data/freesurfer_121023/freesurfer/sub-1027/mri/hippocampus_standardized_mask.nii.gz',\n",
       " 'mri_binarize --i /blue/stevenweisberg/ashishkumarsahoo/difumo/Data/freesurfer_121023/freesurfer/sub-1028/mri/aseg_standardized.mgz --match 17 53 --o /blue/stevenweisberg/ashishkumarsahoo/difumo/Data/freesurfer_121023/freesurfer/sub-1028/mri/hippocampus_standardized_mask.nii.gz',\n",
       " 'mri_binarize --i /blue/stevenweisberg/ashishkumarsahoo/difumo/Data/freesurfer_121023/freesurfer/sub-1029/mri/aseg_standardized.mgz --match 17 53 --o /blue/stevenweisberg/ashishkumarsahoo/difumo/Data/freesurfer_121023/freesurfer/sub-1029/mri/hippocampus_standardized_mask.nii.gz',\n",
       " 'mri_binarize --i /blue/stevenweisberg/ashishkumarsahoo/difumo/Data/freesurfer_121023/freesurfer/sub-1030/mri/aseg_standardized.mgz --match 17 53 --o /blue/stevenweisberg/ashishkumarsahoo/difumo/Data/freesurfer_121023/freesurfer/sub-1030/mri/hippocampus_standardized_mask.nii.gz',\n",
       " 'mri_binarize --i /blue/stevenweisberg/ashishkumarsahoo/difumo/Data/freesurfer_121023/freesurfer/sub-1031/mri/aseg_standardized.mgz --match 17 53 --o /blue/stevenweisberg/ashishkumarsahoo/difumo/Data/freesurfer_121023/freesurfer/sub-1031/mri/hippocampus_standardized_mask.nii.gz',\n",
       " 'mri_binarize --i /blue/stevenweisberg/ashishkumarsahoo/difumo/Data/freesurfer_121023/freesurfer/sub-1032/mri/aseg_standardized.mgz --match 17 53 --o /blue/stevenweisberg/ashishkumarsahoo/difumo/Data/freesurfer_121023/freesurfer/sub-1032/mri/hippocampus_standardized_mask.nii.gz',\n",
       " 'mri_binarize --i /blue/stevenweisberg/ashishkumarsahoo/difumo/Data/freesurfer_121023/freesurfer/sub-1033/mri/aseg_standardized.mgz --match 17 53 --o /blue/stevenweisberg/ashishkumarsahoo/difumo/Data/freesurfer_121023/freesurfer/sub-1033/mri/hippocampus_standardized_mask.nii.gz',\n",
       " 'mri_binarize --i /blue/stevenweisberg/ashishkumarsahoo/difumo/Data/freesurfer_121023/freesurfer/sub-1034/mri/aseg_standardized.mgz --match 17 53 --o /blue/stevenweisberg/ashishkumarsahoo/difumo/Data/freesurfer_121023/freesurfer/sub-1034/mri/hippocampus_standardized_mask.nii.gz',\n",
       " 'mri_binarize --i /blue/stevenweisberg/ashishkumarsahoo/difumo/Data/freesurfer_121023/freesurfer/sub-1035/mri/aseg_standardized.mgz --match 17 53 --o /blue/stevenweisberg/ashishkumarsahoo/difumo/Data/freesurfer_121023/freesurfer/sub-1035/mri/hippocampus_standardized_mask.nii.gz',\n",
       " 'mri_binarize --i /blue/stevenweisberg/ashishkumarsahoo/difumo/Data/freesurfer_121023/freesurfer/sub-1036/mri/aseg_standardized.mgz --match 17 53 --o /blue/stevenweisberg/ashishkumarsahoo/difumo/Data/freesurfer_121023/freesurfer/sub-1036/mri/hippocampus_standardized_mask.nii.gz',\n",
       " 'mri_binarize --i /blue/stevenweisberg/ashishkumarsahoo/difumo/Data/freesurfer_121023/freesurfer/sub-1037/mri/aseg_standardized.mgz --match 17 53 --o /blue/stevenweisberg/ashishkumarsahoo/difumo/Data/freesurfer_121023/freesurfer/sub-1037/mri/hippocampus_standardized_mask.nii.gz',\n",
       " 'mri_binarize --i /blue/stevenweisberg/ashishkumarsahoo/difumo/Data/freesurfer_121023/freesurfer/sub-1038/mri/aseg_standardized.mgz --match 17 53 --o /blue/stevenweisberg/ashishkumarsahoo/difumo/Data/freesurfer_121023/freesurfer/sub-1038/mri/hippocampus_standardized_mask.nii.gz',\n",
       " 'mri_binarize --i /blue/stevenweisberg/ashishkumarsahoo/difumo/Data/freesurfer_121023/freesurfer/sub-1039/mri/aseg_standardized.mgz --match 17 53 --o /blue/stevenweisberg/ashishkumarsahoo/difumo/Data/freesurfer_121023/freesurfer/sub-1039/mri/hippocampus_standardized_mask.nii.gz',\n",
       " 'mri_binarize --i /blue/stevenweisberg/ashishkumarsahoo/difumo/Data/freesurfer_121023/freesurfer/sub-1040/mri/aseg_standardized.mgz --match 17 53 --o /blue/stevenweisberg/ashishkumarsahoo/difumo/Data/freesurfer_121023/freesurfer/sub-1040/mri/hippocampus_standardized_mask.nii.gz',\n",
       " 'mri_binarize --i /blue/stevenweisberg/ashishkumarsahoo/difumo/Data/freesurfer_121023/freesurfer/sub-1041/mri/aseg_standardized.mgz --match 17 53 --o /blue/stevenweisberg/ashishkumarsahoo/difumo/Data/freesurfer_121023/freesurfer/sub-1041/mri/hippocampus_standardized_mask.nii.gz',\n",
       " 'mri_binarize --i /blue/stevenweisberg/ashishkumarsahoo/difumo/Data/freesurfer_121023/freesurfer/sub-1042/mri/aseg_standardized.mgz --match 17 53 --o /blue/stevenweisberg/ashishkumarsahoo/difumo/Data/freesurfer_121023/freesurfer/sub-1042/mri/hippocampus_standardized_mask.nii.gz',\n",
       " 'mri_binarize --i /blue/stevenweisberg/ashishkumarsahoo/difumo/Data/freesurfer_121023/freesurfer/sub-1043/mri/aseg_standardized.mgz --match 17 53 --o /blue/stevenweisberg/ashishkumarsahoo/difumo/Data/freesurfer_121023/freesurfer/sub-1043/mri/hippocampus_standardized_mask.nii.gz',\n",
       " 'mri_binarize --i /blue/stevenweisberg/ashishkumarsahoo/difumo/Data/freesurfer_121023/freesurfer/sub-1044/mri/aseg_standardized.mgz --match 17 53 --o /blue/stevenweisberg/ashishkumarsahoo/difumo/Data/freesurfer_121023/freesurfer/sub-1044/mri/hippocampus_standardized_mask.nii.gz',\n",
       " 'mri_binarize --i /blue/stevenweisberg/ashishkumarsahoo/difumo/Data/freesurfer_121023/freesurfer/sub-1045/mri/aseg_standardized.mgz --match 17 53 --o /blue/stevenweisberg/ashishkumarsahoo/difumo/Data/freesurfer_121023/freesurfer/sub-1045/mri/hippocampus_standardized_mask.nii.gz',\n",
       " 'mri_binarize --i /blue/stevenweisberg/ashishkumarsahoo/difumo/Data/freesurfer_121023/freesurfer/sub-1046/mri/aseg_standardized.mgz --match 17 53 --o /blue/stevenweisberg/ashishkumarsahoo/difumo/Data/freesurfer_121023/freesurfer/sub-1046/mri/hippocampus_standardized_mask.nii.gz',\n",
       " 'mri_binarize --i /blue/stevenweisberg/ashishkumarsahoo/difumo/Data/freesurfer_121023/freesurfer/sub-1047/mri/aseg_standardized.mgz --match 17 53 --o /blue/stevenweisberg/ashishkumarsahoo/difumo/Data/freesurfer_121023/freesurfer/sub-1047/mri/hippocampus_standardized_mask.nii.gz',\n",
       " 'mri_binarize --i /blue/stevenweisberg/ashishkumarsahoo/difumo/Data/freesurfer_121023/freesurfer/sub-1048/mri/aseg_standardized.mgz --match 17 53 --o /blue/stevenweisberg/ashishkumarsahoo/difumo/Data/freesurfer_121023/freesurfer/sub-1048/mri/hippocampus_standardized_mask.nii.gz',\n",
       " 'mri_binarize --i /blue/stevenweisberg/ashishkumarsahoo/difumo/Data/freesurfer_121023/freesurfer/sub-1049/mri/aseg_standardized.mgz --match 17 53 --o /blue/stevenweisberg/ashishkumarsahoo/difumo/Data/freesurfer_121023/freesurfer/sub-1049/mri/hippocampus_standardized_mask.nii.gz',\n",
       " 'mri_binarize --i /blue/stevenweisberg/ashishkumarsahoo/difumo/Data/freesurfer_121023/freesurfer/sub-1050/mri/aseg_standardized.mgz --match 17 53 --o /blue/stevenweisberg/ashishkumarsahoo/difumo/Data/freesurfer_121023/freesurfer/sub-1050/mri/hippocampus_standardized_mask.nii.gz',\n",
       " 'mri_binarize --i /blue/stevenweisberg/ashishkumarsahoo/difumo/Data/freesurfer_121023/freesurfer/sub-1051/mri/aseg_standardized.mgz --match 17 53 --o /blue/stevenweisberg/ashishkumarsahoo/difumo/Data/freesurfer_121023/freesurfer/sub-1051/mri/hippocampus_standardized_mask.nii.gz',\n",
       " 'mri_binarize --i /blue/stevenweisberg/ashishkumarsahoo/difumo/Data/freesurfer_121023/freesurfer/sub-1052/mri/aseg_standardized.mgz --match 17 53 --o /blue/stevenweisberg/ashishkumarsahoo/difumo/Data/freesurfer_121023/freesurfer/sub-1052/mri/hippocampus_standardized_mask.nii.gz',\n",
       " 'mri_binarize --i /blue/stevenweisberg/ashishkumarsahoo/difumo/Data/freesurfer_121023/freesurfer/sub-1053/mri/aseg_standardized.mgz --match 17 53 --o /blue/stevenweisberg/ashishkumarsahoo/difumo/Data/freesurfer_121023/freesurfer/sub-1053/mri/hippocampus_standardized_mask.nii.gz',\n",
       " 'mri_binarize --i /blue/stevenweisberg/ashishkumarsahoo/difumo/Data/freesurfer_121023/freesurfer/sub-1054/mri/aseg_standardized.mgz --match 17 53 --o /blue/stevenweisberg/ashishkumarsahoo/difumo/Data/freesurfer_121023/freesurfer/sub-1054/mri/hippocampus_standardized_mask.nii.gz',\n",
       " 'mri_binarize --i /blue/stevenweisberg/ashishkumarsahoo/difumo/Data/freesurfer_121023/freesurfer/sub-1055/mri/aseg_standardized.mgz --match 17 53 --o /blue/stevenweisberg/ashishkumarsahoo/difumo/Data/freesurfer_121023/freesurfer/sub-1055/mri/hippocampus_standardized_mask.nii.gz',\n",
       " 'mri_binarize --i /blue/stevenweisberg/ashishkumarsahoo/difumo/Data/freesurfer_121023/freesurfer/sub-1056/mri/aseg_standardized.mgz --match 17 53 --o /blue/stevenweisberg/ashishkumarsahoo/difumo/Data/freesurfer_121023/freesurfer/sub-1056/mri/hippocampus_standardized_mask.nii.gz',\n",
       " 'mri_binarize --i /blue/stevenweisberg/ashishkumarsahoo/difumo/Data/freesurfer_121023/freesurfer/sub-1057/mri/aseg_standardized.mgz --match 17 53 --o /blue/stevenweisberg/ashishkumarsahoo/difumo/Data/freesurfer_121023/freesurfer/sub-1057/mri/hippocampus_standardized_mask.nii.gz',\n",
       " 'mri_binarize --i /blue/stevenweisberg/ashishkumarsahoo/difumo/Data/freesurfer_121023/freesurfer/sub-1058/mri/aseg_standardized.mgz --match 17 53 --o /blue/stevenweisberg/ashishkumarsahoo/difumo/Data/freesurfer_121023/freesurfer/sub-1058/mri/hippocampus_standardized_mask.nii.gz',\n",
       " 'mri_binarize --i /blue/stevenweisberg/ashishkumarsahoo/difumo/Data/freesurfer_121023/freesurfer/sub-1059/mri/aseg_standardized.mgz --match 17 53 --o /blue/stevenweisberg/ashishkumarsahoo/difumo/Data/freesurfer_121023/freesurfer/sub-1059/mri/hippocampus_standardized_mask.nii.gz',\n",
       " 'mri_binarize --i /blue/stevenweisberg/ashishkumarsahoo/difumo/Data/freesurfer_121023/freesurfer/sub-1060/mri/aseg_standardized.mgz --match 17 53 --o /blue/stevenweisberg/ashishkumarsahoo/difumo/Data/freesurfer_121023/freesurfer/sub-1060/mri/hippocampus_standardized_mask.nii.gz',\n",
       " 'mri_binarize --i /blue/stevenweisberg/ashishkumarsahoo/difumo/Data/freesurfer_121023/freesurfer/sub-1061/mri/aseg_standardized.mgz --match 17 53 --o /blue/stevenweisberg/ashishkumarsahoo/difumo/Data/freesurfer_121023/freesurfer/sub-1061/mri/hippocampus_standardized_mask.nii.gz',\n",
       " 'mri_binarize --i /blue/stevenweisberg/ashishkumarsahoo/difumo/Data/freesurfer_121023/freesurfer/sub-1062/mri/aseg_standardized.mgz --match 17 53 --o /blue/stevenweisberg/ashishkumarsahoo/difumo/Data/freesurfer_121023/freesurfer/sub-1062/mri/hippocampus_standardized_mask.nii.gz',\n",
       " 'mri_binarize --i /blue/stevenweisberg/ashishkumarsahoo/difumo/Data/freesurfer_121023/freesurfer/sub-1063/mri/aseg_standardized.mgz --match 17 53 --o /blue/stevenweisberg/ashishkumarsahoo/difumo/Data/freesurfer_121023/freesurfer/sub-1063/mri/hippocampus_standardized_mask.nii.gz',\n",
       " 'mri_binarize --i /blue/stevenweisberg/ashishkumarsahoo/difumo/Data/freesurfer_121023/freesurfer/sub-1064/mri/aseg_standardized.mgz --match 17 53 --o /blue/stevenweisberg/ashishkumarsahoo/difumo/Data/freesurfer_121023/freesurfer/sub-1064/mri/hippocampus_standardized_mask.nii.gz',\n",
       " 'mri_binarize --i /blue/stevenweisberg/ashishkumarsahoo/difumo/Data/freesurfer_121023/freesurfer/sub-1065/mri/aseg_standardized.mgz --match 17 53 --o /blue/stevenweisberg/ashishkumarsahoo/difumo/Data/freesurfer_121023/freesurfer/sub-1065/mri/hippocampus_standardized_mask.nii.gz',\n",
       " 'mri_binarize --i /blue/stevenweisberg/ashishkumarsahoo/difumo/Data/freesurfer_121023/freesurfer/sub-1066/mri/aseg_standardized.mgz --match 17 53 --o /blue/stevenweisberg/ashishkumarsahoo/difumo/Data/freesurfer_121023/freesurfer/sub-1066/mri/hippocampus_standardized_mask.nii.gz',\n",
       " 'mri_binarize --i /blue/stevenweisberg/ashishkumarsahoo/difumo/Data/freesurfer_121023/freesurfer/sub-1067/mri/aseg_standardized.mgz --match 17 53 --o /blue/stevenweisberg/ashishkumarsahoo/difumo/Data/freesurfer_121023/freesurfer/sub-1067/mri/hippocampus_standardized_mask.nii.gz',\n",
       " 'mri_binarize --i /blue/stevenweisberg/ashishkumarsahoo/difumo/Data/freesurfer_121023/freesurfer/sub-1068/mri/aseg_standardized.mgz --match 17 53 --o /blue/stevenweisberg/ashishkumarsahoo/difumo/Data/freesurfer_121023/freesurfer/sub-1068/mri/hippocampus_standardized_mask.nii.gz',\n",
       " 'mri_binarize --i /blue/stevenweisberg/ashishkumarsahoo/difumo/Data/freesurfer_121023/freesurfer/sub-1069/mri/aseg_standardized.mgz --match 17 53 --o /blue/stevenweisberg/ashishkumarsahoo/difumo/Data/freesurfer_121023/freesurfer/sub-1069/mri/hippocampus_standardized_mask.nii.gz',\n",
       " 'mri_binarize --i /blue/stevenweisberg/ashishkumarsahoo/difumo/Data/freesurfer_121023/freesurfer/sub-1070/mri/aseg_standardized.mgz --match 17 53 --o /blue/stevenweisberg/ashishkumarsahoo/difumo/Data/freesurfer_121023/freesurfer/sub-1070/mri/hippocampus_standardized_mask.nii.gz',\n",
       " 'mri_binarize --i /blue/stevenweisberg/ashishkumarsahoo/difumo/Data/freesurfer_121023/freesurfer/sub-1071/mri/aseg_standardized.mgz --match 17 53 --o /blue/stevenweisberg/ashishkumarsahoo/difumo/Data/freesurfer_121023/freesurfer/sub-1071/mri/hippocampus_standardized_mask.nii.gz',\n",
       " 'mri_binarize --i /blue/stevenweisberg/ashishkumarsahoo/difumo/Data/freesurfer_121023/freesurfer/sub-1072/mri/aseg_standardized.mgz --match 17 53 --o /blue/stevenweisberg/ashishkumarsahoo/difumo/Data/freesurfer_121023/freesurfer/sub-1072/mri/hippocampus_standardized_mask.nii.gz',\n",
       " 'mri_binarize --i /blue/stevenweisberg/ashishkumarsahoo/difumo/Data/freesurfer_121023/freesurfer/sub-1073/mri/aseg_standardized.mgz --match 17 53 --o /blue/stevenweisberg/ashishkumarsahoo/difumo/Data/freesurfer_121023/freesurfer/sub-1073/mri/hippocampus_standardized_mask.nii.gz',\n",
       " 'mri_binarize --i /blue/stevenweisberg/ashishkumarsahoo/difumo/Data/freesurfer_121023/freesurfer/sub-1074/mri/aseg_standardized.mgz --match 17 53 --o /blue/stevenweisberg/ashishkumarsahoo/difumo/Data/freesurfer_121023/freesurfer/sub-1074/mri/hippocampus_standardized_mask.nii.gz',\n",
       " 'mri_binarize --i /blue/stevenweisberg/ashishkumarsahoo/difumo/Data/freesurfer_121023/freesurfer/sub-1075/mri/aseg_standardized.mgz --match 17 53 --o /blue/stevenweisberg/ashishkumarsahoo/difumo/Data/freesurfer_121023/freesurfer/sub-1075/mri/hippocampus_standardized_mask.nii.gz',\n",
       " 'mri_binarize --i /blue/stevenweisberg/ashishkumarsahoo/difumo/Data/freesurfer_121023/freesurfer/sub-1076/mri/aseg_standardized.mgz --match 17 53 --o /blue/stevenweisberg/ashishkumarsahoo/difumo/Data/freesurfer_121023/freesurfer/sub-1076/mri/hippocampus_standardized_mask.nii.gz',\n",
       " 'mri_binarize --i /blue/stevenweisberg/ashishkumarsahoo/difumo/Data/freesurfer_121023/freesurfer/sub-1077/mri/aseg_standardized.mgz --match 17 53 --o /blue/stevenweisberg/ashishkumarsahoo/difumo/Data/freesurfer_121023/freesurfer/sub-1077/mri/hippocampus_standardized_mask.nii.gz',\n",
       " 'mri_binarize --i /blue/stevenweisberg/ashishkumarsahoo/difumo/Data/freesurfer_121023/freesurfer/sub-1078/mri/aseg_standardized.mgz --match 17 53 --o /blue/stevenweisberg/ashishkumarsahoo/difumo/Data/freesurfer_121023/freesurfer/sub-1078/mri/hippocampus_standardized_mask.nii.gz',\n",
       " 'mri_binarize --i /blue/stevenweisberg/ashishkumarsahoo/difumo/Data/freesurfer_121023/freesurfer/sub-1079/mri/aseg_standardized.mgz --match 17 53 --o /blue/stevenweisberg/ashishkumarsahoo/difumo/Data/freesurfer_121023/freesurfer/sub-1079/mri/hippocampus_standardized_mask.nii.gz',\n",
       " 'mri_binarize --i /blue/stevenweisberg/ashishkumarsahoo/difumo/Data/freesurfer_121023/freesurfer/sub-1080/mri/aseg_standardized.mgz --match 17 53 --o /blue/stevenweisberg/ashishkumarsahoo/difumo/Data/freesurfer_121023/freesurfer/sub-1080/mri/hippocampus_standardized_mask.nii.gz',\n",
       " 'mri_binarize --i /blue/stevenweisberg/ashishkumarsahoo/difumo/Data/freesurfer_121023/freesurfer/sub-1081/mri/aseg_standardized.mgz --match 17 53 --o /blue/stevenweisberg/ashishkumarsahoo/difumo/Data/freesurfer_121023/freesurfer/sub-1081/mri/hippocampus_standardized_mask.nii.gz',\n",
       " 'mri_binarize --i /blue/stevenweisberg/ashishkumarsahoo/difumo/Data/freesurfer_121023/freesurfer/sub-1082/mri/aseg_standardized.mgz --match 17 53 --o /blue/stevenweisberg/ashishkumarsahoo/difumo/Data/freesurfer_121023/freesurfer/sub-1082/mri/hippocampus_standardized_mask.nii.gz',\n",
       " 'mri_binarize --i /blue/stevenweisberg/ashishkumarsahoo/difumo/Data/freesurfer_121023/freesurfer/sub-1083/mri/aseg_standardized.mgz --match 17 53 --o /blue/stevenweisberg/ashishkumarsahoo/difumo/Data/freesurfer_121023/freesurfer/sub-1083/mri/hippocampus_standardized_mask.nii.gz',\n",
       " 'mri_binarize --i /blue/stevenweisberg/ashishkumarsahoo/difumo/Data/freesurfer_121023/freesurfer/sub-1084/mri/aseg_standardized.mgz --match 17 53 --o /blue/stevenweisberg/ashishkumarsahoo/difumo/Data/freesurfer_121023/freesurfer/sub-1084/mri/hippocampus_standardized_mask.nii.gz',\n",
       " 'mri_binarize --i /blue/stevenweisberg/ashishkumarsahoo/difumo/Data/freesurfer_121023/freesurfer/sub-1085/mri/aseg_standardized.mgz --match 17 53 --o /blue/stevenweisberg/ashishkumarsahoo/difumo/Data/freesurfer_121023/freesurfer/sub-1085/mri/hippocampus_standardized_mask.nii.gz',\n",
       " 'mri_binarize --i /blue/stevenweisberg/ashishkumarsahoo/difumo/Data/freesurfer_121023/freesurfer/sub-1086/mri/aseg_standardized.mgz --match 17 53 --o /blue/stevenweisberg/ashishkumarsahoo/difumo/Data/freesurfer_121023/freesurfer/sub-1086/mri/hippocampus_standardized_mask.nii.gz',\n",
       " 'mri_binarize --i /blue/stevenweisberg/ashishkumarsahoo/difumo/Data/freesurfer_121023/freesurfer/sub-1087/mri/aseg_standardized.mgz --match 17 53 --o /blue/stevenweisberg/ashishkumarsahoo/difumo/Data/freesurfer_121023/freesurfer/sub-1087/mri/hippocampus_standardized_mask.nii.gz',\n",
       " 'mri_binarize --i /blue/stevenweisberg/ashishkumarsahoo/difumo/Data/freesurfer_121023/freesurfer/sub-1088/mri/aseg_standardized.mgz --match 17 53 --o /blue/stevenweisberg/ashishkumarsahoo/difumo/Data/freesurfer_121023/freesurfer/sub-1088/mri/hippocampus_standardized_mask.nii.gz',\n",
       " 'mri_binarize --i /blue/stevenweisberg/ashishkumarsahoo/difumo/Data/freesurfer_121023/freesurfer/sub-1089/mri/aseg_standardized.mgz --match 17 53 --o /blue/stevenweisberg/ashishkumarsahoo/difumo/Data/freesurfer_121023/freesurfer/sub-1089/mri/hippocampus_standardized_mask.nii.gz',\n",
       " 'mri_binarize --i /blue/stevenweisberg/ashishkumarsahoo/difumo/Data/freesurfer_121023/freesurfer/sub-1090/mri/aseg_standardized.mgz --match 17 53 --o /blue/stevenweisberg/ashishkumarsahoo/difumo/Data/freesurfer_121023/freesurfer/sub-1090/mri/hippocampus_standardized_mask.nii.gz',\n",
       " 'mri_binarize --i /blue/stevenweisberg/ashishkumarsahoo/difumo/Data/freesurfer_121023/freesurfer/sub-1091/mri/aseg_standardized.mgz --match 17 53 --o /blue/stevenweisberg/ashishkumarsahoo/difumo/Data/freesurfer_121023/freesurfer/sub-1091/mri/hippocampus_standardized_mask.nii.gz',\n",
       " 'mri_binarize --i /blue/stevenweisberg/ashishkumarsahoo/difumo/Data/freesurfer_121023/freesurfer/sub-1092/mri/aseg_standardized.mgz --match 17 53 --o /blue/stevenweisberg/ashishkumarsahoo/difumo/Data/freesurfer_121023/freesurfer/sub-1092/mri/hippocampus_standardized_mask.nii.gz']"
      ]
     },
     "execution_count": 8,
     "metadata": {},
     "output_type": "execute_result"
    }
   ],
   "source": [
    "hippomask_list"
   ]
  },
  {
   "cell_type": "code",
   "execution_count": 9,
   "id": "6b515fbd-f1ce-4eb7-a986-3b33d49f2ed3",
   "metadata": {},
   "outputs": [],
   "source": [
    "with open('hippomask_standardized_list.txt', 'w') as f:\n",
    "    for hippomask in hippomask_list:\n",
    "        f.write(hippomask + '\\n')"
   ]
  },
  {
   "cell_type": "code",
   "execution_count": 10,
   "id": "d2a1ca36-a564-42cd-b64c-b08263e1f971",
   "metadata": {},
   "outputs": [],
   "source": [
    "brain_list = [\"/blue/stevenweisberg/ashishkumarsahoo/difumo/Data/freesurfer_121023/freesurfer/{}/mri/brain_standardized.mgz\".format(subj) for subj in subjs]"
   ]
  },
  {
   "cell_type": "code",
   "execution_count": 11,
   "id": "cf815987-6f67-43a0-8f6e-eb2fd1811292",
   "metadata": {},
   "outputs": [],
   "source": [
    "mask_list = [\"/blue/stevenweisberg/ashishkumarsahoo/difumo/Data/freesurfer_121023/freesurfer/{}/mri/hippocampus_standardized_mask.nii.gz\".format(subj) for subj in subjs]"
   ]
  },
  {
   "cell_type": "code",
   "execution_count": 12,
   "id": "b76c4d51-5508-414b-bc54-cd331fd56bb6",
   "metadata": {},
   "outputs": [],
   "source": [
    "output_list = [\"/blue/stevenweisberg/ashishkumarsahoo/difumo/Data/freesurfer_121023/hippocampus_standardized/{}_hippomasked_brain_standardized.nii.gz\".format(subj) for subj in subjs]"
   ]
  },
  {
   "cell_type": "code",
   "execution_count": 13,
   "id": "1ae02241-41d0-40f1-ad9e-49d8dcefdb69",
   "metadata": {},
   "outputs": [
    {
     "name": "stdout",
     "output_type": "stream",
     "text": [
      "Masking completed for /blue/stevenweisberg/ashishkumarsahoo/difumo/Data/freesurfer_121023/freesurfer/sub-1002/mri/brain_standardized.mgz. Output saved as /blue/stevenweisberg/ashishkumarsahoo/difumo/Data/freesurfer_121023/hippocampus_standardized/sub-1002_hippomasked_brain_standardized.nii.gz\n",
      "Masking completed for /blue/stevenweisberg/ashishkumarsahoo/difumo/Data/freesurfer_121023/freesurfer/sub-1003/mri/brain_standardized.mgz. Output saved as /blue/stevenweisberg/ashishkumarsahoo/difumo/Data/freesurfer_121023/hippocampus_standardized/sub-1003_hippomasked_brain_standardized.nii.gz\n",
      "Masking completed for /blue/stevenweisberg/ashishkumarsahoo/difumo/Data/freesurfer_121023/freesurfer/sub-1004/mri/brain_standardized.mgz. Output saved as /blue/stevenweisberg/ashishkumarsahoo/difumo/Data/freesurfer_121023/hippocampus_standardized/sub-1004_hippomasked_brain_standardized.nii.gz\n",
      "Masking completed for /blue/stevenweisberg/ashishkumarsahoo/difumo/Data/freesurfer_121023/freesurfer/sub-1005/mri/brain_standardized.mgz. Output saved as /blue/stevenweisberg/ashishkumarsahoo/difumo/Data/freesurfer_121023/hippocampus_standardized/sub-1005_hippomasked_brain_standardized.nii.gz\n",
      "Masking completed for /blue/stevenweisberg/ashishkumarsahoo/difumo/Data/freesurfer_121023/freesurfer/sub-1006/mri/brain_standardized.mgz. Output saved as /blue/stevenweisberg/ashishkumarsahoo/difumo/Data/freesurfer_121023/hippocampus_standardized/sub-1006_hippomasked_brain_standardized.nii.gz\n",
      "Masking completed for /blue/stevenweisberg/ashishkumarsahoo/difumo/Data/freesurfer_121023/freesurfer/sub-1007/mri/brain_standardized.mgz. Output saved as /blue/stevenweisberg/ashishkumarsahoo/difumo/Data/freesurfer_121023/hippocampus_standardized/sub-1007_hippomasked_brain_standardized.nii.gz\n",
      "Masking completed for /blue/stevenweisberg/ashishkumarsahoo/difumo/Data/freesurfer_121023/freesurfer/sub-1008/mri/brain_standardized.mgz. Output saved as /blue/stevenweisberg/ashishkumarsahoo/difumo/Data/freesurfer_121023/hippocampus_standardized/sub-1008_hippomasked_brain_standardized.nii.gz\n",
      "Masking completed for /blue/stevenweisberg/ashishkumarsahoo/difumo/Data/freesurfer_121023/freesurfer/sub-1009/mri/brain_standardized.mgz. Output saved as /blue/stevenweisberg/ashishkumarsahoo/difumo/Data/freesurfer_121023/hippocampus_standardized/sub-1009_hippomasked_brain_standardized.nii.gz\n",
      "Masking completed for /blue/stevenweisberg/ashishkumarsahoo/difumo/Data/freesurfer_121023/freesurfer/sub-1010/mri/brain_standardized.mgz. Output saved as /blue/stevenweisberg/ashishkumarsahoo/difumo/Data/freesurfer_121023/hippocampus_standardized/sub-1010_hippomasked_brain_standardized.nii.gz\n",
      "Masking completed for /blue/stevenweisberg/ashishkumarsahoo/difumo/Data/freesurfer_121023/freesurfer/sub-1011/mri/brain_standardized.mgz. Output saved as /blue/stevenweisberg/ashishkumarsahoo/difumo/Data/freesurfer_121023/hippocampus_standardized/sub-1011_hippomasked_brain_standardized.nii.gz\n",
      "Masking completed for /blue/stevenweisberg/ashishkumarsahoo/difumo/Data/freesurfer_121023/freesurfer/sub-1012/mri/brain_standardized.mgz. Output saved as /blue/stevenweisberg/ashishkumarsahoo/difumo/Data/freesurfer_121023/hippocampus_standardized/sub-1012_hippomasked_brain_standardized.nii.gz\n",
      "Masking completed for /blue/stevenweisberg/ashishkumarsahoo/difumo/Data/freesurfer_121023/freesurfer/sub-1013/mri/brain_standardized.mgz. Output saved as /blue/stevenweisberg/ashishkumarsahoo/difumo/Data/freesurfer_121023/hippocampus_standardized/sub-1013_hippomasked_brain_standardized.nii.gz\n",
      "Masking completed for /blue/stevenweisberg/ashishkumarsahoo/difumo/Data/freesurfer_121023/freesurfer/sub-1014/mri/brain_standardized.mgz. Output saved as /blue/stevenweisberg/ashishkumarsahoo/difumo/Data/freesurfer_121023/hippocampus_standardized/sub-1014_hippomasked_brain_standardized.nii.gz\n",
      "Masking completed for /blue/stevenweisberg/ashishkumarsahoo/difumo/Data/freesurfer_121023/freesurfer/sub-1015/mri/brain_standardized.mgz. Output saved as /blue/stevenweisberg/ashishkumarsahoo/difumo/Data/freesurfer_121023/hippocampus_standardized/sub-1015_hippomasked_brain_standardized.nii.gz\n",
      "Masking completed for /blue/stevenweisberg/ashishkumarsahoo/difumo/Data/freesurfer_121023/freesurfer/sub-1016/mri/brain_standardized.mgz. Output saved as /blue/stevenweisberg/ashishkumarsahoo/difumo/Data/freesurfer_121023/hippocampus_standardized/sub-1016_hippomasked_brain_standardized.nii.gz\n",
      "Masking completed for /blue/stevenweisberg/ashishkumarsahoo/difumo/Data/freesurfer_121023/freesurfer/sub-1017/mri/brain_standardized.mgz. Output saved as /blue/stevenweisberg/ashishkumarsahoo/difumo/Data/freesurfer_121023/hippocampus_standardized/sub-1017_hippomasked_brain_standardized.nii.gz\n",
      "Masking completed for /blue/stevenweisberg/ashishkumarsahoo/difumo/Data/freesurfer_121023/freesurfer/sub-1018/mri/brain_standardized.mgz. Output saved as /blue/stevenweisberg/ashishkumarsahoo/difumo/Data/freesurfer_121023/hippocampus_standardized/sub-1018_hippomasked_brain_standardized.nii.gz\n",
      "Masking completed for /blue/stevenweisberg/ashishkumarsahoo/difumo/Data/freesurfer_121023/freesurfer/sub-1019/mri/brain_standardized.mgz. Output saved as /blue/stevenweisberg/ashishkumarsahoo/difumo/Data/freesurfer_121023/hippocampus_standardized/sub-1019_hippomasked_brain_standardized.nii.gz\n",
      "Masking completed for /blue/stevenweisberg/ashishkumarsahoo/difumo/Data/freesurfer_121023/freesurfer/sub-1020/mri/brain_standardized.mgz. Output saved as /blue/stevenweisberg/ashishkumarsahoo/difumo/Data/freesurfer_121023/hippocampus_standardized/sub-1020_hippomasked_brain_standardized.nii.gz\n",
      "Masking completed for /blue/stevenweisberg/ashishkumarsahoo/difumo/Data/freesurfer_121023/freesurfer/sub-1022/mri/brain_standardized.mgz. Output saved as /blue/stevenweisberg/ashishkumarsahoo/difumo/Data/freesurfer_121023/hippocampus_standardized/sub-1022_hippomasked_brain_standardized.nii.gz\n",
      "Masking completed for /blue/stevenweisberg/ashishkumarsahoo/difumo/Data/freesurfer_121023/freesurfer/sub-1023/mri/brain_standardized.mgz. Output saved as /blue/stevenweisberg/ashishkumarsahoo/difumo/Data/freesurfer_121023/hippocampus_standardized/sub-1023_hippomasked_brain_standardized.nii.gz\n",
      "Masking completed for /blue/stevenweisberg/ashishkumarsahoo/difumo/Data/freesurfer_121023/freesurfer/sub-1024/mri/brain_standardized.mgz. Output saved as /blue/stevenweisberg/ashishkumarsahoo/difumo/Data/freesurfer_121023/hippocampus_standardized/sub-1024_hippomasked_brain_standardized.nii.gz\n",
      "Masking completed for /blue/stevenweisberg/ashishkumarsahoo/difumo/Data/freesurfer_121023/freesurfer/sub-1025/mri/brain_standardized.mgz. Output saved as /blue/stevenweisberg/ashishkumarsahoo/difumo/Data/freesurfer_121023/hippocampus_standardized/sub-1025_hippomasked_brain_standardized.nii.gz\n",
      "Masking completed for /blue/stevenweisberg/ashishkumarsahoo/difumo/Data/freesurfer_121023/freesurfer/sub-1026/mri/brain_standardized.mgz. Output saved as /blue/stevenweisberg/ashishkumarsahoo/difumo/Data/freesurfer_121023/hippocampus_standardized/sub-1026_hippomasked_brain_standardized.nii.gz\n",
      "Masking completed for /blue/stevenweisberg/ashishkumarsahoo/difumo/Data/freesurfer_121023/freesurfer/sub-1027/mri/brain_standardized.mgz. Output saved as /blue/stevenweisberg/ashishkumarsahoo/difumo/Data/freesurfer_121023/hippocampus_standardized/sub-1027_hippomasked_brain_standardized.nii.gz\n",
      "Masking completed for /blue/stevenweisberg/ashishkumarsahoo/difumo/Data/freesurfer_121023/freesurfer/sub-1028/mri/brain_standardized.mgz. Output saved as /blue/stevenweisberg/ashishkumarsahoo/difumo/Data/freesurfer_121023/hippocampus_standardized/sub-1028_hippomasked_brain_standardized.nii.gz\n",
      "Masking completed for /blue/stevenweisberg/ashishkumarsahoo/difumo/Data/freesurfer_121023/freesurfer/sub-1029/mri/brain_standardized.mgz. Output saved as /blue/stevenweisberg/ashishkumarsahoo/difumo/Data/freesurfer_121023/hippocampus_standardized/sub-1029_hippomasked_brain_standardized.nii.gz\n",
      "Masking completed for /blue/stevenweisberg/ashishkumarsahoo/difumo/Data/freesurfer_121023/freesurfer/sub-1030/mri/brain_standardized.mgz. Output saved as /blue/stevenweisberg/ashishkumarsahoo/difumo/Data/freesurfer_121023/hippocampus_standardized/sub-1030_hippomasked_brain_standardized.nii.gz\n",
      "Masking completed for /blue/stevenweisberg/ashishkumarsahoo/difumo/Data/freesurfer_121023/freesurfer/sub-1031/mri/brain_standardized.mgz. Output saved as /blue/stevenweisberg/ashishkumarsahoo/difumo/Data/freesurfer_121023/hippocampus_standardized/sub-1031_hippomasked_brain_standardized.nii.gz\n",
      "Masking completed for /blue/stevenweisberg/ashishkumarsahoo/difumo/Data/freesurfer_121023/freesurfer/sub-1032/mri/brain_standardized.mgz. Output saved as /blue/stevenweisberg/ashishkumarsahoo/difumo/Data/freesurfer_121023/hippocampus_standardized/sub-1032_hippomasked_brain_standardized.nii.gz\n",
      "Masking completed for /blue/stevenweisberg/ashishkumarsahoo/difumo/Data/freesurfer_121023/freesurfer/sub-1033/mri/brain_standardized.mgz. Output saved as /blue/stevenweisberg/ashishkumarsahoo/difumo/Data/freesurfer_121023/hippocampus_standardized/sub-1033_hippomasked_brain_standardized.nii.gz\n",
      "Masking completed for /blue/stevenweisberg/ashishkumarsahoo/difumo/Data/freesurfer_121023/freesurfer/sub-1034/mri/brain_standardized.mgz. Output saved as /blue/stevenweisberg/ashishkumarsahoo/difumo/Data/freesurfer_121023/hippocampus_standardized/sub-1034_hippomasked_brain_standardized.nii.gz\n",
      "Masking completed for /blue/stevenweisberg/ashishkumarsahoo/difumo/Data/freesurfer_121023/freesurfer/sub-1035/mri/brain_standardized.mgz. Output saved as /blue/stevenweisberg/ashishkumarsahoo/difumo/Data/freesurfer_121023/hippocampus_standardized/sub-1035_hippomasked_brain_standardized.nii.gz\n",
      "Masking completed for /blue/stevenweisberg/ashishkumarsahoo/difumo/Data/freesurfer_121023/freesurfer/sub-1036/mri/brain_standardized.mgz. Output saved as /blue/stevenweisberg/ashishkumarsahoo/difumo/Data/freesurfer_121023/hippocampus_standardized/sub-1036_hippomasked_brain_standardized.nii.gz\n",
      "Masking completed for /blue/stevenweisberg/ashishkumarsahoo/difumo/Data/freesurfer_121023/freesurfer/sub-1037/mri/brain_standardized.mgz. Output saved as /blue/stevenweisberg/ashishkumarsahoo/difumo/Data/freesurfer_121023/hippocampus_standardized/sub-1037_hippomasked_brain_standardized.nii.gz\n",
      "Masking completed for /blue/stevenweisberg/ashishkumarsahoo/difumo/Data/freesurfer_121023/freesurfer/sub-1038/mri/brain_standardized.mgz. Output saved as /blue/stevenweisberg/ashishkumarsahoo/difumo/Data/freesurfer_121023/hippocampus_standardized/sub-1038_hippomasked_brain_standardized.nii.gz\n",
      "Masking completed for /blue/stevenweisberg/ashishkumarsahoo/difumo/Data/freesurfer_121023/freesurfer/sub-1039/mri/brain_standardized.mgz. Output saved as /blue/stevenweisberg/ashishkumarsahoo/difumo/Data/freesurfer_121023/hippocampus_standardized/sub-1039_hippomasked_brain_standardized.nii.gz\n",
      "Masking completed for /blue/stevenweisberg/ashishkumarsahoo/difumo/Data/freesurfer_121023/freesurfer/sub-1040/mri/brain_standardized.mgz. Output saved as /blue/stevenweisberg/ashishkumarsahoo/difumo/Data/freesurfer_121023/hippocampus_standardized/sub-1040_hippomasked_brain_standardized.nii.gz\n",
      "Masking completed for /blue/stevenweisberg/ashishkumarsahoo/difumo/Data/freesurfer_121023/freesurfer/sub-1041/mri/brain_standardized.mgz. Output saved as /blue/stevenweisberg/ashishkumarsahoo/difumo/Data/freesurfer_121023/hippocampus_standardized/sub-1041_hippomasked_brain_standardized.nii.gz\n",
      "Masking completed for /blue/stevenweisberg/ashishkumarsahoo/difumo/Data/freesurfer_121023/freesurfer/sub-1042/mri/brain_standardized.mgz. Output saved as /blue/stevenweisberg/ashishkumarsahoo/difumo/Data/freesurfer_121023/hippocampus_standardized/sub-1042_hippomasked_brain_standardized.nii.gz\n",
      "Masking completed for /blue/stevenweisberg/ashishkumarsahoo/difumo/Data/freesurfer_121023/freesurfer/sub-1043/mri/brain_standardized.mgz. Output saved as /blue/stevenweisberg/ashishkumarsahoo/difumo/Data/freesurfer_121023/hippocampus_standardized/sub-1043_hippomasked_brain_standardized.nii.gz\n",
      "Masking completed for /blue/stevenweisberg/ashishkumarsahoo/difumo/Data/freesurfer_121023/freesurfer/sub-1044/mri/brain_standardized.mgz. Output saved as /blue/stevenweisberg/ashishkumarsahoo/difumo/Data/freesurfer_121023/hippocampus_standardized/sub-1044_hippomasked_brain_standardized.nii.gz\n",
      "Masking completed for /blue/stevenweisberg/ashishkumarsahoo/difumo/Data/freesurfer_121023/freesurfer/sub-1045/mri/brain_standardized.mgz. Output saved as /blue/stevenweisberg/ashishkumarsahoo/difumo/Data/freesurfer_121023/hippocampus_standardized/sub-1045_hippomasked_brain_standardized.nii.gz\n",
      "Masking completed for /blue/stevenweisberg/ashishkumarsahoo/difumo/Data/freesurfer_121023/freesurfer/sub-1046/mri/brain_standardized.mgz. Output saved as /blue/stevenweisberg/ashishkumarsahoo/difumo/Data/freesurfer_121023/hippocampus_standardized/sub-1046_hippomasked_brain_standardized.nii.gz\n",
      "Masking completed for /blue/stevenweisberg/ashishkumarsahoo/difumo/Data/freesurfer_121023/freesurfer/sub-1047/mri/brain_standardized.mgz. Output saved as /blue/stevenweisberg/ashishkumarsahoo/difumo/Data/freesurfer_121023/hippocampus_standardized/sub-1047_hippomasked_brain_standardized.nii.gz\n",
      "Masking completed for /blue/stevenweisberg/ashishkumarsahoo/difumo/Data/freesurfer_121023/freesurfer/sub-1048/mri/brain_standardized.mgz. Output saved as /blue/stevenweisberg/ashishkumarsahoo/difumo/Data/freesurfer_121023/hippocampus_standardized/sub-1048_hippomasked_brain_standardized.nii.gz\n",
      "Masking completed for /blue/stevenweisberg/ashishkumarsahoo/difumo/Data/freesurfer_121023/freesurfer/sub-1049/mri/brain_standardized.mgz. Output saved as /blue/stevenweisberg/ashishkumarsahoo/difumo/Data/freesurfer_121023/hippocampus_standardized/sub-1049_hippomasked_brain_standardized.nii.gz\n",
      "Masking completed for /blue/stevenweisberg/ashishkumarsahoo/difumo/Data/freesurfer_121023/freesurfer/sub-1050/mri/brain_standardized.mgz. Output saved as /blue/stevenweisberg/ashishkumarsahoo/difumo/Data/freesurfer_121023/hippocampus_standardized/sub-1050_hippomasked_brain_standardized.nii.gz\n",
      "Masking completed for /blue/stevenweisberg/ashishkumarsahoo/difumo/Data/freesurfer_121023/freesurfer/sub-1051/mri/brain_standardized.mgz. Output saved as /blue/stevenweisberg/ashishkumarsahoo/difumo/Data/freesurfer_121023/hippocampus_standardized/sub-1051_hippomasked_brain_standardized.nii.gz\n",
      "Masking completed for /blue/stevenweisberg/ashishkumarsahoo/difumo/Data/freesurfer_121023/freesurfer/sub-1052/mri/brain_standardized.mgz. Output saved as /blue/stevenweisberg/ashishkumarsahoo/difumo/Data/freesurfer_121023/hippocampus_standardized/sub-1052_hippomasked_brain_standardized.nii.gz\n",
      "Masking completed for /blue/stevenweisberg/ashishkumarsahoo/difumo/Data/freesurfer_121023/freesurfer/sub-1053/mri/brain_standardized.mgz. Output saved as /blue/stevenweisberg/ashishkumarsahoo/difumo/Data/freesurfer_121023/hippocampus_standardized/sub-1053_hippomasked_brain_standardized.nii.gz\n",
      "Masking completed for /blue/stevenweisberg/ashishkumarsahoo/difumo/Data/freesurfer_121023/freesurfer/sub-1054/mri/brain_standardized.mgz. Output saved as /blue/stevenweisberg/ashishkumarsahoo/difumo/Data/freesurfer_121023/hippocampus_standardized/sub-1054_hippomasked_brain_standardized.nii.gz\n",
      "Masking completed for /blue/stevenweisberg/ashishkumarsahoo/difumo/Data/freesurfer_121023/freesurfer/sub-1055/mri/brain_standardized.mgz. Output saved as /blue/stevenweisberg/ashishkumarsahoo/difumo/Data/freesurfer_121023/hippocampus_standardized/sub-1055_hippomasked_brain_standardized.nii.gz\n",
      "Masking completed for /blue/stevenweisberg/ashishkumarsahoo/difumo/Data/freesurfer_121023/freesurfer/sub-1056/mri/brain_standardized.mgz. Output saved as /blue/stevenweisberg/ashishkumarsahoo/difumo/Data/freesurfer_121023/hippocampus_standardized/sub-1056_hippomasked_brain_standardized.nii.gz\n",
      "Masking completed for /blue/stevenweisberg/ashishkumarsahoo/difumo/Data/freesurfer_121023/freesurfer/sub-1057/mri/brain_standardized.mgz. Output saved as /blue/stevenweisberg/ashishkumarsahoo/difumo/Data/freesurfer_121023/hippocampus_standardized/sub-1057_hippomasked_brain_standardized.nii.gz\n",
      "Masking completed for /blue/stevenweisberg/ashishkumarsahoo/difumo/Data/freesurfer_121023/freesurfer/sub-1058/mri/brain_standardized.mgz. Output saved as /blue/stevenweisberg/ashishkumarsahoo/difumo/Data/freesurfer_121023/hippocampus_standardized/sub-1058_hippomasked_brain_standardized.nii.gz\n",
      "Masking completed for /blue/stevenweisberg/ashishkumarsahoo/difumo/Data/freesurfer_121023/freesurfer/sub-1059/mri/brain_standardized.mgz. Output saved as /blue/stevenweisberg/ashishkumarsahoo/difumo/Data/freesurfer_121023/hippocampus_standardized/sub-1059_hippomasked_brain_standardized.nii.gz\n",
      "Masking completed for /blue/stevenweisberg/ashishkumarsahoo/difumo/Data/freesurfer_121023/freesurfer/sub-1060/mri/brain_standardized.mgz. Output saved as /blue/stevenweisberg/ashishkumarsahoo/difumo/Data/freesurfer_121023/hippocampus_standardized/sub-1060_hippomasked_brain_standardized.nii.gz\n",
      "Masking completed for /blue/stevenweisberg/ashishkumarsahoo/difumo/Data/freesurfer_121023/freesurfer/sub-1061/mri/brain_standardized.mgz. Output saved as /blue/stevenweisberg/ashishkumarsahoo/difumo/Data/freesurfer_121023/hippocampus_standardized/sub-1061_hippomasked_brain_standardized.nii.gz\n",
      "Masking completed for /blue/stevenweisberg/ashishkumarsahoo/difumo/Data/freesurfer_121023/freesurfer/sub-1062/mri/brain_standardized.mgz. Output saved as /blue/stevenweisberg/ashishkumarsahoo/difumo/Data/freesurfer_121023/hippocampus_standardized/sub-1062_hippomasked_brain_standardized.nii.gz\n",
      "Masking completed for /blue/stevenweisberg/ashishkumarsahoo/difumo/Data/freesurfer_121023/freesurfer/sub-1063/mri/brain_standardized.mgz. Output saved as /blue/stevenweisberg/ashishkumarsahoo/difumo/Data/freesurfer_121023/hippocampus_standardized/sub-1063_hippomasked_brain_standardized.nii.gz\n",
      "Masking completed for /blue/stevenweisberg/ashishkumarsahoo/difumo/Data/freesurfer_121023/freesurfer/sub-1064/mri/brain_standardized.mgz. Output saved as /blue/stevenweisberg/ashishkumarsahoo/difumo/Data/freesurfer_121023/hippocampus_standardized/sub-1064_hippomasked_brain_standardized.nii.gz\n",
      "Masking completed for /blue/stevenweisberg/ashishkumarsahoo/difumo/Data/freesurfer_121023/freesurfer/sub-1065/mri/brain_standardized.mgz. Output saved as /blue/stevenweisberg/ashishkumarsahoo/difumo/Data/freesurfer_121023/hippocampus_standardized/sub-1065_hippomasked_brain_standardized.nii.gz\n",
      "Masking completed for /blue/stevenweisberg/ashishkumarsahoo/difumo/Data/freesurfer_121023/freesurfer/sub-1066/mri/brain_standardized.mgz. Output saved as /blue/stevenweisberg/ashishkumarsahoo/difumo/Data/freesurfer_121023/hippocampus_standardized/sub-1066_hippomasked_brain_standardized.nii.gz\n",
      "Masking completed for /blue/stevenweisberg/ashishkumarsahoo/difumo/Data/freesurfer_121023/freesurfer/sub-1067/mri/brain_standardized.mgz. Output saved as /blue/stevenweisberg/ashishkumarsahoo/difumo/Data/freesurfer_121023/hippocampus_standardized/sub-1067_hippomasked_brain_standardized.nii.gz\n",
      "Masking completed for /blue/stevenweisberg/ashishkumarsahoo/difumo/Data/freesurfer_121023/freesurfer/sub-1068/mri/brain_standardized.mgz. Output saved as /blue/stevenweisberg/ashishkumarsahoo/difumo/Data/freesurfer_121023/hippocampus_standardized/sub-1068_hippomasked_brain_standardized.nii.gz\n",
      "Masking completed for /blue/stevenweisberg/ashishkumarsahoo/difumo/Data/freesurfer_121023/freesurfer/sub-1069/mri/brain_standardized.mgz. Output saved as /blue/stevenweisberg/ashishkumarsahoo/difumo/Data/freesurfer_121023/hippocampus_standardized/sub-1069_hippomasked_brain_standardized.nii.gz\n",
      "Masking completed for /blue/stevenweisberg/ashishkumarsahoo/difumo/Data/freesurfer_121023/freesurfer/sub-1070/mri/brain_standardized.mgz. Output saved as /blue/stevenweisberg/ashishkumarsahoo/difumo/Data/freesurfer_121023/hippocampus_standardized/sub-1070_hippomasked_brain_standardized.nii.gz\n",
      "Masking completed for /blue/stevenweisberg/ashishkumarsahoo/difumo/Data/freesurfer_121023/freesurfer/sub-1071/mri/brain_standardized.mgz. Output saved as /blue/stevenweisberg/ashishkumarsahoo/difumo/Data/freesurfer_121023/hippocampus_standardized/sub-1071_hippomasked_brain_standardized.nii.gz\n",
      "Masking completed for /blue/stevenweisberg/ashishkumarsahoo/difumo/Data/freesurfer_121023/freesurfer/sub-1072/mri/brain_standardized.mgz. Output saved as /blue/stevenweisberg/ashishkumarsahoo/difumo/Data/freesurfer_121023/hippocampus_standardized/sub-1072_hippomasked_brain_standardized.nii.gz\n",
      "Masking completed for /blue/stevenweisberg/ashishkumarsahoo/difumo/Data/freesurfer_121023/freesurfer/sub-1073/mri/brain_standardized.mgz. Output saved as /blue/stevenweisberg/ashishkumarsahoo/difumo/Data/freesurfer_121023/hippocampus_standardized/sub-1073_hippomasked_brain_standardized.nii.gz\n",
      "Masking completed for /blue/stevenweisberg/ashishkumarsahoo/difumo/Data/freesurfer_121023/freesurfer/sub-1074/mri/brain_standardized.mgz. Output saved as /blue/stevenweisberg/ashishkumarsahoo/difumo/Data/freesurfer_121023/hippocampus_standardized/sub-1074_hippomasked_brain_standardized.nii.gz\n",
      "Masking completed for /blue/stevenweisberg/ashishkumarsahoo/difumo/Data/freesurfer_121023/freesurfer/sub-1075/mri/brain_standardized.mgz. Output saved as /blue/stevenweisberg/ashishkumarsahoo/difumo/Data/freesurfer_121023/hippocampus_standardized/sub-1075_hippomasked_brain_standardized.nii.gz\n",
      "Masking completed for /blue/stevenweisberg/ashishkumarsahoo/difumo/Data/freesurfer_121023/freesurfer/sub-1076/mri/brain_standardized.mgz. Output saved as /blue/stevenweisberg/ashishkumarsahoo/difumo/Data/freesurfer_121023/hippocampus_standardized/sub-1076_hippomasked_brain_standardized.nii.gz\n",
      "Masking completed for /blue/stevenweisberg/ashishkumarsahoo/difumo/Data/freesurfer_121023/freesurfer/sub-1077/mri/brain_standardized.mgz. Output saved as /blue/stevenweisberg/ashishkumarsahoo/difumo/Data/freesurfer_121023/hippocampus_standardized/sub-1077_hippomasked_brain_standardized.nii.gz\n",
      "Masking completed for /blue/stevenweisberg/ashishkumarsahoo/difumo/Data/freesurfer_121023/freesurfer/sub-1078/mri/brain_standardized.mgz. Output saved as /blue/stevenweisberg/ashishkumarsahoo/difumo/Data/freesurfer_121023/hippocampus_standardized/sub-1078_hippomasked_brain_standardized.nii.gz\n",
      "Masking completed for /blue/stevenweisberg/ashishkumarsahoo/difumo/Data/freesurfer_121023/freesurfer/sub-1079/mri/brain_standardized.mgz. Output saved as /blue/stevenweisberg/ashishkumarsahoo/difumo/Data/freesurfer_121023/hippocampus_standardized/sub-1079_hippomasked_brain_standardized.nii.gz\n",
      "Masking completed for /blue/stevenweisberg/ashishkumarsahoo/difumo/Data/freesurfer_121023/freesurfer/sub-1080/mri/brain_standardized.mgz. Output saved as /blue/stevenweisberg/ashishkumarsahoo/difumo/Data/freesurfer_121023/hippocampus_standardized/sub-1080_hippomasked_brain_standardized.nii.gz\n",
      "Masking completed for /blue/stevenweisberg/ashishkumarsahoo/difumo/Data/freesurfer_121023/freesurfer/sub-1081/mri/brain_standardized.mgz. Output saved as /blue/stevenweisberg/ashishkumarsahoo/difumo/Data/freesurfer_121023/hippocampus_standardized/sub-1081_hippomasked_brain_standardized.nii.gz\n",
      "Masking completed for /blue/stevenweisberg/ashishkumarsahoo/difumo/Data/freesurfer_121023/freesurfer/sub-1082/mri/brain_standardized.mgz. Output saved as /blue/stevenweisberg/ashishkumarsahoo/difumo/Data/freesurfer_121023/hippocampus_standardized/sub-1082_hippomasked_brain_standardized.nii.gz\n",
      "Masking completed for /blue/stevenweisberg/ashishkumarsahoo/difumo/Data/freesurfer_121023/freesurfer/sub-1083/mri/brain_standardized.mgz. Output saved as /blue/stevenweisberg/ashishkumarsahoo/difumo/Data/freesurfer_121023/hippocampus_standardized/sub-1083_hippomasked_brain_standardized.nii.gz\n",
      "Masking completed for /blue/stevenweisberg/ashishkumarsahoo/difumo/Data/freesurfer_121023/freesurfer/sub-1084/mri/brain_standardized.mgz. Output saved as /blue/stevenweisberg/ashishkumarsahoo/difumo/Data/freesurfer_121023/hippocampus_standardized/sub-1084_hippomasked_brain_standardized.nii.gz\n",
      "Masking completed for /blue/stevenweisberg/ashishkumarsahoo/difumo/Data/freesurfer_121023/freesurfer/sub-1085/mri/brain_standardized.mgz. Output saved as /blue/stevenweisberg/ashishkumarsahoo/difumo/Data/freesurfer_121023/hippocampus_standardized/sub-1085_hippomasked_brain_standardized.nii.gz\n",
      "Masking completed for /blue/stevenweisberg/ashishkumarsahoo/difumo/Data/freesurfer_121023/freesurfer/sub-1086/mri/brain_standardized.mgz. Output saved as /blue/stevenweisberg/ashishkumarsahoo/difumo/Data/freesurfer_121023/hippocampus_standardized/sub-1086_hippomasked_brain_standardized.nii.gz\n",
      "Masking completed for /blue/stevenweisberg/ashishkumarsahoo/difumo/Data/freesurfer_121023/freesurfer/sub-1087/mri/brain_standardized.mgz. Output saved as /blue/stevenweisberg/ashishkumarsahoo/difumo/Data/freesurfer_121023/hippocampus_standardized/sub-1087_hippomasked_brain_standardized.nii.gz\n",
      "Masking completed for /blue/stevenweisberg/ashishkumarsahoo/difumo/Data/freesurfer_121023/freesurfer/sub-1088/mri/brain_standardized.mgz. Output saved as /blue/stevenweisberg/ashishkumarsahoo/difumo/Data/freesurfer_121023/hippocampus_standardized/sub-1088_hippomasked_brain_standardized.nii.gz\n",
      "Masking completed for /blue/stevenweisberg/ashishkumarsahoo/difumo/Data/freesurfer_121023/freesurfer/sub-1089/mri/brain_standardized.mgz. Output saved as /blue/stevenweisberg/ashishkumarsahoo/difumo/Data/freesurfer_121023/hippocampus_standardized/sub-1089_hippomasked_brain_standardized.nii.gz\n",
      "Masking completed for /blue/stevenweisberg/ashishkumarsahoo/difumo/Data/freesurfer_121023/freesurfer/sub-1090/mri/brain_standardized.mgz. Output saved as /blue/stevenweisberg/ashishkumarsahoo/difumo/Data/freesurfer_121023/hippocampus_standardized/sub-1090_hippomasked_brain_standardized.nii.gz\n",
      "Masking completed for /blue/stevenweisberg/ashishkumarsahoo/difumo/Data/freesurfer_121023/freesurfer/sub-1091/mri/brain_standardized.mgz. Output saved as /blue/stevenweisberg/ashishkumarsahoo/difumo/Data/freesurfer_121023/hippocampus_standardized/sub-1091_hippomasked_brain_standardized.nii.gz\n",
      "Masking completed for /blue/stevenweisberg/ashishkumarsahoo/difumo/Data/freesurfer_121023/freesurfer/sub-1092/mri/brain_standardized.mgz. Output saved as /blue/stevenweisberg/ashishkumarsahoo/difumo/Data/freesurfer_121023/hippocampus_standardized/sub-1092_hippomasked_brain_standardized.nii.gz\n"
     ]
    }
   ],
   "source": [
    "import nibabel as nib\n",
    "import numpy as np\n",
    "\n",
    "# Lists containing filenames\n",
    "#raw_list = ['rawavg1.mgz', 'rawavg2.mgz', 'rawavg3.mgz']  # Replace with your rawavg_img filenames\n",
    "#mask_list = ['mask1.nii.gz', 'mask2.nii.gz', 'mask3.nii.gz']  # Replace with your hippocampus_mask filenames\n",
    "#output_list = ['masked_output1.nii.gz', 'masked_output2.nii.gz', 'masked_output3.nii.gz']  # Replace with desired output filenames\n",
    "\n",
    "for raw_file, mask_file, output_file in zip(brain_list, mask_list, output_list):\n",
    "    # Load the MRI image and mask\n",
    "    rawavg_img = nib.load(raw_file)\n",
    "    mask_img = nib.load(mask_file)\n",
    "\n",
    "    # Get the data arrays from the images\n",
    "    rawavg_data = rawavg_img.get_fdata()\n",
    "    mask_data = mask_img.get_fdata()\n",
    "\n",
    "    # Apply the mask\n",
    "    masked_data = np.where(mask_data == 1, rawavg_data, 0)\n",
    "\n",
    "    # Create a new NIfTI image with the masked data\n",
    "    masked_img = nib.Nifti1Image(masked_data, rawavg_img.affine)\n",
    "\n",
    "    # Save the masked image\n",
    "    nib.save(masked_img, output_file)\n",
    "\n",
    "    print(f\"Masking completed for {raw_file}. Output saved as {output_file}\")\n"
   ]
  },
  {
   "cell_type": "code",
   "execution_count": null,
   "id": "33cb0e73-64f8-4b36-85f8-e7ff19bd3368",
   "metadata": {},
   "outputs": [],
   "source": []
  },
  {
   "cell_type": "markdown",
   "id": "4b93d0df-a991-45f6-8808-53615c92e373",
   "metadata": {},
   "source": [
    "#thalamus"
   ]
  },
  {
   "cell_type": "code",
   "execution_count": 14,
   "id": "451ece94-7159-4195-8644-6daf24b45f55",
   "metadata": {
    "tags": []
   },
   "outputs": [],
   "source": [
    "thalamus_list = [\"mri_binarize --i /blue/stevenweisberg/ashishkumarsahoo/difumo/Data/freesurfer_121023/freesurfer/{}/mri/aseg_standardized.mgz --match 10 49 --o /blue/stevenweisberg/ashishkumarsahoo/difumo/Data/freesurfer_121023/freesurfer/{}/mri/thalamus_standardized_mask.nii.gz\".format(subj, subj) for subj in subjs]\n"
   ]
  },
  {
   "cell_type": "code",
   "execution_count": 15,
   "id": "95481482-e613-43f8-8fd6-1a317f348712",
   "metadata": {
    "tags": []
   },
   "outputs": [],
   "source": [
    "with open('thalamusmask_standardized_list.txt', 'w') as f:\n",
    "    for thalamus in thalamus_list:\n",
    "        f.write(thalamus + '\\n')"
   ]
  },
  {
   "cell_type": "code",
   "execution_count": 22,
   "id": "5708ee19-a59e-4ea3-96fc-3897d4671930",
   "metadata": {},
   "outputs": [],
   "source": [
    "brain_list = [\"/blue/stevenweisberg/ashishkumarsahoo/difumo/Data/freesurfer_121023/freesurfer/{}/mri/brain_standardized.mgz\".format(subj) for subj in subjs]\n",
    "\n",
    "mask_list = [\"/blue/stevenweisberg/ashishkumarsahoo/difumo/Data/freesurfer_121023/freesurfer/{}/mri/thalamus_standardized_mask.nii.gz\".format(subj) for subj in subjs]\n",
    "\n",
    "output_list = [\"/blue/stevenweisberg/ashishkumarsahoo/difumo/Data/freesurfer_121023/thalamus_standardized/{}_thalamusmasked_brain_standardized.nii.gz\".format(subj) for subj in subjs]"
   ]
  },
  {
   "cell_type": "code",
   "execution_count": 20,
   "id": "ca5f18da-4549-47d8-abeb-2c328ec377aa",
   "metadata": {
    "tags": []
   },
   "outputs": [],
   "source": [
    "#brain_list"
   ]
  },
  {
   "cell_type": "code",
   "execution_count": 24,
   "id": "aef813bc-7cab-4c00-9be4-dd4bba692b63",
   "metadata": {
    "tags": []
   },
   "outputs": [
    {
     "name": "stdout",
     "output_type": "stream",
     "text": [
      "Masking completed for /blue/stevenweisberg/ashishkumarsahoo/difumo/Data/freesurfer_121023/freesurfer/sub-1002/mri/brain_standardized.mgz. Output saved as /blue/stevenweisberg/ashishkumarsahoo/difumo/Data/freesurfer_121023/thalamus_standardized/sub-1002_thalamusmasked_brain_standardized.nii.gz\n",
      "Masking completed for /blue/stevenweisberg/ashishkumarsahoo/difumo/Data/freesurfer_121023/freesurfer/sub-1003/mri/brain_standardized.mgz. Output saved as /blue/stevenweisberg/ashishkumarsahoo/difumo/Data/freesurfer_121023/thalamus_standardized/sub-1003_thalamusmasked_brain_standardized.nii.gz\n",
      "Masking completed for /blue/stevenweisberg/ashishkumarsahoo/difumo/Data/freesurfer_121023/freesurfer/sub-1004/mri/brain_standardized.mgz. Output saved as /blue/stevenweisberg/ashishkumarsahoo/difumo/Data/freesurfer_121023/thalamus_standardized/sub-1004_thalamusmasked_brain_standardized.nii.gz\n",
      "Masking completed for /blue/stevenweisberg/ashishkumarsahoo/difumo/Data/freesurfer_121023/freesurfer/sub-1005/mri/brain_standardized.mgz. Output saved as /blue/stevenweisberg/ashishkumarsahoo/difumo/Data/freesurfer_121023/thalamus_standardized/sub-1005_thalamusmasked_brain_standardized.nii.gz\n",
      "Masking completed for /blue/stevenweisberg/ashishkumarsahoo/difumo/Data/freesurfer_121023/freesurfer/sub-1006/mri/brain_standardized.mgz. Output saved as /blue/stevenweisberg/ashishkumarsahoo/difumo/Data/freesurfer_121023/thalamus_standardized/sub-1006_thalamusmasked_brain_standardized.nii.gz\n",
      "Masking completed for /blue/stevenweisberg/ashishkumarsahoo/difumo/Data/freesurfer_121023/freesurfer/sub-1007/mri/brain_standardized.mgz. Output saved as /blue/stevenweisberg/ashishkumarsahoo/difumo/Data/freesurfer_121023/thalamus_standardized/sub-1007_thalamusmasked_brain_standardized.nii.gz\n",
      "Masking completed for /blue/stevenweisberg/ashishkumarsahoo/difumo/Data/freesurfer_121023/freesurfer/sub-1008/mri/brain_standardized.mgz. Output saved as /blue/stevenweisberg/ashishkumarsahoo/difumo/Data/freesurfer_121023/thalamus_standardized/sub-1008_thalamusmasked_brain_standardized.nii.gz\n",
      "Masking completed for /blue/stevenweisberg/ashishkumarsahoo/difumo/Data/freesurfer_121023/freesurfer/sub-1009/mri/brain_standardized.mgz. Output saved as /blue/stevenweisberg/ashishkumarsahoo/difumo/Data/freesurfer_121023/thalamus_standardized/sub-1009_thalamusmasked_brain_standardized.nii.gz\n",
      "Masking completed for /blue/stevenweisberg/ashishkumarsahoo/difumo/Data/freesurfer_121023/freesurfer/sub-1010/mri/brain_standardized.mgz. Output saved as /blue/stevenweisberg/ashishkumarsahoo/difumo/Data/freesurfer_121023/thalamus_standardized/sub-1010_thalamusmasked_brain_standardized.nii.gz\n",
      "Masking completed for /blue/stevenweisberg/ashishkumarsahoo/difumo/Data/freesurfer_121023/freesurfer/sub-1011/mri/brain_standardized.mgz. Output saved as /blue/stevenweisberg/ashishkumarsahoo/difumo/Data/freesurfer_121023/thalamus_standardized/sub-1011_thalamusmasked_brain_standardized.nii.gz\n",
      "Masking completed for /blue/stevenweisberg/ashishkumarsahoo/difumo/Data/freesurfer_121023/freesurfer/sub-1012/mri/brain_standardized.mgz. Output saved as /blue/stevenweisberg/ashishkumarsahoo/difumo/Data/freesurfer_121023/thalamus_standardized/sub-1012_thalamusmasked_brain_standardized.nii.gz\n",
      "Masking completed for /blue/stevenweisberg/ashishkumarsahoo/difumo/Data/freesurfer_121023/freesurfer/sub-1013/mri/brain_standardized.mgz. Output saved as /blue/stevenweisberg/ashishkumarsahoo/difumo/Data/freesurfer_121023/thalamus_standardized/sub-1013_thalamusmasked_brain_standardized.nii.gz\n",
      "Masking completed for /blue/stevenweisberg/ashishkumarsahoo/difumo/Data/freesurfer_121023/freesurfer/sub-1014/mri/brain_standardized.mgz. Output saved as /blue/stevenweisberg/ashishkumarsahoo/difumo/Data/freesurfer_121023/thalamus_standardized/sub-1014_thalamusmasked_brain_standardized.nii.gz\n",
      "Masking completed for /blue/stevenweisberg/ashishkumarsahoo/difumo/Data/freesurfer_121023/freesurfer/sub-1015/mri/brain_standardized.mgz. Output saved as /blue/stevenweisberg/ashishkumarsahoo/difumo/Data/freesurfer_121023/thalamus_standardized/sub-1015_thalamusmasked_brain_standardized.nii.gz\n",
      "Masking completed for /blue/stevenweisberg/ashishkumarsahoo/difumo/Data/freesurfer_121023/freesurfer/sub-1016/mri/brain_standardized.mgz. Output saved as /blue/stevenweisberg/ashishkumarsahoo/difumo/Data/freesurfer_121023/thalamus_standardized/sub-1016_thalamusmasked_brain_standardized.nii.gz\n",
      "Masking completed for /blue/stevenweisberg/ashishkumarsahoo/difumo/Data/freesurfer_121023/freesurfer/sub-1017/mri/brain_standardized.mgz. Output saved as /blue/stevenweisberg/ashishkumarsahoo/difumo/Data/freesurfer_121023/thalamus_standardized/sub-1017_thalamusmasked_brain_standardized.nii.gz\n",
      "Masking completed for /blue/stevenweisberg/ashishkumarsahoo/difumo/Data/freesurfer_121023/freesurfer/sub-1018/mri/brain_standardized.mgz. Output saved as /blue/stevenweisberg/ashishkumarsahoo/difumo/Data/freesurfer_121023/thalamus_standardized/sub-1018_thalamusmasked_brain_standardized.nii.gz\n",
      "Masking completed for /blue/stevenweisberg/ashishkumarsahoo/difumo/Data/freesurfer_121023/freesurfer/sub-1019/mri/brain_standardized.mgz. Output saved as /blue/stevenweisberg/ashishkumarsahoo/difumo/Data/freesurfer_121023/thalamus_standardized/sub-1019_thalamusmasked_brain_standardized.nii.gz\n",
      "Masking completed for /blue/stevenweisberg/ashishkumarsahoo/difumo/Data/freesurfer_121023/freesurfer/sub-1020/mri/brain_standardized.mgz. Output saved as /blue/stevenweisberg/ashishkumarsahoo/difumo/Data/freesurfer_121023/thalamus_standardized/sub-1020_thalamusmasked_brain_standardized.nii.gz\n",
      "Masking completed for /blue/stevenweisberg/ashishkumarsahoo/difumo/Data/freesurfer_121023/freesurfer/sub-1022/mri/brain_standardized.mgz. Output saved as /blue/stevenweisberg/ashishkumarsahoo/difumo/Data/freesurfer_121023/thalamus_standardized/sub-1022_thalamusmasked_brain_standardized.nii.gz\n",
      "Masking completed for /blue/stevenweisberg/ashishkumarsahoo/difumo/Data/freesurfer_121023/freesurfer/sub-1023/mri/brain_standardized.mgz. Output saved as /blue/stevenweisberg/ashishkumarsahoo/difumo/Data/freesurfer_121023/thalamus_standardized/sub-1023_thalamusmasked_brain_standardized.nii.gz\n",
      "Masking completed for /blue/stevenweisberg/ashishkumarsahoo/difumo/Data/freesurfer_121023/freesurfer/sub-1024/mri/brain_standardized.mgz. Output saved as /blue/stevenweisberg/ashishkumarsahoo/difumo/Data/freesurfer_121023/thalamus_standardized/sub-1024_thalamusmasked_brain_standardized.nii.gz\n",
      "Masking completed for /blue/stevenweisberg/ashishkumarsahoo/difumo/Data/freesurfer_121023/freesurfer/sub-1025/mri/brain_standardized.mgz. Output saved as /blue/stevenweisberg/ashishkumarsahoo/difumo/Data/freesurfer_121023/thalamus_standardized/sub-1025_thalamusmasked_brain_standardized.nii.gz\n",
      "Masking completed for /blue/stevenweisberg/ashishkumarsahoo/difumo/Data/freesurfer_121023/freesurfer/sub-1026/mri/brain_standardized.mgz. Output saved as /blue/stevenweisberg/ashishkumarsahoo/difumo/Data/freesurfer_121023/thalamus_standardized/sub-1026_thalamusmasked_brain_standardized.nii.gz\n",
      "Masking completed for /blue/stevenweisberg/ashishkumarsahoo/difumo/Data/freesurfer_121023/freesurfer/sub-1027/mri/brain_standardized.mgz. Output saved as /blue/stevenweisberg/ashishkumarsahoo/difumo/Data/freesurfer_121023/thalamus_standardized/sub-1027_thalamusmasked_brain_standardized.nii.gz\n",
      "Masking completed for /blue/stevenweisberg/ashishkumarsahoo/difumo/Data/freesurfer_121023/freesurfer/sub-1028/mri/brain_standardized.mgz. Output saved as /blue/stevenweisberg/ashishkumarsahoo/difumo/Data/freesurfer_121023/thalamus_standardized/sub-1028_thalamusmasked_brain_standardized.nii.gz\n",
      "Masking completed for /blue/stevenweisberg/ashishkumarsahoo/difumo/Data/freesurfer_121023/freesurfer/sub-1029/mri/brain_standardized.mgz. Output saved as /blue/stevenweisberg/ashishkumarsahoo/difumo/Data/freesurfer_121023/thalamus_standardized/sub-1029_thalamusmasked_brain_standardized.nii.gz\n",
      "Masking completed for /blue/stevenweisberg/ashishkumarsahoo/difumo/Data/freesurfer_121023/freesurfer/sub-1030/mri/brain_standardized.mgz. Output saved as /blue/stevenweisberg/ashishkumarsahoo/difumo/Data/freesurfer_121023/thalamus_standardized/sub-1030_thalamusmasked_brain_standardized.nii.gz\n",
      "Masking completed for /blue/stevenweisberg/ashishkumarsahoo/difumo/Data/freesurfer_121023/freesurfer/sub-1031/mri/brain_standardized.mgz. Output saved as /blue/stevenweisberg/ashishkumarsahoo/difumo/Data/freesurfer_121023/thalamus_standardized/sub-1031_thalamusmasked_brain_standardized.nii.gz\n",
      "Masking completed for /blue/stevenweisberg/ashishkumarsahoo/difumo/Data/freesurfer_121023/freesurfer/sub-1032/mri/brain_standardized.mgz. Output saved as /blue/stevenweisberg/ashishkumarsahoo/difumo/Data/freesurfer_121023/thalamus_standardized/sub-1032_thalamusmasked_brain_standardized.nii.gz\n",
      "Masking completed for /blue/stevenweisberg/ashishkumarsahoo/difumo/Data/freesurfer_121023/freesurfer/sub-1033/mri/brain_standardized.mgz. Output saved as /blue/stevenweisberg/ashishkumarsahoo/difumo/Data/freesurfer_121023/thalamus_standardized/sub-1033_thalamusmasked_brain_standardized.nii.gz\n",
      "Masking completed for /blue/stevenweisberg/ashishkumarsahoo/difumo/Data/freesurfer_121023/freesurfer/sub-1034/mri/brain_standardized.mgz. Output saved as /blue/stevenweisberg/ashishkumarsahoo/difumo/Data/freesurfer_121023/thalamus_standardized/sub-1034_thalamusmasked_brain_standardized.nii.gz\n",
      "Masking completed for /blue/stevenweisberg/ashishkumarsahoo/difumo/Data/freesurfer_121023/freesurfer/sub-1035/mri/brain_standardized.mgz. Output saved as /blue/stevenweisberg/ashishkumarsahoo/difumo/Data/freesurfer_121023/thalamus_standardized/sub-1035_thalamusmasked_brain_standardized.nii.gz\n",
      "Masking completed for /blue/stevenweisberg/ashishkumarsahoo/difumo/Data/freesurfer_121023/freesurfer/sub-1036/mri/brain_standardized.mgz. Output saved as /blue/stevenweisberg/ashishkumarsahoo/difumo/Data/freesurfer_121023/thalamus_standardized/sub-1036_thalamusmasked_brain_standardized.nii.gz\n",
      "Masking completed for /blue/stevenweisberg/ashishkumarsahoo/difumo/Data/freesurfer_121023/freesurfer/sub-1037/mri/brain_standardized.mgz. Output saved as /blue/stevenweisberg/ashishkumarsahoo/difumo/Data/freesurfer_121023/thalamus_standardized/sub-1037_thalamusmasked_brain_standardized.nii.gz\n",
      "Masking completed for /blue/stevenweisberg/ashishkumarsahoo/difumo/Data/freesurfer_121023/freesurfer/sub-1038/mri/brain_standardized.mgz. Output saved as /blue/stevenweisberg/ashishkumarsahoo/difumo/Data/freesurfer_121023/thalamus_standardized/sub-1038_thalamusmasked_brain_standardized.nii.gz\n",
      "Masking completed for /blue/stevenweisberg/ashishkumarsahoo/difumo/Data/freesurfer_121023/freesurfer/sub-1039/mri/brain_standardized.mgz. Output saved as /blue/stevenweisberg/ashishkumarsahoo/difumo/Data/freesurfer_121023/thalamus_standardized/sub-1039_thalamusmasked_brain_standardized.nii.gz\n",
      "Masking completed for /blue/stevenweisberg/ashishkumarsahoo/difumo/Data/freesurfer_121023/freesurfer/sub-1040/mri/brain_standardized.mgz. Output saved as /blue/stevenweisberg/ashishkumarsahoo/difumo/Data/freesurfer_121023/thalamus_standardized/sub-1040_thalamusmasked_brain_standardized.nii.gz\n",
      "Masking completed for /blue/stevenweisberg/ashishkumarsahoo/difumo/Data/freesurfer_121023/freesurfer/sub-1041/mri/brain_standardized.mgz. Output saved as /blue/stevenweisberg/ashishkumarsahoo/difumo/Data/freesurfer_121023/thalamus_standardized/sub-1041_thalamusmasked_brain_standardized.nii.gz\n",
      "Masking completed for /blue/stevenweisberg/ashishkumarsahoo/difumo/Data/freesurfer_121023/freesurfer/sub-1042/mri/brain_standardized.mgz. Output saved as /blue/stevenweisberg/ashishkumarsahoo/difumo/Data/freesurfer_121023/thalamus_standardized/sub-1042_thalamusmasked_brain_standardized.nii.gz\n",
      "Masking completed for /blue/stevenweisberg/ashishkumarsahoo/difumo/Data/freesurfer_121023/freesurfer/sub-1043/mri/brain_standardized.mgz. Output saved as /blue/stevenweisberg/ashishkumarsahoo/difumo/Data/freesurfer_121023/thalamus_standardized/sub-1043_thalamusmasked_brain_standardized.nii.gz\n",
      "Masking completed for /blue/stevenweisberg/ashishkumarsahoo/difumo/Data/freesurfer_121023/freesurfer/sub-1044/mri/brain_standardized.mgz. Output saved as /blue/stevenweisberg/ashishkumarsahoo/difumo/Data/freesurfer_121023/thalamus_standardized/sub-1044_thalamusmasked_brain_standardized.nii.gz\n",
      "Masking completed for /blue/stevenweisberg/ashishkumarsahoo/difumo/Data/freesurfer_121023/freesurfer/sub-1045/mri/brain_standardized.mgz. Output saved as /blue/stevenweisberg/ashishkumarsahoo/difumo/Data/freesurfer_121023/thalamus_standardized/sub-1045_thalamusmasked_brain_standardized.nii.gz\n",
      "Masking completed for /blue/stevenweisberg/ashishkumarsahoo/difumo/Data/freesurfer_121023/freesurfer/sub-1046/mri/brain_standardized.mgz. Output saved as /blue/stevenweisberg/ashishkumarsahoo/difumo/Data/freesurfer_121023/thalamus_standardized/sub-1046_thalamusmasked_brain_standardized.nii.gz\n",
      "Masking completed for /blue/stevenweisberg/ashishkumarsahoo/difumo/Data/freesurfer_121023/freesurfer/sub-1047/mri/brain_standardized.mgz. Output saved as /blue/stevenweisberg/ashishkumarsahoo/difumo/Data/freesurfer_121023/thalamus_standardized/sub-1047_thalamusmasked_brain_standardized.nii.gz\n",
      "Masking completed for /blue/stevenweisberg/ashishkumarsahoo/difumo/Data/freesurfer_121023/freesurfer/sub-1048/mri/brain_standardized.mgz. Output saved as /blue/stevenweisberg/ashishkumarsahoo/difumo/Data/freesurfer_121023/thalamus_standardized/sub-1048_thalamusmasked_brain_standardized.nii.gz\n",
      "Masking completed for /blue/stevenweisberg/ashishkumarsahoo/difumo/Data/freesurfer_121023/freesurfer/sub-1049/mri/brain_standardized.mgz. Output saved as /blue/stevenweisberg/ashishkumarsahoo/difumo/Data/freesurfer_121023/thalamus_standardized/sub-1049_thalamusmasked_brain_standardized.nii.gz\n",
      "Masking completed for /blue/stevenweisberg/ashishkumarsahoo/difumo/Data/freesurfer_121023/freesurfer/sub-1050/mri/brain_standardized.mgz. Output saved as /blue/stevenweisberg/ashishkumarsahoo/difumo/Data/freesurfer_121023/thalamus_standardized/sub-1050_thalamusmasked_brain_standardized.nii.gz\n",
      "Masking completed for /blue/stevenweisberg/ashishkumarsahoo/difumo/Data/freesurfer_121023/freesurfer/sub-1051/mri/brain_standardized.mgz. Output saved as /blue/stevenweisberg/ashishkumarsahoo/difumo/Data/freesurfer_121023/thalamus_standardized/sub-1051_thalamusmasked_brain_standardized.nii.gz\n",
      "Masking completed for /blue/stevenweisberg/ashishkumarsahoo/difumo/Data/freesurfer_121023/freesurfer/sub-1052/mri/brain_standardized.mgz. Output saved as /blue/stevenweisberg/ashishkumarsahoo/difumo/Data/freesurfer_121023/thalamus_standardized/sub-1052_thalamusmasked_brain_standardized.nii.gz\n",
      "Masking completed for /blue/stevenweisberg/ashishkumarsahoo/difumo/Data/freesurfer_121023/freesurfer/sub-1053/mri/brain_standardized.mgz. Output saved as /blue/stevenweisberg/ashishkumarsahoo/difumo/Data/freesurfer_121023/thalamus_standardized/sub-1053_thalamusmasked_brain_standardized.nii.gz\n",
      "Masking completed for /blue/stevenweisberg/ashishkumarsahoo/difumo/Data/freesurfer_121023/freesurfer/sub-1054/mri/brain_standardized.mgz. Output saved as /blue/stevenweisberg/ashishkumarsahoo/difumo/Data/freesurfer_121023/thalamus_standardized/sub-1054_thalamusmasked_brain_standardized.nii.gz\n",
      "Masking completed for /blue/stevenweisberg/ashishkumarsahoo/difumo/Data/freesurfer_121023/freesurfer/sub-1055/mri/brain_standardized.mgz. Output saved as /blue/stevenweisberg/ashishkumarsahoo/difumo/Data/freesurfer_121023/thalamus_standardized/sub-1055_thalamusmasked_brain_standardized.nii.gz\n",
      "Masking completed for /blue/stevenweisberg/ashishkumarsahoo/difumo/Data/freesurfer_121023/freesurfer/sub-1056/mri/brain_standardized.mgz. Output saved as /blue/stevenweisberg/ashishkumarsahoo/difumo/Data/freesurfer_121023/thalamus_standardized/sub-1056_thalamusmasked_brain_standardized.nii.gz\n",
      "Masking completed for /blue/stevenweisberg/ashishkumarsahoo/difumo/Data/freesurfer_121023/freesurfer/sub-1057/mri/brain_standardized.mgz. Output saved as /blue/stevenweisberg/ashishkumarsahoo/difumo/Data/freesurfer_121023/thalamus_standardized/sub-1057_thalamusmasked_brain_standardized.nii.gz\n",
      "Masking completed for /blue/stevenweisberg/ashishkumarsahoo/difumo/Data/freesurfer_121023/freesurfer/sub-1058/mri/brain_standardized.mgz. Output saved as /blue/stevenweisberg/ashishkumarsahoo/difumo/Data/freesurfer_121023/thalamus_standardized/sub-1058_thalamusmasked_brain_standardized.nii.gz\n",
      "Masking completed for /blue/stevenweisberg/ashishkumarsahoo/difumo/Data/freesurfer_121023/freesurfer/sub-1059/mri/brain_standardized.mgz. Output saved as /blue/stevenweisberg/ashishkumarsahoo/difumo/Data/freesurfer_121023/thalamus_standardized/sub-1059_thalamusmasked_brain_standardized.nii.gz\n",
      "Masking completed for /blue/stevenweisberg/ashishkumarsahoo/difumo/Data/freesurfer_121023/freesurfer/sub-1060/mri/brain_standardized.mgz. Output saved as /blue/stevenweisberg/ashishkumarsahoo/difumo/Data/freesurfer_121023/thalamus_standardized/sub-1060_thalamusmasked_brain_standardized.nii.gz\n",
      "Masking completed for /blue/stevenweisberg/ashishkumarsahoo/difumo/Data/freesurfer_121023/freesurfer/sub-1061/mri/brain_standardized.mgz. Output saved as /blue/stevenweisberg/ashishkumarsahoo/difumo/Data/freesurfer_121023/thalamus_standardized/sub-1061_thalamusmasked_brain_standardized.nii.gz\n",
      "Masking completed for /blue/stevenweisberg/ashishkumarsahoo/difumo/Data/freesurfer_121023/freesurfer/sub-1062/mri/brain_standardized.mgz. Output saved as /blue/stevenweisberg/ashishkumarsahoo/difumo/Data/freesurfer_121023/thalamus_standardized/sub-1062_thalamusmasked_brain_standardized.nii.gz\n",
      "Masking completed for /blue/stevenweisberg/ashishkumarsahoo/difumo/Data/freesurfer_121023/freesurfer/sub-1063/mri/brain_standardized.mgz. Output saved as /blue/stevenweisberg/ashishkumarsahoo/difumo/Data/freesurfer_121023/thalamus_standardized/sub-1063_thalamusmasked_brain_standardized.nii.gz\n",
      "Masking completed for /blue/stevenweisberg/ashishkumarsahoo/difumo/Data/freesurfer_121023/freesurfer/sub-1064/mri/brain_standardized.mgz. Output saved as /blue/stevenweisberg/ashishkumarsahoo/difumo/Data/freesurfer_121023/thalamus_standardized/sub-1064_thalamusmasked_brain_standardized.nii.gz\n",
      "Masking completed for /blue/stevenweisberg/ashishkumarsahoo/difumo/Data/freesurfer_121023/freesurfer/sub-1065/mri/brain_standardized.mgz. Output saved as /blue/stevenweisberg/ashishkumarsahoo/difumo/Data/freesurfer_121023/thalamus_standardized/sub-1065_thalamusmasked_brain_standardized.nii.gz\n",
      "Masking completed for /blue/stevenweisberg/ashishkumarsahoo/difumo/Data/freesurfer_121023/freesurfer/sub-1066/mri/brain_standardized.mgz. Output saved as /blue/stevenweisberg/ashishkumarsahoo/difumo/Data/freesurfer_121023/thalamus_standardized/sub-1066_thalamusmasked_brain_standardized.nii.gz\n",
      "Masking completed for /blue/stevenweisberg/ashishkumarsahoo/difumo/Data/freesurfer_121023/freesurfer/sub-1067/mri/brain_standardized.mgz. Output saved as /blue/stevenweisberg/ashishkumarsahoo/difumo/Data/freesurfer_121023/thalamus_standardized/sub-1067_thalamusmasked_brain_standardized.nii.gz\n",
      "Masking completed for /blue/stevenweisberg/ashishkumarsahoo/difumo/Data/freesurfer_121023/freesurfer/sub-1068/mri/brain_standardized.mgz. Output saved as /blue/stevenweisberg/ashishkumarsahoo/difumo/Data/freesurfer_121023/thalamus_standardized/sub-1068_thalamusmasked_brain_standardized.nii.gz\n",
      "Masking completed for /blue/stevenweisberg/ashishkumarsahoo/difumo/Data/freesurfer_121023/freesurfer/sub-1069/mri/brain_standardized.mgz. Output saved as /blue/stevenweisberg/ashishkumarsahoo/difumo/Data/freesurfer_121023/thalamus_standardized/sub-1069_thalamusmasked_brain_standardized.nii.gz\n",
      "Masking completed for /blue/stevenweisberg/ashishkumarsahoo/difumo/Data/freesurfer_121023/freesurfer/sub-1070/mri/brain_standardized.mgz. Output saved as /blue/stevenweisberg/ashishkumarsahoo/difumo/Data/freesurfer_121023/thalamus_standardized/sub-1070_thalamusmasked_brain_standardized.nii.gz\n",
      "Masking completed for /blue/stevenweisberg/ashishkumarsahoo/difumo/Data/freesurfer_121023/freesurfer/sub-1071/mri/brain_standardized.mgz. Output saved as /blue/stevenweisberg/ashishkumarsahoo/difumo/Data/freesurfer_121023/thalamus_standardized/sub-1071_thalamusmasked_brain_standardized.nii.gz\n",
      "Masking completed for /blue/stevenweisberg/ashishkumarsahoo/difumo/Data/freesurfer_121023/freesurfer/sub-1072/mri/brain_standardized.mgz. Output saved as /blue/stevenweisberg/ashishkumarsahoo/difumo/Data/freesurfer_121023/thalamus_standardized/sub-1072_thalamusmasked_brain_standardized.nii.gz\n",
      "Masking completed for /blue/stevenweisberg/ashishkumarsahoo/difumo/Data/freesurfer_121023/freesurfer/sub-1073/mri/brain_standardized.mgz. Output saved as /blue/stevenweisberg/ashishkumarsahoo/difumo/Data/freesurfer_121023/thalamus_standardized/sub-1073_thalamusmasked_brain_standardized.nii.gz\n",
      "Masking completed for /blue/stevenweisberg/ashishkumarsahoo/difumo/Data/freesurfer_121023/freesurfer/sub-1074/mri/brain_standardized.mgz. Output saved as /blue/stevenweisberg/ashishkumarsahoo/difumo/Data/freesurfer_121023/thalamus_standardized/sub-1074_thalamusmasked_brain_standardized.nii.gz\n",
      "Masking completed for /blue/stevenweisberg/ashishkumarsahoo/difumo/Data/freesurfer_121023/freesurfer/sub-1075/mri/brain_standardized.mgz. Output saved as /blue/stevenweisberg/ashishkumarsahoo/difumo/Data/freesurfer_121023/thalamus_standardized/sub-1075_thalamusmasked_brain_standardized.nii.gz\n",
      "Masking completed for /blue/stevenweisberg/ashishkumarsahoo/difumo/Data/freesurfer_121023/freesurfer/sub-1076/mri/brain_standardized.mgz. Output saved as /blue/stevenweisberg/ashishkumarsahoo/difumo/Data/freesurfer_121023/thalamus_standardized/sub-1076_thalamusmasked_brain_standardized.nii.gz\n",
      "Masking completed for /blue/stevenweisberg/ashishkumarsahoo/difumo/Data/freesurfer_121023/freesurfer/sub-1077/mri/brain_standardized.mgz. Output saved as /blue/stevenweisberg/ashishkumarsahoo/difumo/Data/freesurfer_121023/thalamus_standardized/sub-1077_thalamusmasked_brain_standardized.nii.gz\n",
      "Masking completed for /blue/stevenweisberg/ashishkumarsahoo/difumo/Data/freesurfer_121023/freesurfer/sub-1078/mri/brain_standardized.mgz. Output saved as /blue/stevenweisberg/ashishkumarsahoo/difumo/Data/freesurfer_121023/thalamus_standardized/sub-1078_thalamusmasked_brain_standardized.nii.gz\n",
      "Masking completed for /blue/stevenweisberg/ashishkumarsahoo/difumo/Data/freesurfer_121023/freesurfer/sub-1079/mri/brain_standardized.mgz. Output saved as /blue/stevenweisberg/ashishkumarsahoo/difumo/Data/freesurfer_121023/thalamus_standardized/sub-1079_thalamusmasked_brain_standardized.nii.gz\n",
      "Masking completed for /blue/stevenweisberg/ashishkumarsahoo/difumo/Data/freesurfer_121023/freesurfer/sub-1080/mri/brain_standardized.mgz. Output saved as /blue/stevenweisberg/ashishkumarsahoo/difumo/Data/freesurfer_121023/thalamus_standardized/sub-1080_thalamusmasked_brain_standardized.nii.gz\n",
      "Masking completed for /blue/stevenweisberg/ashishkumarsahoo/difumo/Data/freesurfer_121023/freesurfer/sub-1081/mri/brain_standardized.mgz. Output saved as /blue/stevenweisberg/ashishkumarsahoo/difumo/Data/freesurfer_121023/thalamus_standardized/sub-1081_thalamusmasked_brain_standardized.nii.gz\n",
      "Masking completed for /blue/stevenweisberg/ashishkumarsahoo/difumo/Data/freesurfer_121023/freesurfer/sub-1082/mri/brain_standardized.mgz. Output saved as /blue/stevenweisberg/ashishkumarsahoo/difumo/Data/freesurfer_121023/thalamus_standardized/sub-1082_thalamusmasked_brain_standardized.nii.gz\n",
      "Masking completed for /blue/stevenweisberg/ashishkumarsahoo/difumo/Data/freesurfer_121023/freesurfer/sub-1083/mri/brain_standardized.mgz. Output saved as /blue/stevenweisberg/ashishkumarsahoo/difumo/Data/freesurfer_121023/thalamus_standardized/sub-1083_thalamusmasked_brain_standardized.nii.gz\n",
      "Masking completed for /blue/stevenweisberg/ashishkumarsahoo/difumo/Data/freesurfer_121023/freesurfer/sub-1084/mri/brain_standardized.mgz. Output saved as /blue/stevenweisberg/ashishkumarsahoo/difumo/Data/freesurfer_121023/thalamus_standardized/sub-1084_thalamusmasked_brain_standardized.nii.gz\n",
      "Masking completed for /blue/stevenweisberg/ashishkumarsahoo/difumo/Data/freesurfer_121023/freesurfer/sub-1085/mri/brain_standardized.mgz. Output saved as /blue/stevenweisberg/ashishkumarsahoo/difumo/Data/freesurfer_121023/thalamus_standardized/sub-1085_thalamusmasked_brain_standardized.nii.gz\n",
      "Masking completed for /blue/stevenweisberg/ashishkumarsahoo/difumo/Data/freesurfer_121023/freesurfer/sub-1086/mri/brain_standardized.mgz. Output saved as /blue/stevenweisberg/ashishkumarsahoo/difumo/Data/freesurfer_121023/thalamus_standardized/sub-1086_thalamusmasked_brain_standardized.nii.gz\n",
      "Masking completed for /blue/stevenweisberg/ashishkumarsahoo/difumo/Data/freesurfer_121023/freesurfer/sub-1087/mri/brain_standardized.mgz. Output saved as /blue/stevenweisberg/ashishkumarsahoo/difumo/Data/freesurfer_121023/thalamus_standardized/sub-1087_thalamusmasked_brain_standardized.nii.gz\n",
      "Masking completed for /blue/stevenweisberg/ashishkumarsahoo/difumo/Data/freesurfer_121023/freesurfer/sub-1088/mri/brain_standardized.mgz. Output saved as /blue/stevenweisberg/ashishkumarsahoo/difumo/Data/freesurfer_121023/thalamus_standardized/sub-1088_thalamusmasked_brain_standardized.nii.gz\n",
      "Masking completed for /blue/stevenweisberg/ashishkumarsahoo/difumo/Data/freesurfer_121023/freesurfer/sub-1089/mri/brain_standardized.mgz. Output saved as /blue/stevenweisberg/ashishkumarsahoo/difumo/Data/freesurfer_121023/thalamus_standardized/sub-1089_thalamusmasked_brain_standardized.nii.gz\n",
      "Masking completed for /blue/stevenweisberg/ashishkumarsahoo/difumo/Data/freesurfer_121023/freesurfer/sub-1090/mri/brain_standardized.mgz. Output saved as /blue/stevenweisberg/ashishkumarsahoo/difumo/Data/freesurfer_121023/thalamus_standardized/sub-1090_thalamusmasked_brain_standardized.nii.gz\n",
      "Masking completed for /blue/stevenweisberg/ashishkumarsahoo/difumo/Data/freesurfer_121023/freesurfer/sub-1091/mri/brain_standardized.mgz. Output saved as /blue/stevenweisberg/ashishkumarsahoo/difumo/Data/freesurfer_121023/thalamus_standardized/sub-1091_thalamusmasked_brain_standardized.nii.gz\n",
      "Masking completed for /blue/stevenweisberg/ashishkumarsahoo/difumo/Data/freesurfer_121023/freesurfer/sub-1092/mri/brain_standardized.mgz. Output saved as /blue/stevenweisberg/ashishkumarsahoo/difumo/Data/freesurfer_121023/thalamus_standardized/sub-1092_thalamusmasked_brain_standardized.nii.gz\n"
     ]
    }
   ],
   "source": [
    "import nibabel as nib\n",
    "import numpy as np\n",
    "\n",
    "# Lists containing filenames\n",
    "#raw_list = ['rawavg1.mgz', 'rawavg2.mgz', 'rawavg3.mgz']  # Replace with your rawavg_img filenames\n",
    "#mask_list = ['mask1.nii.gz', 'mask2.nii.gz', 'mask3.nii.gz']  # Replace with your hippocampus_mask filenames\n",
    "#output_list = ['masked_output1.nii.gz', 'masked_output2.nii.gz', 'masked_output3.nii.gz']  # Replace with desired output filenames\n",
    "\n",
    "for brain_file, mask_file, output_file in zip(brain_list, mask_list, output_list):\n",
    "    # Load the MRI image and mask\n",
    "    rawavg_img = nib.load(brain_file)\n",
    "    mask_img = nib.load(mask_file)\n",
    "\n",
    "    # Get the data arrays from the images\n",
    "    rawavg_data = rawavg_img.get_fdata()\n",
    "    mask_data = mask_img.get_fdata()\n",
    "\n",
    "    # Apply the mask\n",
    "    masked_data = np.where(mask_data == 1, rawavg_data, 0)\n",
    "\n",
    "    # Create a new NIfTI image with the masked data\n",
    "    masked_img = nib.Nifti1Image(masked_data, rawavg_img.affine)\n",
    "\n",
    "    # Save the masked image\n",
    "    nib.save(masked_img, output_file)\n",
    "\n",
    "    print(f\"Masking completed for {brain_file}. Output saved as {output_file}\")"
   ]
  },
  {
   "cell_type": "code",
   "execution_count": 16,
   "id": "630b8b17-da22-485c-b9f6-8165b0bdd601",
   "metadata": {
    "tags": []
   },
   "outputs": [
    {
     "name": "stdout",
     "output_type": "stream",
     "text": [
      "Commands saved to thalamus_standarized.txt\n"
     ]
    }
   ],
   "source": [
    "# MAINLY TO DOWNSAMPLE BRAIN.MGZ FOR 0.8MM3 TO 1MM3 TO BE IN LINE WITH OTHER PARTICIPANTS\n",
    "\n",
    "# Define the list of subject IDs\n",
    "subjects = [\n",
    "    1053, 1054, 1055, 1056, 1057, 1058, 1059, 1060, 1061, 1062,\n",
    "    1063, 1064, 1065, 1066, 1067, 1068, 1069, 1070, 1071, 1072,\n",
    "    1074, 1075, 1076, 1077, 1078, 1079, 1080\n",
    "]\n",
    "\n",
    "# Define a function to generate the mri_convert command\n",
    "def generate_mri_convert_command(subject_id):\n",
    "    input_path = f\"/blue/stevenweisberg/ashishkumarsahoo/difumo/Data/freesurfer_121023/thalamus/sub-{subject_id}_thalamusmasked_brain.nii.gz\"\n",
    "    output_path = f\"/blue/stevenweisberg/ashishkumarsahoo/difumo/Data/freesurfer_121023/thalamus/sub-{subject_id}_thalamusmasked_brain_standardized.nii.gz\"\n",
    "    return f\"mri_convert -i {input_path} -o {output_path} -c\"\n",
    "\n",
    "# Generate the mri_convert commands for all subjects\n",
    "mri_convert_commands = [generate_mri_convert_command(subject) for subject in subjects]\n",
    "\n",
    "# Define the output file name\n",
    "output_file = \"thalamus_standarized.txt\"\n",
    "\n",
    "# Save the commands to the output file\n",
    "with open(output_file, \"w\") as file:\n",
    "    for command in mri_convert_commands:\n",
    "        file.write(command + \"\\n\")\n",
    "\n",
    "print(f\"Commands saved to {output_file}\")"
   ]
  },
  {
   "cell_type": "code",
   "execution_count": 10,
   "id": "4db2a593-7902-4fa4-b81c-96a25f01ed6f",
   "metadata": {
    "tags": []
   },
   "outputs": [
    {
     "data": {
      "text/plain": [
       "(19609, 3)"
      ]
     },
     "execution_count": 10,
     "metadata": {},
     "output_type": "execute_result"
    }
   ],
   "source": [
    "subjects = pd.read_csv(r'/blue/stevenweisberg/ashishkumarsahoo/hippocampAI/participants.tsv',sep='\\t',header=0)\n",
    "subjs = subjects.participant_id\n",
    "#region_name = \"MNI_whole_brain_0208\"\n",
    "#sw/ashishkumarsahoo/difumo/Data/hippocampus_090823/freesurfer/sub-1025/mri/aseg-in-rawavg.mgz\n",
    "\n",
    "standard_list = [\"cp -n /blue/stevenweisberg/ashishkumarsahoo/difumo/Data/freesurfer_121023/thalamus/{}_thalamusmasked_brain.nii.gz /blue/stevenweisberg/ashishkumarsahoo/difumo/Data/freesurfer_121023/thalamus/{}_thalamusmasked_brain_standardized.mgz\".format(subj, subj) for subj in subjs]\n",
    "\n",
    "with open('thalamus_standard_list.txt', 'w') as f:\n",
    "    for standard in standard_list:\n",
    "        f.write(standard + '\\n')"
   ]
  },
  {
   "cell_type": "code",
   "execution_count": null,
   "id": "bb5cf72e-1544-41fa-b904-10a4d91ecc0b",
   "metadata": {},
   "outputs": [],
   "source": []
  }
 ],
 "metadata": {
  "kernelspec": {
   "display_name": "UFRC Python-3.10",
   "language": "python",
   "name": "python3-3.10-ufrc"
  },
  "language_info": {
   "codemirror_mode": {
    "name": "ipython",
    "version": 3
   },
   "file_extension": ".py",
   "mimetype": "text/x-python",
   "name": "python",
   "nbconvert_exporter": "python",
   "pygments_lexer": "ipython3",
   "version": "3.10.8"
  }
 },
 "nbformat": 4,
 "nbformat_minor": 5
}
